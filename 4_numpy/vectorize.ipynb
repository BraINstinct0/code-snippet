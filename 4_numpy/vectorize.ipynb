{
 "cells": [
  {
   "cell_type": "markdown",
   "metadata": {},
   "source": [
    "### Numpy Vectorization\n",
    "> https://www.geeksforgeeks.org/vectorization-in-python/"
   ]
  },
  {
   "cell_type": "markdown",
   "metadata": {},
   "source": [
    "> **outer(a, b) :** Outer product.  \n",
    "> **multiply(a, b) :** Element wise product.  \n",
    "> **dot(a, b) :** Inner product.  \n",
    "> **zeros((n,m)) :** (n,m) matrix filled with zeros.  \n",
    "> **process_time() :** (system + user CPU) time of the process.  "
   ]
  },
  {
   "cell_type": "code",
   "execution_count": 1,
   "metadata": {},
   "outputs": [],
   "source": [
    "import time\n",
    "import numpy as np\n",
    "import array"
   ]
  },
  {
   "cell_type": "markdown",
   "metadata": {},
   "source": [
    "#### 1. Dot Product"
   ]
  },
  {
   "cell_type": "markdown",
   "metadata": {},
   "source": [
    "![dot product](./images/dotproduct.png)"
   ]
  },
  {
   "cell_type": "markdown",
   "metadata": {},
   "source": [
    "* 8 byte size int"
   ]
  },
  {
   "cell_type": "code",
   "execution_count": 8,
   "metadata": {},
   "outputs": [],
   "source": [
    "\n",
    "a = array.array('q')\n",
    "for i in range(100000):\n",
    "  a.append(i);\n",
    "\n",
    "b = array.array('q')\n",
    "for i in range(100000, 200000):\n",
    "  b.append(i)"
   ]
  },
  {
   "cell_type": "markdown",
   "metadata": {},
   "source": [
    "##### 1.1. classic dot product of vectors implement"
   ]
  },
  {
   "cell_type": "code",
   "execution_count": 10,
   "metadata": {},
   "outputs": [
    {
     "name": "stdout",
     "output_type": "stream",
     "text": [
      "dot_product = 833323333350000.0\n",
      "computation time = 31.25 ms\n"
     ]
    }
   ],
   "source": [
    "tic = time.process_time()\n",
    "dot = 0.0;\n",
    "\n",
    "for i in range(len(a)):\n",
    "  dot += a[i] * b[i]\n",
    "\n",
    "toc = time.process_time()\n",
    "\n",
    "print('dot_product = {}'.format(dot));\n",
    "print('computation time = {} ms'.format(1000*(toc-tic)))"
   ]
  },
  {
   "cell_type": "markdown",
   "metadata": {},
   "source": [
    "##### 1.2. numpy dot product"
   ]
  },
  {
   "cell_type": "code",
   "execution_count": 11,
   "metadata": {},
   "outputs": [
    {
     "name": "stdout",
     "output_type": "stream",
     "text": [
      "dot_product = 833323333350000\n",
      "computation time = 0.0 ms\n"
     ]
    }
   ],
   "source": [
    "n_tic = time.process_time()\n",
    "n_dot_product = np.dot(a, b)\n",
    "n_toc = time.process_time()\n",
    "\n",
    "print('dot_product = {}'.format(n_dot_product))\n",
    "print('computation time = {} ms'.format(1000*(n_toc - n_tic)))"
   ]
  },
  {
   "cell_type": "markdown",
   "metadata": {},
   "source": [
    "#### 2. Outer Product"
   ]
  },
  {
   "cell_type": "markdown",
   "metadata": {},
   "source": [
    "![outer product](./images/outerProduct.png)"
   ]
  },
  {
   "cell_type": "code",
   "execution_count": 12,
   "metadata": {},
   "outputs": [],
   "source": [
    "a = array.array('i')\n",
    "for i in range(200):\n",
    "  a.append(i);\n",
    "  \n",
    "b = array.array('i')\n",
    "for i in range(200, 400):\n",
    "  b.append(i)"
   ]
  },
  {
   "cell_type": "markdown",
   "metadata": {},
   "source": [
    "##### 2.1. classic outer product of vecters implementation"
   ]
  },
  {
   "cell_type": "code",
   "execution_count": 13,
   "metadata": {},
   "outputs": [
    {
     "name": "stdout",
     "output_type": "stream",
     "text": [
      "outer_product = [[    0.     0.     0. ...     0.     0.     0.]\n",
      " [  200.   201.   202. ...   397.   398.   399.]\n",
      " [  400.   402.   404. ...   794.   796.   798.]\n",
      " ...\n",
      " [39400. 39597. 39794. ... 78209. 78406. 78603.]\n",
      " [39600. 39798. 39996. ... 78606. 78804. 79002.]\n",
      " [39800. 39999. 40198. ... 79003. 79202. 79401.]]\n",
      "computation time = 31.25 ms\n"
     ]
    }
   ],
   "source": [
    "tic = time.process_time()\n",
    "outer_product = np.zeros((200, 200))\n",
    "\n",
    "for i in range(len(a)):\n",
    "  for j in range(len(b)):\n",
    "    outer_product[i][j] = a[i]*b[j]\n",
    "\n",
    "toc = time.process_time()\n",
    "\n",
    "print('outer_product = {}'.format(outer_product))\n",
    "print('computation time = {} ms'.format(1000 * (toc-tic)))"
   ]
  },
  {
   "cell_type": "markdown",
   "metadata": {},
   "source": [
    "##### 2.2. numpy outer product"
   ]
  },
  {
   "cell_type": "code",
   "execution_count": 15,
   "metadata": {},
   "outputs": [
    {
     "name": "stdout",
     "output_type": "stream",
     "text": [
      "outer_product = [[    0     0     0 ...     0     0     0]\n",
      " [  200   201   202 ...   397   398   399]\n",
      " [  400   402   404 ...   794   796   798]\n",
      " ...\n",
      " [39400 39597 39794 ... 78209 78406 78603]\n",
      " [39600 39798 39996 ... 78606 78804 79002]\n",
      " [39800 39999 40198 ... 79003 79202 79401]]\n",
      "computation time = 0.0 ms\n"
     ]
    }
   ],
   "source": [
    "n_tic = time.process_time()\n",
    "outer_product = np.outer(a, b)\n",
    "n_toc = time.process_time()\n",
    "\n",
    "print('outer_product = {}'.format(outer_product))\n",
    "print('computation time = {} ms'.format(1000 * (n_toc-n_tic)))"
   ]
  },
  {
   "cell_type": "markdown",
   "metadata": {},
   "source": [
    "#### 3. Element wise Product"
   ]
  },
  {
   "cell_type": "markdown",
   "metadata": {},
   "source": [
    "![element wise product](./images/ElementwiseProduct.png)"
   ]
  },
  {
   "cell_type": "code",
   "execution_count": 16,
   "metadata": {},
   "outputs": [],
   "source": [
    "a = array.array('i')\n",
    "for i in range(50000):\n",
    "  a.append(i);\n",
    "\n",
    "b = array.array('i')\n",
    "for i in range(50000, 100000):\n",
    "  b.append(i)"
   ]
  },
  {
   "cell_type": "markdown",
   "metadata": {},
   "source": [
    "##### 3.1. Classic element wise product of vectors implementation"
   ]
  },
  {
   "cell_type": "code",
   "execution_count": 17,
   "metadata": {},
   "outputs": [
    {
     "name": "stdout",
     "output_type": "stream",
     "text": [
      "element wise product = [0.00000000e+00 5.00010000e+04 1.00004000e+05 ... 4.99955001e+09\n",
      " 4.99970000e+09 4.99985000e+09]\n",
      "computation time = 15.625 ms\n"
     ]
    }
   ],
   "source": [
    "vector = np.zeros((50000))\n",
    "\n",
    "tic = time.process_time()\n",
    "\n",
    "for i in range(len(a)):\n",
    "  vector[i] = a[i]*b[i]\n",
    "\n",
    "toc = time.process_time()\n",
    "\n",
    "print('element wise product = {}'.format(vector))\n",
    "print('computation time = {} ms'.format(1000 * (toc-tic)))"
   ]
  },
  {
   "cell_type": "markdown",
   "metadata": {},
   "source": [
    "##### 3.2. numpy element wise product"
   ]
  },
  {
   "cell_type": "code",
   "execution_count": 18,
   "metadata": {},
   "outputs": [
    {
     "name": "stdout",
     "output_type": "stream",
     "text": [
      "element wise product = [        0     50001    100004 ... 704582713 704732708 704882705]\n",
      "computation time = 0.0 ms\n"
     ]
    }
   ],
   "source": [
    "n_tic = time.process_time()\n",
    "\n",
    "vector = np.multiply(a, b)\n",
    "\n",
    "n_toc = time.process_time()\n",
    "\n",
    "print('element wise product = {}'.format(vector))\n",
    "print('computation time = {} ms'.format(1000 * (n_toc-n_tic)))"
   ]
  }
 ],
 "metadata": {
  "kernelspec": {
   "display_name": "Python 3",
   "language": "python",
   "name": "python3"
  },
  "language_info": {
   "codemirror_mode": {
    "name": "ipython",
    "version": 3
   },
   "file_extension": ".py",
   "mimetype": "text/x-python",
   "name": "python",
   "nbconvert_exporter": "python",
   "pygments_lexer": "ipython3",
   "version": "3.6.7"
  }
 },
 "nbformat": 4,
 "nbformat_minor": 4
}
