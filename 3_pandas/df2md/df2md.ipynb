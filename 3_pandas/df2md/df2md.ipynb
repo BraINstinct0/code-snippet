{
 "cells": [
  {
   "cell_type": "markdown",
   "metadata": {},
   "source": [
    "#### Visualization of pd.DataFrame as a Markdown format\n",
    "* Useful to generate markdown document"
   ]
  },
  {
   "cell_type": "code",
   "execution_count": 47,
   "metadata": {},
   "outputs": [],
   "source": [
    "# Nice representation of dataframe in markdown\n",
    "import pandas as pd\n",
    "import copy\n",
    "import warnings\n",
    "from IPython.display import Markdown, display\n",
    "\n",
    "def df2md(df, maxlen=20, indexname='(index)'):\n",
    "    _df = copy.deepcopy(df)\n",
    "    \n",
    "    for col in _df.columns:\n",
    "        _df[col] = _df[col].astype('str')\n",
    "        if (_df[col].str.len()> maxlen).any() :\n",
    "            _df[col].loc[_df[col].str.len() > maxlen] = _df[col].str.slice(stop=maxlen) + ' ...'\n",
    "\n",
    "    if indexname in _df.columns:\n",
    "        while(indexname in _df.columns):\n",
    "            indexname='_'+indexname\n",
    "        warnings.warn(\"The index name shouldn't overlap other column names. {} will be used instead.\\nConsider changing the indexname parameter.\".format(indexname), SyntaxWarning)\n",
    "    _df.insert(0, indexname, df.index)\n",
    "    \n",
    "    fmt = ['---' for i in range(len(_df.columns))]\n",
    "    df_fmt = pd.DataFrame([fmt], columns=_df.columns)\n",
    "    df_formatted = pd.concat([df_fmt, _df])\n",
    "    # Markdown's sep character '|' should not be used in the dataframe; otehrwise the output may act weirdly.\n",
    "    # If the dataframe includes '|' in it, consider replacing it with other characters like ' ∕', '\\', '/', '𐤖', '𝘭', '╿', etc.\n",
    "    display(Markdown(df_formatted.to_csv(sep='|', index=False)))\n",
    "    _df.drop(columns=indexname, axis=1, inplace=True)"
   ]
  },
  {
   "cell_type": "markdown",
   "metadata": {},
   "source": [
    "##### Example: `geodataframe` of `geopandas` "
   ]
  },
  {
   "cell_type": "code",
   "execution_count": 50,
   "metadata": {},
   "outputs": [
    {
     "data": {
      "text/markdown": [
       "(index)|SGG_NM|DONG_NM|SGG_CODE|H_CODE|SEDAE|SEDAE_INGU|TOTAL_POP|MALE_POP|FEMALE_POP|65_OVER|geometry\n",
       "---|---|---|---|---|---|---|---|---|---|---|---\n",
       "0|종로구|사직동|11110|1111000|4414|2.14|9717|4467|5250|1708|POLYGON ((126.976888 ...\n",
       "1|종로구|삼청동|11110|1111000|1414|2.06|3097|1459|1638|634|POLYGON ((126.982689 ...\n",
       "2|종로구|부암동|11110|1111000|4325|2.39|10726|5160|5566|1748|POLYGON ((126.975851 ...\n",
       "3|종로구|평창동|11110|1111000|7510|2.53|19163|9032|10131|3037|POLYGON ((126.975074 ...\n",
       "4|종로구|무악동|11110|1111000|3024|2.75|8375|3921|4454|1279|POLYGON ((126.960673 ...\n",
       "5|종로구|교남동|11110|1111000|4379|2.34|10363|4850|5513|1406|POLYGON ((126.969048 ...\n",
       "6|종로구|가회동|11110|1111000|2085|2.17|4657|2194|2463|900|POLYGON ((126.989135 ...\n",
       "7|종로구|종로1.2.3.4가동|11110|1111000|5378|1.41|8592|5045|3547|1865|POLYGON ((126.996499 ...\n",
       "8|종로구|종로5·6가동|11110|1111000|3174|1.69|5690|3096|2594|1089|POLYGON ((127.010160 ...\n",
       "9|종로구|이화동|11110|1111000|4462|1.85|8752|4075|4677|1302|POLYGON ((127.007332 ...\n"
      ],
      "text/plain": [
       "<IPython.core.display.Markdown object>"
      ]
     },
     "metadata": {},
     "output_type": "display_data"
    }
   ],
   "source": [
    "# Defulat max. length = 20\n",
    "df2md(seoul_h_dong_gdf.head(10))  "
   ]
  },
  {
   "cell_type": "code",
   "execution_count": 53,
   "metadata": {},
   "outputs": [
    {
     "data": {
      "text/markdown": [
       "(index)|SGG_NM|DONG_NM|SGG_CODE|H_CODE|SEDAE|SEDAE_INGU|TOTAL_POP|MALE_POP|FEMALE_POP|65_OVER|geometry\n",
       "---|---|---|---|---|---|---|---|---|---|---|---\n",
       "0|종로구|사직동|11110|11110 ...|4414|2.14|9717|4467|5250|1708|POLYG ...\n",
       "1|종로구|삼청동|11110|11110 ...|1414|2.06|3097|1459|1638|634|POLYG ...\n",
       "2|종로구|부암동|11110|11110 ...|4325|2.39|10726|5160|5566|1748|POLYG ...\n",
       "3|종로구|평창동|11110|11110 ...|7510|2.53|19163|9032|10131|3037|POLYG ...\n",
       "4|종로구|무악동|11110|11110 ...|3024|2.75|8375|3921|4454|1279|POLYG ...\n",
       "5|종로구|교남동|11110|11110 ...|4379|2.34|10363|4850|5513|1406|POLYG ...\n",
       "6|종로구|가회동|11110|11110 ...|2085|2.17|4657|2194|2463|900|POLYG ...\n",
       "7|종로구|종로1.2 ...|11110|11110 ...|5378|1.41|8592|5045|3547|1865|POLYG ...\n",
       "8|종로구|종로5·6 ...|11110|11110 ...|3174|1.69|5690|3096|2594|1089|POLYG ...\n",
       "9|종로구|이화동|11110|11110 ...|4462|1.85|8752|4075|4677|1302|POLYG ...\n"
      ],
      "text/plain": [
       "<IPython.core.display.Markdown object>"
      ]
     },
     "metadata": {},
     "output_type": "display_data"
    }
   ],
   "source": [
    "# For shorter max. length = 5\n",
    "df2md(seoul_h_dong_gdf.head(10), maxlen=5)  "
   ]
  },
  {
   "cell_type": "markdown",
   "metadata": {},
   "source": [
    "* Contrary: standard print() function"
   ]
  },
  {
   "cell_type": "code",
   "execution_count": 54,
   "metadata": {},
   "outputs": [
    {
     "name": "stdout",
     "output_type": "stream",
     "text": [
      "  SGG_NM      DONG_NM SGG_CODE   H_CODE  SEDAE  SEDAE_INGU  TOTAL_POP  \\\n",
      "0    종로구          사직동    11110  1111000   4414        2.14       9717   \n",
      "1    종로구          삼청동    11110  1111000   1414        2.06       3097   \n",
      "2    종로구          부암동    11110  1111000   4325        2.39      10726   \n",
      "3    종로구          평창동    11110  1111000   7510        2.53      19163   \n",
      "4    종로구          무악동    11110  1111000   3024        2.75       8375   \n",
      "5    종로구          교남동    11110  1111000   4379        2.34      10363   \n",
      "6    종로구          가회동    11110  1111000   2085        2.17       4657   \n",
      "7    종로구  종로1.2.3.4가동    11110  1111000   5378        1.41       8592   \n",
      "8    종로구      종로5·6가동    11110  1111000   3174        1.69       5690   \n",
      "9    종로구          이화동    11110  1111000   4462        1.85       8752   \n",
      "\n",
      "   MALE_POP  FEMALE_POP  65_OVER  \\\n",
      "0      4467        5250     1708   \n",
      "1      1459        1638      634   \n",
      "2      5160        5566     1748   \n",
      "3      9032       10131     3037   \n",
      "4      3921        4454     1279   \n",
      "5      4850        5513     1406   \n",
      "6      2194        2463      900   \n",
      "7      5045        3547     1865   \n",
      "8      3096        2594     1089   \n",
      "9      4075        4677     1302   \n",
      "\n",
      "                                            geometry  \n",
      "0  POLYGON ((126.9768888427482 37.57565077944879,...  \n",
      "1  POLYGON ((126.982689386493 37.5950655194224, 1...  \n",
      "2  POLYGON ((126.9758511377569 37.59656422224408,...  \n",
      "3  POLYGON ((126.9750746678809 37.63138628651299,...  \n",
      "4  POLYGON ((126.960673532739 37.58079784202972, ...  \n",
      "5  POLYGON ((126.9690483700185 37.56819441770833,...  \n",
      "6  POLYGON ((126.9891359030894 37.59130668631862,...  \n",
      "7  POLYGON ((126.9964997845193 37.5810225677299, ...  \n",
      "8  POLYGON ((127.0101604483956 37.57156810157083,...  \n",
      "9  POLYGON ((127.0073325396313 37.58320333921623,...  \n"
     ]
    }
   ],
   "source": [
    "print(seoul_h_dong_gdf.head(10))"
   ]
  }
 ],
 "metadata": {
  "kernelspec": {
   "display_name": "geocoding",
   "language": "python",
   "name": "geocoding"
  },
  "language_info": {
   "codemirror_mode": {
    "name": "ipython",
    "version": 3
   },
   "file_extension": ".py",
   "mimetype": "text/x-python",
   "name": "python",
   "nbconvert_exporter": "python",
   "pygments_lexer": "ipython3",
   "version": "3.7.3"
  }
 },
 "nbformat": 4,
 "nbformat_minor": 4
}
