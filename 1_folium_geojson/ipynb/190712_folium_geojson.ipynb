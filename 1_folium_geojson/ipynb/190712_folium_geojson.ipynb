{
 "cells": [
  {
   "cell_type": "markdown",
   "metadata": {},
   "source": [
    "# Overlay Administrative District on Map using folium and geojson\n",
    "* The following code is taken from:  \n",
    "> https://ericnjennifer.github.io/python_visualization/2018/01/21/PythonVisualization_Chapt6.html  \n",
    "> https://python-visualization.github.io/folium/quickstart.html"
   ]
  },
  {
   "cell_type": "markdown",
   "metadata": {},
   "source": [
    "## 0. Export map (.html) to image (.png)\n",
    "* In this example, `google chrome` browser was used,  which requires **<a href=\"http://chromedriver.chromium.org/downloads\">`ChromeDriver`-WebDriver for Chrome</a>**.\n",
    "* `ChromeDriver` requires `path` to be called by python script. "
   ]
  },
  {
   "cell_type": "code",
   "execution_count": 11,
   "metadata": {},
   "outputs": [],
   "source": [
    "from selenium import webdriver\n",
    "import time, os\n",
    "\n",
    "def export_png(m,                          # foium map instance\n",
    "               html_name,                       # str. ex. 'testmap.html'\n",
    "               png_name='map.png',    # str. ex. 'testmap.png'\n",
    "               delay=5,                             # int or float. ex. 10\n",
    "              ):\n",
    "  \n",
    "  delay=delay\n",
    "  fn = html_name\n",
    "  tmpurl='file://{path}/{mapfile}'.format(path=os.getcwd(),mapfile=fn)\n",
    "  m.save(fn)\n",
    "\n",
    "  browser = webdriver.Chrome()\n",
    "  browser.get(tmpurl)\n",
    "  \n",
    "  #Give the map tiles some time to load\n",
    "  time.sleep(delay)\n",
    "  browser.save_screenshot('./images/'+png_name)\n",
    "  browser.quit()"
   ]
  },
  {
   "cell_type": "markdown",
   "metadata": {},
   "source": [
    "## 1. Object creation"
   ]
  },
  {
   "cell_type": "code",
   "execution_count": 12,
   "metadata": {},
   "outputs": [],
   "source": [
    "import folium\n",
    "map_osm = folium.Map(location=[37.566345, 126.977893])   # 서울특별시청\n",
    "#map_osm.save('./map1.html')      # 파일이 저장될 위치\n",
    "export_png(map_osm, 'map1.html', 'map1.png')\n",
    "#map_osm"
   ]
  },
  {
   "cell_type": "markdown",
   "metadata": {},
   "source": [
    "<img src=\"./images/map1.png\" height=\"400\" width=\"400\">"
   ]
  },
  {
   "cell_type": "markdown",
   "metadata": {},
   "source": [
    "* 초기 화면 지정"
   ]
  },
  {
   "cell_type": "markdown",
   "metadata": {},
   "source": [
    "* 다른 유형의 맵 호출"
   ]
  }
 ],
 "metadata": {
  "kernelspec": {
   "display_name": "Python 3",
   "language": "python",
   "name": "python3"
  },
  "language_info": {
   "codemirror_mode": {
    "name": "ipython",
    "version": 3
   },
   "file_extension": ".py",
   "mimetype": "text/x-python",
   "name": "python",
   "nbconvert_exporter": "python",
   "pygments_lexer": "ipython3",
   "version": "3.6.7"
  }
 },
 "nbformat": 4,
 "nbformat_minor": 2
}
