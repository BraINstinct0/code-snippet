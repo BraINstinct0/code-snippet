{
 "cells": [
  {
   "cell_type": "markdown",
   "metadata": {},
   "source": [
    "# Overlay Administrative District on Map using folium and geojson\n",
    "* Official github of `folium`\n",
    "> https://github.com/python-visualization/folium\n",
    "* Core of the following code is taken from:  \n",
    "> https://ericnjennifer.github.io/python_visualization/2018/01/21/PythonVisualization_Chapt6.html  \n",
    "> https://python-visualization.github.io/folium/quickstart.html  \n",
    "> https://neurowhai.tistory.com/350  \n",
    "> https://dailyheumsi.tistory.com/85  \n",
    "> https://dailyheumsi.tistory.com/92"
   ]
  },
  {
   "cell_type": "markdown",
   "metadata": {},
   "source": [
    "## 0. Export map (.html) to image (.png)\n",
    "* In this example, `google chrome` browser was used,  which requires **<a href=\"http://chromedriver.chromium.org/downloads\">`ChromeDriver`-WebDriver for Chrome</a>**.\n",
    "* `ChromeDriver` requires `path` to be called by python script. "
   ]
  },
  {
   "cell_type": "code",
   "execution_count": 1,
   "metadata": {},
   "outputs": [],
   "source": [
    "from selenium import webdriver\n",
    "import time, os\n",
    "\n",
    "def export_png(m,                     # foium map instance\n",
    "               html_name,             # str. ex. 'testmap.html'\n",
    "               png_name='map.png',    # str. ex. 'testmap.png'\n",
    "               delay=5,               # int or float. ex. 10\n",
    "              ):\n",
    "  \n",
    "  delay=delay\n",
    "  fn = 'html/' + html_name\n",
    "  tmpurl='file://{path}/{mapfile}'.format(path=os.getcwd(),mapfile=fn)\n",
    "  m.save(fn)\n",
    "\n",
    "  browser = webdriver.Chrome()\n",
    "  browser.get(tmpurl)\n",
    "  \n",
    "  #Give the map tiles some time to load\n",
    "  time.sleep(delay)\n",
    "  browser.save_screenshot('./images/'+png_name)\n",
    "  browser.quit()"
   ]
  },
  {
   "cell_type": "markdown",
   "metadata": {},
   "source": [
    "## 1. Basic : Seoul Map\n",
    "### 1.0. Object creation"
   ]
  },
  {
   "cell_type": "code",
   "execution_count": 2,
   "metadata": {},
   "outputs": [],
   "source": [
    "import folium\n",
    "\n",
    "map_osm = folium.Map(location=[37.566345, 126.977893])   # Seoul City Hall\n",
    "#map_osm.save('./map1.html')      # Save map as html\n",
    "export_png(map_osm, 'map1.html', 'map1.png')   # Save map as png\n",
    "#map_osm    # Show map on Notebook"
   ]
  },
  {
   "cell_type": "markdown",
   "metadata": {},
   "source": [
    "<img src=\"./images/map1.png\" height=\"400\" width=\"400\">"
   ]
  },
  {
   "cell_type": "markdown",
   "metadata": {},
   "source": [
    "### 1.1. Set Initial Zoom"
   ]
  },
  {
   "cell_type": "code",
   "execution_count": 3,
   "metadata": {},
   "outputs": [],
   "source": [
    "map_osm = folium.Map(location=[37.566345, 126.977893], zoom_start=17)  # Zoom Level Set\n",
    "export_png(map_osm, 'map2.html', 'map2.png')"
   ]
  },
  {
   "cell_type": "markdown",
   "metadata": {},
   "source": [
    "<img src=\"./images/map2.png\" height=\"400\" width=\"400\">"
   ]
  },
  {
   "cell_type": "markdown",
   "metadata": {},
   "source": [
    "### 1.2. Another Map Type\n",
    "* Stamen Terrain : Good for visualizaiton of landscape, such as mountains and rivers."
   ]
  },
  {
   "cell_type": "code",
   "execution_count": 4,
   "metadata": {},
   "outputs": [],
   "source": [
    "map_osm = folium.Map(location=[37.566345, 126.977893], zoom_start=17,\n",
    "                    tiles='Stamen Terrain'  # Tiles setting\n",
    "                    )  \n",
    "export_png(map_osm, 'map3.html', 'map3.png')"
   ]
  },
  {
   "cell_type": "markdown",
   "metadata": {},
   "source": [
    "<img src=\"./images/map3.png\" height=\"400\" width=\"400\">"
   ]
  },
  {
   "cell_type": "markdown",
   "metadata": {},
   "source": [
    "* Stamen Toner"
   ]
  },
  {
   "cell_type": "code",
   "execution_count": 5,
   "metadata": {},
   "outputs": [],
   "source": [
    "map_osm = folium.Map(location=[37.566345, 126.977893], zoom_start=17,\n",
    "                    tiles='Stamen Toner'  # Tiles setting\n",
    "                    )  \n",
    "export_png(map_osm, 'map4.html', 'map4.png')"
   ]
  },
  {
   "cell_type": "markdown",
   "metadata": {},
   "source": [
    "<img src=\"./images/map4.png\" height=\"400\" width=\"400\">"
   ]
  },
  {
   "cell_type": "markdown",
   "metadata": {},
   "source": [
    "* CartoDBPositron"
   ]
  },
  {
   "cell_type": "code",
   "execution_count": 6,
   "metadata": {},
   "outputs": [],
   "source": [
    "map_osm = folium.Map(location=[37.566345, 126.977893], zoom_start=17, \n",
    "                     tiles='cartodbpositron'\n",
    "                    )\n",
    "export_png(map_osm, 'map5.html', 'map5.png')"
   ]
  },
  {
   "cell_type": "markdown",
   "metadata": {},
   "source": [
    "<img src=\"./images/map5.png\" height=\"400\" width=\"400\">"
   ]
  },
  {
   "cell_type": "markdown",
   "metadata": {},
   "source": [
    "### 1.3. Marker and Popup\n",
    "* Marker : to experience interactive `Markers`, please click the link below"
   ]
  },
  {
   "cell_type": "code",
   "execution_count": 9,
   "metadata": {},
   "outputs": [],
   "source": [
    "map_osm = folium.Map(location=[37.566345, 126.977893], zoom_start=17)\n",
    "folium.Marker([37.566345, 126.977893], popup='서울특별시청').add_to(map_osm)\n",
    "folium.Marker([37.5658859, 126.9754788], popup='덕수궁').add_to(map_osm)\n",
    "export_png(map_osm, 'map6.html', 'map6.png')"
   ]
  },
  {
   "cell_type": "markdown",
   "metadata": {},
   "source": [
    "interactive html : <a href=https://rawcdn.githack.com/jehyunlee/code-snippet/4f9c05c257dba9ad34cc4b55238b25e5081810d2/1_folium_geojson/html/map6.html>link</a>"
   ]
  },
  {
   "cell_type": "markdown",
   "metadata": {},
   "source": [
    "<img src=\"./images/map6.png\" height=\"400\" width=\"400\">"
   ]
  },
  {
   "cell_type": "markdown",
   "metadata": {},
   "source": [
    "* CircleMarker"
   ]
  },
  {
   "cell_type": "code",
   "execution_count": 10,
   "metadata": {},
   "outputs": [],
   "source": [
    "map_osm = folium.Map(location=[37.566345, 126.977893], zoom_start=17)\n",
    "\n",
    "folium.Marker([37.566345, 126.977893], \n",
    "              popup='서울특별시청', \n",
    "              icon=folium.Icon(color='red', icon='info-sign')\n",
    "             ).add_to(map_osm)\n",
    "\n",
    "folium.CircleMarker([37.5658859, 126.9754788], \n",
    "                    radius=100, \n",
    "                    color='#3186cc', \n",
    "                    fill_color='#3186cc', \n",
    "                    popup='덕수궁').add_to(map_osm)\n",
    "\n",
    "export_png(map_osm, 'map7.html', 'map7.png')"
   ]
  },
  {
   "cell_type": "markdown",
   "metadata": {},
   "source": [
    "interactive html : <a href=https://rawcdn.githack.com/jehyunlee/code-snippet/660a1bd588792345f448323fe342ce9aaa646aff/1_folium_geojson/html/map7.html>link</a>"
   ]
  },
  {
   "cell_type": "markdown",
   "metadata": {},
   "source": [
    "<img src=\"./images/map7.png\" height=\"400\" width=\"400\">"
   ]
  },
  {
   "cell_type": "markdown",
   "metadata": {},
   "source": [
    "### 1.4. Popover Latitutde and Longitude\n",
    "* Popover : to experience interactive `Popover`, please click the link below"
   ]
  },
  {
   "cell_type": "code",
   "execution_count": 17,
   "metadata": {},
   "outputs": [],
   "source": [
    "m = folium.Map(\n",
    "    location=[36.340744, 127.401358],    # Daejeon, Korea\n",
    "    tiles='Stamen Terrain',\n",
    "    zoom_start=11\n",
    ")\n",
    "\n",
    "m.add_child(folium.LatLngPopup())\n",
    "\n",
    "export_png(m, 'map8.html', 'map8.png')"
   ]
  },
  {
   "cell_type": "markdown",
   "metadata": {},
   "source": [
    "interactive html : <a href=https://rawcdn.githack.com/jehyunlee/code-snippet/b5df2624911437af4a65b5ab4e433995f5a2de54/1_folium_geojson/html/map8.html>link</a>"
   ]
  },
  {
   "cell_type": "markdown",
   "metadata": {},
   "source": [
    "<img src=\"./images/map8.png\" height=\"400\" width=\"400\">"
   ]
  },
  {
   "cell_type": "markdown",
   "metadata": {},
   "source": [
    "## 2.0. GEOJSON/TOPOJSON Overlays\n",
    "### 2.1. Simple Boundary Overlay"
   ]
  },
  {
   "cell_type": "markdown",
   "metadata": {},
   "source": [
    "#### 2.1.1. Loading json from file"
   ]
  },
  {
   "cell_type": "code",
   "execution_count": 30,
   "metadata": {},
   "outputs": [],
   "source": [
    "import json\n",
    "\n",
    "m = folium.Map(location=[37.566345, 126.977893])\n",
    "\n",
    "rfile = open('./Korea_gu_rough.json', 'r', encoding='utf-8').read()        # Reading Admin. Districts\n",
    "jsonData = json.loads(rfile)        # Reading as dictionary\n",
    "style_function = {\n",
    "                 'fillColor': 'white',\n",
    "                 'lineColor':'black'        # not working. why???\n",
    "                }\n",
    "folium.GeoJson(jsonData, name='json_data',\n",
    "               style_function=lambda x: style_function        # style_function has to be a function which calls dictionary\n",
    "              ).add_to(m)        # Overlay on map\n",
    "\n",
    "export_png(m, 'map9.html', 'map9.png')"
   ]
  },
  {
   "cell_type": "markdown",
   "metadata": {},
   "source": [
    "interactive html : <a href=https://rawcdn.githack.com/jehyunlee/code-snippet/a08dbbd096cab34aae85cedc81457d624e6d0190/1_folium_geojson/html/map9.html>link</a>"
   ]
  },
  {
   "cell_type": "markdown",
   "metadata": {},
   "source": [
    "<img src=\"./images/map9.png\" height=\"400\" width=\"400\">"
   ]
  },
  {
   "cell_type": "markdown",
   "metadata": {},
   "source": [
    "#### 2.1.2. Loading json from web"
   ]
  },
  {
   "cell_type": "code",
   "execution_count": 49,
   "metadata": {},
   "outputs": [],
   "source": [
    "import json\n",
    "\n",
    "m = folium.Map(location=[37.566345, 126.977893], zoom_start=8)\n",
    "\n",
    "jsonData = f'https://raw.githubusercontent.com/jehyunlee/data-snippet/master/Korea_gu_rough.json'        # Reading Admin. Districts\n",
    "\n",
    "style_function = {\n",
    "                 'fillColor': 'white',\n",
    "                 'lineColor':'black'        # not working. why???\n",
    "                }\n",
    "folium.GeoJson(jsonData, name='json_data',\n",
    "               style_function=lambda x: style_function        # style_function has to be a function which calls dictionary\n",
    "              ).add_to(m)        # Overlay on map\n",
    "\n",
    "export_png(m, 'map10.html', 'map10.png')"
   ]
  },
  {
   "cell_type": "markdown",
   "metadata": {},
   "source": [
    "interactive html : <a href=https://rawcdn.githack.com/jehyunlee/code-snippet/632f5ab6ec24075e5a858dbf7e3a28ac251ee82a/1_folium_geojson/html/map10.html>link</a>"
   ]
  },
  {
   "cell_type": "markdown",
   "metadata": {},
   "source": [
    "<img src=\"./images/map10.png\" height=\"400\" width=\"400\">"
   ]
  },
  {
   "cell_type": "markdown",
   "metadata": {},
   "source": [
    "#### 2.1.3. Overlay of GeoJson and Topojson Together"
   ]
  },
  {
   "cell_type": "code",
   "execution_count": 51,
   "metadata": {},
   "outputs": [],
   "source": [
    "import requests\n",
    "\n",
    "url = 'https://raw.githubusercontent.com/python-visualization/folium/master/examples/data'\n",
    "antarctic_ice_edge = f'{url}/antarctic_ice_edge.json'\n",
    "antarctic_ice_shelf_topo = f'{url}/antarctic_ice_shelf_topo.json'\n",
    "\n",
    "m = folium.Map(\n",
    "    location=[-59.1759, -11.6016],\n",
    "    tiles='Mapbox Bright',\n",
    "    zoom_start=2  # Limited levels of zoom for free Mapbox tiles.\n",
    ")\n",
    "\n",
    "folium.GeoJson(\n",
    "    antarctic_ice_edge,\n",
    "    name='geojson'\n",
    ").add_to(m)\n",
    "\n",
    "folium.TopoJson(\n",
    "    json.loads(requests.get(antarctic_ice_shelf_topo).text),\n",
    "    'objects.antarctic_ice_shelf',\n",
    "    name='topojson'\n",
    ").add_to(m)\n",
    "\n",
    "folium.LayerControl().add_to(m)\n",
    "\n",
    "export_png(m, 'map11.html', 'map11.png')"
   ]
  },
  {
   "cell_type": "markdown",
   "metadata": {},
   "source": [
    "interactive html : <a href='https://rawcdn.githack.com/jehyunlee/code-snippet/e409914c9179d73f266f8001811b43eb2d3d835b/1_folium_geojson/html/map11.html'>link</a>"
   ]
  },
  {
   "cell_type": "markdown",
   "metadata": {},
   "source": [
    "<img src=\"./images/map11.png\" height=\"400\" width=\"400\">"
   ]
  }
 ],
 "metadata": {
  "kernelspec": {
   "display_name": "Python 3",
   "language": "python",
   "name": "python3"
  },
  "language_info": {
   "codemirror_mode": {
    "name": "ipython",
    "version": 3
   },
   "file_extension": ".py",
   "mimetype": "text/x-python",
   "name": "python",
   "nbconvert_exporter": "python",
   "pygments_lexer": "ipython3",
   "version": "3.6.7"
  }
 },
 "nbformat": 4,
 "nbformat_minor": 2
}
