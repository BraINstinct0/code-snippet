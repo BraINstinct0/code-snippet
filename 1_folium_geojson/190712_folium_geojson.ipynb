{
 "cells": [
  {
   "cell_type": "markdown",
   "metadata": {},
   "source": [
    "# Overlay Administrative District on Map using `folium` and `geojson`\n",
    "* Official github of `folium`\n",
    "> https://github.com/python-visualization/folium  \n",
    "* Core of the following code is taken from:  \n",
    "> https://ericnjennifer.github.io/python_visualization/2018/01/21/PythonVisualization_Chapt6.html  \n",
    "> https://python-visualization.github.io/folium/quickstart.html  \n",
    "> https://neurowhai.tistory.com/350  \n",
    "> https://dailyheumsi.tistory.com/85  \n",
    "> https://dailyheumsi.tistory.com/92"
   ]
  },
  {
   "cell_type": "markdown",
   "metadata": {},
   "source": [
    "## 0. Export map (.html) to image (.png)\n",
    "* In this example, `google chrome` browser was used,  which requires **<a href=\"http://chromedriver.chromium.org/downloads\">`ChromeDriver`-WebDriver for Chrome</a>**.\n",
    "* `ChromeDriver` requires `path` to be called by python script. "
   ]
  },
  {
   "cell_type": "code",
   "execution_count": 1,
   "metadata": {},
   "outputs": [],
   "source": [
    "from selenium import webdriver\n",
    "import time, os\n",
    "\n",
    "def export_png(m,                     # foium map instance\n",
    "               html_name,             # str. ex. 'testmap.html'\n",
    "               png_name='map.png',    # str. ex. 'testmap.png'\n",
    "               delay=5,               # int or float. ex. 10\n",
    "              ):\n",
    "  \n",
    "  delay=delay\n",
    "  fn = 'html/' + html_name\n",
    "  tmpurl='file://{path}/{mapfile}'.format(path=os.getcwd(),mapfile=fn)\n",
    "  m.save(fn)\n",
    "\n",
    "  browser = webdriver.Chrome()\n",
    "  browser.get(tmpurl)\n",
    "  \n",
    "  #Give the map tiles some time to load\n",
    "  time.sleep(delay)\n",
    "  browser.save_screenshot('./images/'+png_name)\n",
    "  browser.quit()"
   ]
  },
  {
   "cell_type": "markdown",
   "metadata": {},
   "source": [
    "## 1. Basic : Seoul Map\n",
    "### 1.0. Object creation"
   ]
  },
  {
   "cell_type": "code",
   "execution_count": 2,
   "metadata": {},
   "outputs": [],
   "source": [
    "import folium\n",
    "\n",
    "map_osm = folium.Map(location=[37.566345, 126.977893])   # Seoul City Hall\n",
    "#map_osm.save('./map1.html')      # Save map as html\n",
    "export_png(map_osm, 'map1.html', 'map1.png')   # Save map as png\n",
    "#map_osm    # Show map on Notebook"
   ]
  },
  {
   "cell_type": "markdown",
   "metadata": {},
   "source": [
    "<img src=\"./images/map1.png\" height=\"400\" width=\"400\">"
   ]
  },
  {
   "cell_type": "markdown",
   "metadata": {},
   "source": [
    "### 1.1. Set Initial Zoom"
   ]
  },
  {
   "cell_type": "code",
   "execution_count": 3,
   "metadata": {},
   "outputs": [],
   "source": [
    "map_osm = folium.Map(location=[37.566345, 126.977893], zoom_start=17)  # Zoom Level Set\n",
    "export_png(map_osm, 'map2.html', 'map2.png')"
   ]
  },
  {
   "cell_type": "markdown",
   "metadata": {},
   "source": [
    "<img src=\"./images/map2.png\" height=\"400\" width=\"400\">"
   ]
  },
  {
   "cell_type": "markdown",
   "metadata": {},
   "source": [
    "### 1.2. Another Map Type\n",
    "* Stamen Terrain : Good for visualizaiton of landscape, such as mountains and rivers."
   ]
  },
  {
   "cell_type": "code",
   "execution_count": 4,
   "metadata": {},
   "outputs": [],
   "source": [
    "map_osm = folium.Map(location=[37.566345, 126.977893], zoom_start=17,\n",
    "                    tiles='Stamen Terrain'  # Tiles setting\n",
    "                    )  \n",
    "export_png(map_osm, 'map3.html', 'map3.png')"
   ]
  },
  {
   "cell_type": "markdown",
   "metadata": {},
   "source": [
    "<img src=\"./images/map3.png\" height=\"400\" width=\"400\">"
   ]
  },
  {
   "cell_type": "markdown",
   "metadata": {},
   "source": [
    "* Stamen Toner"
   ]
  },
  {
   "cell_type": "code",
   "execution_count": 5,
   "metadata": {},
   "outputs": [],
   "source": [
    "map_osm = folium.Map(location=[37.566345, 126.977893], zoom_start=17,\n",
    "                    tiles='Stamen Toner'  # Tiles setting\n",
    "                    )  \n",
    "export_png(map_osm, 'map4.html', 'map4.png')"
   ]
  },
  {
   "cell_type": "markdown",
   "metadata": {},
   "source": [
    "<img src=\"./images/map4.png\" height=\"400\" width=\"400\">"
   ]
  },
  {
   "cell_type": "markdown",
   "metadata": {},
   "source": [
    "* CartoDBPositron"
   ]
  },
  {
   "cell_type": "code",
   "execution_count": 6,
   "metadata": {},
   "outputs": [],
   "source": [
    "map_osm = folium.Map(location=[37.566345, 126.977893], zoom_start=17, \n",
    "                     tiles='cartodbpositron'\n",
    "                    )\n",
    "export_png(map_osm, 'map5.html', 'map5.png')"
   ]
  },
  {
   "cell_type": "markdown",
   "metadata": {},
   "source": [
    "<img src=\"./images/map5.png\" height=\"400\" width=\"400\">"
   ]
  },
  {
   "cell_type": "markdown",
   "metadata": {},
   "source": [
    "### 1.3. Marker and Popup\n",
    "* Marker : to experience interactive `Markers`, please click the link below"
   ]
  },
  {
   "cell_type": "code",
   "execution_count": 7,
   "metadata": {},
   "outputs": [],
   "source": [
    "map_osm = folium.Map(location=[37.566345, 126.977893], zoom_start=17)\n",
    "folium.Marker([37.566345, 126.977893], popup='서울특별시청').add_to(map_osm)\n",
    "folium.Marker([37.5658859, 126.9754788], popup='덕수궁').add_to(map_osm)\n",
    "export_png(map_osm, 'map6.html', 'map6.png')"
   ]
  },
  {
   "cell_type": "markdown",
   "metadata": {},
   "source": [
    "interactive html : <a href=https://rawcdn.githack.com/jehyunlee/code-snippet/4f9c05c257dba9ad34cc4b55238b25e5081810d2/1_folium_geojson/html/map6.html>link</a>"
   ]
  },
  {
   "cell_type": "markdown",
   "metadata": {},
   "source": [
    "<img src=\"./images/map6.png\" height=\"400\" width=\"400\">"
   ]
  },
  {
   "cell_type": "markdown",
   "metadata": {},
   "source": [
    "* CircleMarker"
   ]
  },
  {
   "cell_type": "code",
   "execution_count": 8,
   "metadata": {},
   "outputs": [],
   "source": [
    "map_osm = folium.Map(location=[37.566345, 126.977893], zoom_start=17)\n",
    "\n",
    "folium.Marker([37.566345, 126.977893], \n",
    "              popup='서울특별시청', \n",
    "              icon=folium.Icon(color='red', icon='info-sign')\n",
    "             ).add_to(map_osm)\n",
    "\n",
    "folium.CircleMarker([37.5658859, 126.9754788], \n",
    "                    radius=100, \n",
    "                    color='#3186cc', \n",
    "                    fill_color='#3186cc', \n",
    "                    popup='덕수궁').add_to(map_osm)\n",
    "\n",
    "export_png(map_osm, 'map7.html', 'map7.png')"
   ]
  },
  {
   "cell_type": "markdown",
   "metadata": {},
   "source": [
    "interactive html : <a href=https://rawcdn.githack.com/jehyunlee/code-snippet/660a1bd588792345f448323fe342ce9aaa646aff/1_folium_geojson/html/map7.html>link</a>"
   ]
  },
  {
   "cell_type": "markdown",
   "metadata": {},
   "source": [
    "<img src=\"./images/map7.png\" height=\"400\" width=\"400\">"
   ]
  },
  {
   "cell_type": "markdown",
   "metadata": {},
   "source": [
    "### 1.4. Popover Latitutde and Longitude\n",
    "* Popover : to experience interactive `Popover`, please click the link below"
   ]
  },
  {
   "cell_type": "code",
   "execution_count": 9,
   "metadata": {},
   "outputs": [],
   "source": [
    "m = folium.Map(\n",
    "    location=[36.340744, 127.401358],    # Daejeon, Korea\n",
    "    tiles='Stamen Terrain',\n",
    "    zoom_start=11\n",
    ")\n",
    "\n",
    "m.add_child(folium.LatLngPopup())\n",
    "\n",
    "export_png(m, 'map8.html', 'map8.png')"
   ]
  },
  {
   "cell_type": "markdown",
   "metadata": {},
   "source": [
    "interactive html : <a href=https://rawcdn.githack.com/jehyunlee/code-snippet/b5df2624911437af4a65b5ab4e433995f5a2de54/1_folium_geojson/html/map8.html>link</a>"
   ]
  },
  {
   "cell_type": "markdown",
   "metadata": {},
   "source": [
    "<img src=\"./images/map8.png\" height=\"400\" width=\"400\">"
   ]
  },
  {
   "cell_type": "markdown",
   "metadata": {},
   "source": [
    "## 2.0. GEOJSON/TOPOJSON Overlays\n",
    "### 2.1. Simple Boundary Overlay"
   ]
  },
  {
   "cell_type": "markdown",
   "metadata": {},
   "source": [
    "#### 2.1.1. Loading json from file"
   ]
  },
  {
   "cell_type": "code",
   "execution_count": 10,
   "metadata": {},
   "outputs": [],
   "source": [
    "import json\n",
    "\n",
    "m = folium.Map(location=[37.566345, 126.977893])\n",
    "\n",
    "rfile = open('./Korea_gu_20.json', 'r', encoding='utf-8').read()        # Reading Admin. Districts\n",
    "jsonData = json.loads(rfile)        # Reading as dictionary\n",
    "style_function = {\n",
    "                 'fillColor': 'white',\n",
    "                }\n",
    "folium.GeoJson(jsonData, name='json_data',\n",
    "               style_function=lambda x: style_function        # style_function has to be a function which calls dictionary\n",
    "              ).add_to(m)        # Overlay on map\n",
    "\n",
    "export_png(m, 'map9.html', 'map9.png')"
   ]
  },
  {
   "cell_type": "markdown",
   "metadata": {},
   "source": [
    "interactive html : <a href=https://rawcdn.githack.com/jehyunlee/code-snippet/a08dbbd096cab34aae85cedc81457d624e6d0190/1_folium_geojson/html/map9.html>link</a>"
   ]
  },
  {
   "cell_type": "markdown",
   "metadata": {},
   "source": [
    "<img src=\"./images/map9.png\" height=\"400\" width=\"400\">"
   ]
  },
  {
   "cell_type": "markdown",
   "metadata": {},
   "source": [
    "#### 2.1.2. Loading json from web"
   ]
  },
  {
   "cell_type": "code",
   "execution_count": 11,
   "metadata": {},
   "outputs": [],
   "source": [
    "m = folium.Map(location=[37.566345, 126.977893], zoom_start=8)\n",
    "\n",
    "jsonData = f'https://raw.githubusercontent.com/jehyunlee/data-snippet/master/Korea_gu_20.json'        # Reading Admin. Districts\n",
    "\n",
    "style_function = {\n",
    "                 'fillColor': 'white',\n",
    "                 'color':'black'              # edge color change : black\n",
    "                }\n",
    "folium.GeoJson(jsonData, name='json_data',\n",
    "               style_function=lambda x: style_function        # style_function has to be a function which calls dictionary\n",
    "              ).add_to(m)        # Overlay on map\n",
    "\n",
    "export_png(m, 'map10.html', 'map10.png')"
   ]
  },
  {
   "cell_type": "markdown",
   "metadata": {},
   "source": [
    "interactive html : <a href=https://rawcdn.githack.com/jehyunlee/code-snippet/632f5ab6ec24075e5a858dbf7e3a28ac251ee82a/1_folium_geojson/html/map10.html>link</a>"
   ]
  },
  {
   "cell_type": "markdown",
   "metadata": {},
   "source": [
    "<img src=\"./images/map10.png\" height=\"400\" width=\"400\">"
   ]
  },
  {
   "cell_type": "markdown",
   "metadata": {},
   "source": [
    "#### 2.1.3. Overlay of GeoJson and Topojson Together"
   ]
  },
  {
   "cell_type": "code",
   "execution_count": 12,
   "metadata": {},
   "outputs": [],
   "source": [
    "import requests\n",
    "\n",
    "url = 'https://raw.githubusercontent.com/python-visualization/folium/master/examples/data'\n",
    "antarctic_ice_edge = f'{url}/antarctic_ice_edge.json'\n",
    "antarctic_ice_shelf_topo = f'{url}/antarctic_ice_shelf_topo.json'\n",
    "\n",
    "m = folium.Map(\n",
    "    location=[-59.1759, -11.6016],\n",
    "    tiles='Mapbox Bright',\n",
    "    zoom_start=2  # Limited levels of zoom for free Mapbox tiles.\n",
    ")\n",
    "\n",
    "folium.GeoJson(\n",
    "    antarctic_ice_edge,\n",
    "    name='geojson'\n",
    ").add_to(m)\n",
    "\n",
    "folium.TopoJson(\n",
    "    json.loads(requests.get(antarctic_ice_shelf_topo).text),\n",
    "    'objects.antarctic_ice_shelf',\n",
    "    name='topojson'\n",
    ").add_to(m)\n",
    "\n",
    "folium.LayerControl().add_to(m)\n",
    "\n",
    "export_png(m, 'map11.html', 'map11.png')"
   ]
  },
  {
   "cell_type": "markdown",
   "metadata": {},
   "source": [
    "interactive html : <a href='https://rawcdn.githack.com/jehyunlee/code-snippet/e409914c9179d73f266f8001811b43eb2d3d835b/1_folium_geojson/html/map11.html'>link</a>"
   ]
  },
  {
   "cell_type": "markdown",
   "metadata": {},
   "source": [
    "<img src=\"./images/map11.png\" height=\"400\" width=\"400\">"
   ]
  },
  {
   "cell_type": "markdown",
   "metadata": {},
   "source": [
    "### 2.2. Choropleth maps"
   ]
  },
  {
   "cell_type": "code",
   "execution_count": 13,
   "metadata": {},
   "outputs": [],
   "source": [
    "import pandas as pd\n",
    "\n",
    "url = 'https://raw.githubusercontent.com/python-visualization/folium/master/examples/data'\n",
    "state_geo = f'{url}/us-states.json'\n",
    "state_unemployment = f'{url}/US_Unemployment_Oct2012.csv'\n",
    "state_data = pd.read_csv(state_unemployment)\n",
    "\n",
    "m = folium.Map(location=[48, -102], zoom_start=3)\n",
    "\n",
    "folium.Choropleth(\n",
    "    geo_data=state_geo,\n",
    "    name='choropleth',\n",
    "    data=state_data,\n",
    "    columns=['State', 'Unemployment'],\n",
    "    key_on='feature.id',\n",
    "    fill_color='YlGn',\n",
    "    fill_opacity=0.7,\n",
    "    line_opacity=0.2,\n",
    "    legend_name='Unemployment Rate (%)'\n",
    ").add_to(m)\n",
    "\n",
    "folium.LayerControl().add_to(m)\n",
    "\n",
    "export_png(m, 'map12.html', 'map12.png')"
   ]
  },
  {
   "cell_type": "markdown",
   "metadata": {},
   "source": [
    "interactive html : <a href='https://rawcdn.githack.com/jehyunlee/code-snippet/1973967361e70c68282e8861dad8c0ad161ec39f/1_folium_geojson/html/map12.html'>link</a>"
   ]
  },
  {
   "cell_type": "markdown",
   "metadata": {},
   "source": [
    "<img src=\"./images/map12.png\" height=\"400\" width=\"400\">"
   ]
  },
  {
   "cell_type": "markdown",
   "metadata": {},
   "source": [
    "* bins by data Quantile"
   ]
  },
  {
   "cell_type": "code",
   "execution_count": 14,
   "metadata": {},
   "outputs": [],
   "source": [
    "bins = list(state_data['Unemployment'].quantile([0, 0.25, 0.5, 0.75, 1]))\n",
    "\n",
    "m = folium.Map(location=[48, -102], zoom_start=3)\n",
    "\n",
    "folium.Choropleth(\n",
    "    geo_data=state_geo,\n",
    "    data=state_data,\n",
    "    columns=['State', 'Unemployment'],\n",
    "    key_on='feature.id',\n",
    "    fill_color='BuPu',\n",
    "    fill_opacity=0.7,\n",
    "    line_opacity=0.5,\n",
    "    legend_name='Unemployment Rate (%)',\n",
    "    bins=bins,\n",
    "    reset=True\n",
    ").add_to(m)\n",
    "\n",
    "export_png(m, 'map13.html', 'map13.png')"
   ]
  },
  {
   "cell_type": "markdown",
   "metadata": {},
   "source": [
    "interactive html : <a href='https://rawcdn.githack.com/jehyunlee/code-snippet/1973967361e70c68282e8861dad8c0ad161ec39f/1_folium_geojson/html/map13.html'>link</a>"
   ]
  },
  {
   "cell_type": "markdown",
   "metadata": {},
   "source": [
    "<img src=\"./images/map13.png\" height=\"400\" width=\"400\">"
   ]
  },
  {
   "cell_type": "markdown",
   "metadata": {},
   "source": [
    "* Color brewer function of `folium.utilities`\n",
    "> https://github.com/python-visualization/folium/blob/v0.2.0/folium/utilities.py#L104"
   ]
  },
  {
   "cell_type": "markdown",
   "metadata": {},
   "source": [
    "```python\n",
    "def color_brewer(color_code, n=6):\n",
    "    \"\"\"\n",
    "    Generate a colorbrewer color scheme of length 'len', type 'scheme.\n",
    "    Live examples can be seen at http://colorbrewer2.org/\n",
    "    \"\"\"\n",
    "    maximum_n = 253\n",
    "\n",
    "    scheme_info = {'BuGn': 'Sequential',\n",
    "                   'BuPu': 'Sequential',\n",
    "                   'GnBu': 'Sequential',\n",
    "                   'OrRd': 'Sequential',\n",
    "                   'PuBu': 'Sequential',\n",
    "                   'PuBuGn': 'Sequential',\n",
    "                   'PuRd': 'Sequential',\n",
    "                   'RdPu': 'Sequential',\n",
    "                   'YlGn': 'Sequential',\n",
    "                   'YlGnBu': 'Sequential',\n",
    "                   'YlOrBr': 'Sequential',\n",
    "                   'YlOrRd': 'Sequential',\n",
    "                   'BrBg': 'Diverging',\n",
    "                   'PiYG': 'Diverging',\n",
    "                   'PRGn': 'Diverging',\n",
    "                   'PuOr': 'Diverging',\n",
    "                   'RdBu': 'Diverging',\n",
    "                   'RdGy': 'Diverging',\n",
    "                   'RdYlBu': 'Diverging',\n",
    "                   'RdYlGn': 'Diverging',\n",
    "                   'Spectral': 'Diverging',\n",
    "                   'Accent': 'Qualitative',\n",
    "                   'Dark2': 'Qualitative',\n",
    "                   'Paired': 'Qualitative',\n",
    "                   'Pastel1': 'Qualitative',\n",
    "                   'Pastel2': 'Qualitative',\n",
    "                   'Set1': 'Qualitative',\n",
    "                   'Set2': 'Qualitative',\n",
    "                   'Set3': 'Qualitative',\n",
    "                   }\n",
    "\n",
    "    schemes = {'BuGn': ['#EDF8FB', '#CCECE6', '#CCECE6',\n",
    "                        '#66C2A4', '#41AE76', '#238B45', '#005824'],\n",
    "               'BuPu': ['#EDF8FB', '#BFD3E6', '#9EBCDA',\n",
    "                        '#8C96C6', '#8C6BB1', '#88419D', '#6E016B'],\n",
    "               'GnBu': ['#F0F9E8', '#CCEBC5', '#A8DDB5',\n",
    "                        '#7BCCC4', '#4EB3D3', '#2B8CBE', '#08589E'],\n",
    "               'OrRd': ['#FEF0D9', '#FDD49E', '#FDBB84',\n",
    "                        '#FC8D59', '#EF6548', '#D7301F', '#990000'],\n",
    "               'PuBu': ['#F1EEF6', '#D0D1E6', '#A6BDDB',\n",
    "                        '#74A9CF', '#3690C0', '#0570B0', '#034E7B'],\n",
    "               'PuBuGn': ['#F6EFF7', '#D0D1E6', '#A6BDDB',\n",
    "                          '#67A9CF', '#3690C0', '#02818A', '#016450'],\n",
    "               'PuRd': ['#F1EEF6', '#D4B9DA', '#C994C7',\n",
    "                        '#DF65B0', '#E7298A', '#CE1256', '#91003F'],\n",
    "               'RdPu': ['#FEEBE2', '#FCC5C0', '#FA9FB5',\n",
    "                        '#F768A1', '#DD3497', '#AE017E', '#7A0177'],\n",
    "               'YlGn': ['#FFFFCC', '#D9F0A3', '#ADDD8E',\n",
    "                        '#78C679', '#41AB5D', '#238443', '#005A32'],\n",
    "               'YlGnBu': ['#FFFFCC', '#C7E9B4', '#7FCDBB',\n",
    "                          '#41B6C4', '#1D91C0', '#225EA8', '#0C2C84'],\n",
    "               'YlOrBr': ['#FFFFD4', '#FEE391', '#FEC44F',\n",
    "                          '#FE9929', '#EC7014', '#CC4C02', '#8C2D04'],\n",
    "               'YlOrRd': ['#FFFFB2', '#FED976', '#FEB24C',\n",
    "                          '#FD8D3C', '#FC4E2A', '#E31A1C', '#B10026'],\n",
    "               'BrBg': ['#8c510a', '#d8b365', '#f6e8c3',\n",
    "                        '#c7eae5', '#5ab4ac', '#01665e'],\n",
    "               'PiYG': ['#c51b7d', '#e9a3c9', '#fde0ef',\n",
    "                        '#e6f5d0', '#a1d76a', '#4d9221'],\n",
    "               'PRGn': ['#762a83', '#af8dc3', '#e7d4e8',\n",
    "                        '#d9f0d3', '#7fbf7b', '#1b7837'],\n",
    "               'PuOr': ['#b35806', '#f1a340', '#fee0b6',\n",
    "                        '#d8daeb', '#998ec3', '#542788'],\n",
    "               'RdBu': ['#b2182b', '#ef8a62', '#fddbc7',\n",
    "                        '#d1e5f0', '#67a9cf', '#2166ac'],\n",
    "               'RdGy': ['#b2182b', '#ef8a62', '#fddbc7',\n",
    "                        '#e0e0e0', '#999999', '#4d4d4d'],\n",
    "               'RdYlBu': ['#d73027', '#fc8d59', '#fee090',\n",
    "                          '#e0f3f8', '#91bfdb', '#4575b4'],\n",
    "               'RdYlGn': ['#d73027', '#fc8d59', '#fee08b',\n",
    "                          '#d9ef8b', '#91cf60', '#1a9850'],\n",
    "               'Spectral': ['#d53e4f', '#fc8d59', '#fee08b',\n",
    "                            '#e6f598', '#99d594', '#3288bd'],\n",
    "               'Accent': ['#7fc97f', '#beaed4', '#fdc086',\n",
    "                          '#ffff99', '#386cb0', '#f0027f'],\n",
    "               'Dark2': ['#1b9e77', '#d95f02', '#7570b3',\n",
    "                         '#e7298a', '#66a61e', '#e6ab02'],\n",
    "               'Paired': ['#a6cee3', '#1f78b4', '#b2df8a',\n",
    "                          '#33a02c', '#fb9a99', '#e31a1c'],\n",
    "               'Pastel1': ['#fbb4ae', '#b3cde3', '#ccebc5',\n",
    "                           '#decbe4', '#fed9a6', '#ffffcc'],\n",
    "               'Pastel2': ['#b3e2cd', '#fdcdac', '#cbd5e8',\n",
    "                           '#f4cae4', '#e6f5c9', '#fff2ae'],\n",
    "               'Set1': ['#e41a1c', '#377eb8', '#4daf4a',\n",
    "                        '#984ea3', '#ff7f00', '#ffff33'],\n",
    "               'Set2': ['#66c2a5', '#fc8d62', '#8da0cb',\n",
    "                        '#e78ac3', '#a6d854', '#ffd92f'],\n",
    "               'Set3': ['#8dd3c7', '#ffffb3', '#bebada',\n",
    "                        '#fb8072', '#80b1d3', '#fdb462'],\n",
    "               }\n",
    "\n",
    "    # Raise an error if the n requested is greater than the maximum.\n",
    "    if n > maximum_n:\n",
    "        raise ValueError(\"The maximum number of colors in a\"\n",
    "                         \" ColorBrewer sequential color series is 253\")\n",
    "\n",
    "    # Only if n is greater than six do we interpolate values.\n",
    "    if n > 6:\n",
    "        if color_code not in schemes:\n",
    "            color_scheme = None\n",
    "        else:\n",
    "            # Check to make sure that it is not a qualitative scheme.\n",
    "            if scheme_info[color_code] == 'Qualitative':\n",
    "                raise ValueError(\"Expanded color support is not available\"\n",
    "                                 \" for Qualitative schemes, restrict\"\n",
    "                                 \" number of colors to 6\")\n",
    "            else:\n",
    "                color_scheme = linear_gradient(schemes.get(color_code), n)\n",
    "    else:\n",
    "        color_scheme = schemes.get(color_code, None)\n",
    "    return color_scheme\n",
    "```"
   ]
  },
  {
   "cell_type": "markdown",
   "metadata": {},
   "source": [
    "### 2.3. Styling Function\n",
    "* `style_function` supports aesthetics tuning. \n",
    "* It should be noted that `style_function` has to be a `function` which returns `dictionary` type parameters."
   ]
  },
  {
   "cell_type": "code",
   "execution_count": 15,
   "metadata": {},
   "outputs": [],
   "source": [
    "import branca\n",
    "\n",
    "url = 'https://raw.githubusercontent.com/python-visualization/folium/master/examples/data'\n",
    "county_data = f'{url}/us_county_data.csv'\n",
    "county_geo = f'{url}/us_counties_20m_topo.json'\n",
    "\n",
    "df = pd.read_csv(county_data, na_values=[' '])\n",
    "\n",
    "colorscale = branca.colormap.linear.YlOrRd_09.scale(0, 50e3)\n",
    "employed_series = df.set_index('FIPS_Code')['Employed_2011']\n",
    "\n",
    "def style_function(feature):\n",
    "    employed = employed_series.get(int(feature['id'][-5:]), None)\n",
    "    return {\n",
    "        'fillOpacity': 0.5,\n",
    "        'weight': 0,\n",
    "        'fillColor': '#black' if employed is None else colorscale(employed)\n",
    "    }\n",
    "\n",
    "m = folium.Map(\n",
    "    location=[48, -102],\n",
    "    tiles='cartodbpositron',\n",
    "    zoom_start=3\n",
    ")\n",
    "\n",
    "folium.TopoJson(\n",
    "    json.loads(requests.get(county_geo).text),\n",
    "    'objects.us_counties_20m',\n",
    "    style_function=style_function\n",
    ").add_to(m)\n",
    "\n",
    "export_png(m, 'map14.html', 'map14.png')"
   ]
  },
  {
   "cell_type": "markdown",
   "metadata": {},
   "source": [
    "interactive html : <a href='https://rawcdn.githack.com/jehyunlee/code-snippet/1973967361e70c68282e8861dad8c0ad161ec39f/1_folium_geojson/html/map14.html'>link</a>"
   ]
  },
  {
   "cell_type": "markdown",
   "metadata": {},
   "source": [
    "<img src=\"./images/map14.png\" height=\"400\" width=\"400\">"
   ]
  },
  {
   "cell_type": "markdown",
   "metadata": {},
   "source": [
    "* Another Colormap \n",
    "\n",
    "> `branca` is a spinoff from `folium`, that would host the non-map-specific features.  (<a href='https://github.com/python-visualization/branca'>Link</a>)  \n",
    "> There's no documentation, but you can browse the <a href='http://nbviewer.jupyter.org/github/python-visualization/branca/tree/master/examples'>examples gallery</a>.  \n",
    "> `branca` is useful to generate a asymmetric colorbar, as such <a href='https://stackoverflow.com/questions/47846744/create-an-asymmetric-colormap'>examples</a>.  \n",
    "> Official github: https://github.com/python-visualization/branca"
   ]
  },
  {
   "cell_type": "code",
   "execution_count": 16,
   "metadata": {},
   "outputs": [],
   "source": [
    "colorscale = branca.colormap.linear.PuRd_09.scale(0, 100000)\n",
    "\n",
    "employed_series = df.set_index('FIPS_Code')['Median_Household_Income_2011'].dropna()\n",
    "\n",
    "\n",
    "def style_function(feature):\n",
    "    employed = employed_series.get(int(feature['id'][-5:]), None)\n",
    "    return {\n",
    "        'fillOpacity': 0.5,\n",
    "        'weight': 0,\n",
    "        'fillColor': '#black' if employed is None else colorscale(employed)\n",
    "    }\n",
    "\n",
    "\n",
    "m = folium.Map(\n",
    "    location=[48, -102],\n",
    "    tiles='cartodbpositron',\n",
    "    zoom_start=3\n",
    ")\n",
    "\n",
    "folium.TopoJson(\n",
    "    json.loads(requests.get(county_geo).text),\n",
    "    'objects.us_counties_20m',\n",
    "    style_function=style_function\n",
    ").add_to(m)\n",
    "\n",
    "export_png(m, 'map15.html', 'map15.png')"
   ]
  },
  {
   "cell_type": "markdown",
   "metadata": {},
   "source": [
    "interactive html : <a href='https://rawcdn.githack.com/jehyunlee/code-snippet/1973967361e70c68282e8861dad8c0ad161ec39f/1_folium_geojson/html/map15.html'>link</a>"
   ]
  },
  {
   "cell_type": "markdown",
   "metadata": {},
   "source": [
    "<img src=\"./images/map15.png\" height=\"400\" width=\"400\">"
   ]
  },
  {
   "cell_type": "code",
   "execution_count": 17,
   "metadata": {},
   "outputs": [],
   "source": [
    "colorscale = branca.colormap.linear.YlGnBu_09.scale(0, 30)\n",
    "\n",
    "employed_series = df.set_index('FIPS_Code')['Unemployment_rate_2011']\n",
    "\n",
    "\n",
    "def style_function(feature):\n",
    "    employed = employed_series.get(int(feature['id'][-5:]), None)\n",
    "    return {\n",
    "        'fillOpacity': 0.5,\n",
    "        'weight': 0,\n",
    "        'fillColor': '#black' if employed is None else colorscale(employed)\n",
    "    }\n",
    "\n",
    "\n",
    "m = folium.Map(\n",
    "    location=[48, -102],\n",
    "    tiles='cartodbpositron',\n",
    "    zoom_start=4\n",
    ")\n",
    "\n",
    "folium.TopoJson(\n",
    "    json.loads(requests.get(county_geo).text),\n",
    "    'objects.us_counties_20m',\n",
    "    style_function=style_function\n",
    ").add_to(m)\n",
    "\n",
    "export_png(m, 'map16.html', 'map16.png')"
   ]
  },
  {
   "cell_type": "markdown",
   "metadata": {},
   "source": [
    "interactive html : <a href='https://rawcdn.githack.com/jehyunlee/code-snippet/2e618e12ca2d5312eaae6e5a86db48b988366321/1_folium_geojson/html/map16.html'>link</a>"
   ]
  },
  {
   "cell_type": "markdown",
   "metadata": {},
   "source": [
    "<img src=\"./images/map16.png\" height=\"400\" width=\"400\">"
   ]
  },
  {
   "cell_type": "markdown",
   "metadata": {},
   "source": [
    "## 3. Application on Daejeon Solar Irradiation data Analysis\n",
    "\n",
    "### 3.1. Read and Take a glance of data"
   ]
  },
  {
   "cell_type": "code",
   "execution_count": 18,
   "metadata": {},
   "outputs": [],
   "source": [
    "import pandas as pd\n",
    "from IPython.display import display, HTML"
   ]
  },
  {
   "cell_type": "code",
   "execution_count": 41,
   "metadata": {},
   "outputs": [
    {
     "data": {
      "text/html": [
       "<style  type=\"text/css\" >\n",
       "</style>  \n",
       "<table id=\"T_a49bec76_a7ac_11e9_90b1_001a7dda7104\" > \n",
       "<thead>    <tr> \n",
       "        <th class=\"blank level0\" ></th> \n",
       "        <th class=\"col_heading level0 col0\" >gro_flo_co</th> \n",
       "        <th class=\"col_heading level0 col1\" >sig_cd</th> \n",
       "        <th class=\"col_heading level0 col2\" >sig_nm</th> \n",
       "        <th class=\"col_heading level0 col3\" >emd_cd</th> \n",
       "        <th class=\"col_heading level0 col4\" >emd_nm</th> \n",
       "        <th class=\"col_heading level0 col5\" >lon</th> \n",
       "        <th class=\"col_heading level0 col6\" >lat</th> \n",
       "        <th class=\"col_heading level0 col7\" >buld_area</th> \n",
       "        <th class=\"col_heading level0 col8\" >buld_elev</th> \n",
       "        <th class=\"col_heading level0 col9\" >y17</th> \n",
       "        <th class=\"col_heading level0 col10\" >st_y17</th> \n",
       "    </tr></thead> \n",
       "<tbody>    <tr> \n",
       "        <th id=\"T_a49bec76_a7ac_11e9_90b1_001a7dda7104level0_row0\" class=\"row_heading level0 row0\" >0</th> \n",
       "        <td id=\"T_a49bec76_a7ac_11e9_90b1_001a7dda7104row0_col0\" class=\"data row0 col0\" >1</td> \n",
       "        <td id=\"T_a49bec76_a7ac_11e9_90b1_001a7dda7104row0_col1\" class=\"data row0 col1\" >30110</td> \n",
       "        <td id=\"T_a49bec76_a7ac_11e9_90b1_001a7dda7104row0_col2\" class=\"data row0 col2\" >동구</td> \n",
       "        <td id=\"T_a49bec76_a7ac_11e9_90b1_001a7dda7104row0_col3\" class=\"data row0 col3\" >30110137</td> \n",
       "        <td id=\"T_a49bec76_a7ac_11e9_90b1_001a7dda7104row0_col4\" class=\"data row0 col4\" >대별동</td> \n",
       "        <td id=\"T_a49bec76_a7ac_11e9_90b1_001a7dda7104row0_col5\" class=\"data row0 col5\" >127.46</td> \n",
       "        <td id=\"T_a49bec76_a7ac_11e9_90b1_001a7dda7104row0_col6\" class=\"data row0 col6\" >36.2859</td> \n",
       "        <td id=\"T_a49bec76_a7ac_11e9_90b1_001a7dda7104row0_col7\" class=\"data row0 col7\" >199.11</td> \n",
       "        <td id=\"T_a49bec76_a7ac_11e9_90b1_001a7dda7104row0_col8\" class=\"data row0 col8\" >80</td> \n",
       "        <td id=\"T_a49bec76_a7ac_11e9_90b1_001a7dda7104row0_col9\" class=\"data row0 col9\" >1183.46</td> \n",
       "        <td id=\"T_a49bec76_a7ac_11e9_90b1_001a7dda7104row0_col10\" class=\"data row0 col10\" >1444.47</td> \n",
       "    </tr>    <tr> \n",
       "        <th id=\"T_a49bec76_a7ac_11e9_90b1_001a7dda7104level0_row1\" class=\"row_heading level0 row1\" >1</th> \n",
       "        <td id=\"T_a49bec76_a7ac_11e9_90b1_001a7dda7104row1_col0\" class=\"data row1 col0\" >1</td> \n",
       "        <td id=\"T_a49bec76_a7ac_11e9_90b1_001a7dda7104row1_col1\" class=\"data row1 col1\" >30110</td> \n",
       "        <td id=\"T_a49bec76_a7ac_11e9_90b1_001a7dda7104row1_col2\" class=\"data row1 col2\" >동구</td> \n",
       "        <td id=\"T_a49bec76_a7ac_11e9_90b1_001a7dda7104row1_col3\" class=\"data row1 col3\" >30110105</td> \n",
       "        <td id=\"T_a49bec76_a7ac_11e9_90b1_001a7dda7104row1_col4\" class=\"data row1 col4\" >가오동</td> \n",
       "        <td id=\"T_a49bec76_a7ac_11e9_90b1_001a7dda7104row1_col5\" class=\"data row1 col5\" >127.454</td> \n",
       "        <td id=\"T_a49bec76_a7ac_11e9_90b1_001a7dda7104row1_col6\" class=\"data row1 col6\" >36.3086</td> \n",
       "        <td id=\"T_a49bec76_a7ac_11e9_90b1_001a7dda7104row1_col7\" class=\"data row1 col7\" >77.3923</td> \n",
       "        <td id=\"T_a49bec76_a7ac_11e9_90b1_001a7dda7104row1_col8\" class=\"data row1 col8\" >71</td> \n",
       "        <td id=\"T_a49bec76_a7ac_11e9_90b1_001a7dda7104row1_col9\" class=\"data row1 col9\" >1152.18</td> \n",
       "        <td id=\"T_a49bec76_a7ac_11e9_90b1_001a7dda7104row1_col10\" class=\"data row1 col10\" >1449.36</td> \n",
       "    </tr>    <tr> \n",
       "        <th id=\"T_a49bec76_a7ac_11e9_90b1_001a7dda7104level0_row2\" class=\"row_heading level0 row2\" >2</th> \n",
       "        <td id=\"T_a49bec76_a7ac_11e9_90b1_001a7dda7104row2_col0\" class=\"data row2 col0\" >1</td> \n",
       "        <td id=\"T_a49bec76_a7ac_11e9_90b1_001a7dda7104row2_col1\" class=\"data row2 col1\" >30110</td> \n",
       "        <td id=\"T_a49bec76_a7ac_11e9_90b1_001a7dda7104row2_col2\" class=\"data row2 col2\" >동구</td> \n",
       "        <td id=\"T_a49bec76_a7ac_11e9_90b1_001a7dda7104row2_col3\" class=\"data row2 col3\" >30110137</td> \n",
       "        <td id=\"T_a49bec76_a7ac_11e9_90b1_001a7dda7104row2_col4\" class=\"data row2 col4\" >대별동</td> \n",
       "        <td id=\"T_a49bec76_a7ac_11e9_90b1_001a7dda7104row2_col5\" class=\"data row2 col5\" >127.462</td> \n",
       "        <td id=\"T_a49bec76_a7ac_11e9_90b1_001a7dda7104row2_col6\" class=\"data row2 col6\" >36.2879</td> \n",
       "        <td id=\"T_a49bec76_a7ac_11e9_90b1_001a7dda7104row2_col7\" class=\"data row2 col7\" >91.0764</td> \n",
       "        <td id=\"T_a49bec76_a7ac_11e9_90b1_001a7dda7104row2_col8\" class=\"data row2 col8\" >77</td> \n",
       "        <td id=\"T_a49bec76_a7ac_11e9_90b1_001a7dda7104row2_col9\" class=\"data row2 col9\" >1182.21</td> \n",
       "        <td id=\"T_a49bec76_a7ac_11e9_90b1_001a7dda7104row2_col10\" class=\"data row2 col10\" >1444.47</td> \n",
       "    </tr>    <tr> \n",
       "        <th id=\"T_a49bec76_a7ac_11e9_90b1_001a7dda7104level0_row3\" class=\"row_heading level0 row3\" >3</th> \n",
       "        <td id=\"T_a49bec76_a7ac_11e9_90b1_001a7dda7104row3_col0\" class=\"data row3 col0\" >1</td> \n",
       "        <td id=\"T_a49bec76_a7ac_11e9_90b1_001a7dda7104row3_col1\" class=\"data row3 col1\" >30110</td> \n",
       "        <td id=\"T_a49bec76_a7ac_11e9_90b1_001a7dda7104row3_col2\" class=\"data row3 col2\" >동구</td> \n",
       "        <td id=\"T_a49bec76_a7ac_11e9_90b1_001a7dda7104row3_col3\" class=\"data row3 col3\" >30110137</td> \n",
       "        <td id=\"T_a49bec76_a7ac_11e9_90b1_001a7dda7104row3_col4\" class=\"data row3 col4\" >대별동</td> \n",
       "        <td id=\"T_a49bec76_a7ac_11e9_90b1_001a7dda7104row3_col5\" class=\"data row3 col5\" >127.462</td> \n",
       "        <td id=\"T_a49bec76_a7ac_11e9_90b1_001a7dda7104row3_col6\" class=\"data row3 col6\" >36.2877</td> \n",
       "        <td id=\"T_a49bec76_a7ac_11e9_90b1_001a7dda7104row3_col7\" class=\"data row3 col7\" >51.2017</td> \n",
       "        <td id=\"T_a49bec76_a7ac_11e9_90b1_001a7dda7104row3_col8\" class=\"data row3 col8\" >78</td> \n",
       "        <td id=\"T_a49bec76_a7ac_11e9_90b1_001a7dda7104row3_col9\" class=\"data row3 col9\" >947.491</td> \n",
       "        <td id=\"T_a49bec76_a7ac_11e9_90b1_001a7dda7104row3_col10\" class=\"data row3 col10\" >1444.47</td> \n",
       "    </tr>    <tr> \n",
       "        <th id=\"T_a49bec76_a7ac_11e9_90b1_001a7dda7104level0_row4\" class=\"row_heading level0 row4\" >4</th> \n",
       "        <td id=\"T_a49bec76_a7ac_11e9_90b1_001a7dda7104row4_col0\" class=\"data row4 col0\" >1</td> \n",
       "        <td id=\"T_a49bec76_a7ac_11e9_90b1_001a7dda7104row4_col1\" class=\"data row4 col1\" >30110</td> \n",
       "        <td id=\"T_a49bec76_a7ac_11e9_90b1_001a7dda7104row4_col2\" class=\"data row4 col2\" >동구</td> \n",
       "        <td id=\"T_a49bec76_a7ac_11e9_90b1_001a7dda7104row4_col3\" class=\"data row4 col3\" >30110137</td> \n",
       "        <td id=\"T_a49bec76_a7ac_11e9_90b1_001a7dda7104row4_col4\" class=\"data row4 col4\" >대별동</td> \n",
       "        <td id=\"T_a49bec76_a7ac_11e9_90b1_001a7dda7104row4_col5\" class=\"data row4 col5\" >127.462</td> \n",
       "        <td id=\"T_a49bec76_a7ac_11e9_90b1_001a7dda7104row4_col6\" class=\"data row4 col6\" >36.2835</td> \n",
       "        <td id=\"T_a49bec76_a7ac_11e9_90b1_001a7dda7104row4_col7\" class=\"data row4 col7\" >455.844</td> \n",
       "        <td id=\"T_a49bec76_a7ac_11e9_90b1_001a7dda7104row4_col8\" class=\"data row4 col8\" >80</td> \n",
       "        <td id=\"T_a49bec76_a7ac_11e9_90b1_001a7dda7104row4_col9\" class=\"data row4 col9\" >1277.92</td> \n",
       "        <td id=\"T_a49bec76_a7ac_11e9_90b1_001a7dda7104row4_col10\" class=\"data row4 col10\" >1444.47</td> \n",
       "    </tr></tbody> \n",
       "</table> "
      ],
      "text/plain": [
       "<pandas.io.formats.style.Styler at 0x262a60da2b0>"
      ]
     },
     "execution_count": 41,
     "metadata": {},
     "output_type": "execute_result"
    }
   ],
   "source": [
    "df = pd.read_excel('./dj_compact.xlsx')\n",
    "#display(df.head())\n",
    "df.head().style"
   ]
  },
  {
   "cell_type": "markdown",
   "metadata": {},
   "source": [
    "* Here are explanation on each column, given by data provider"
   ]
  },
  {
   "cell_type": "markdown",
   "metadata": {},
   "source": [
    "> `gro_flo_co` : number of floors on ground  \n",
    "> `sig_cd` : district ('gu') code  \n",
    "> `sig_nm` : district ('gu') name  \n",
    "> `emd_cd` : town ('dong') code  \n",
    "> `emd_nm` : town ('dong') name  \n",
    "> `lon` : longitude  \n",
    "> `lat` : latitude  \n",
    "> `buld_area` : building area  \n",
    "> `buld_elev` : elevation of ground where the building stands on.  \n",
    "> `y17` : average irradiation of year, including shading effect by nearby buildings  \n",
    "> `st_y17` : average irradiation of year, measured by satellites. "
   ]
  },
  {
   "cell_type": "markdown",
   "metadata": {},
   "source": [
    "### 3.2. Group by Administrative Units\n",
    "#### 3.2.1. By Districts ('gu')"
   ]
  },
  {
   "cell_type": "code",
   "execution_count": 20,
   "metadata": {},
   "outputs": [
    {
     "name": "stdout",
     "output_type": "stream",
     "text": [
      "  sig_nm  gro_flo_co   sig_cd        emd_cd         lon        lat  \\\n",
      "0    대덕구    2.080898  30230.0  3.023011e+07  127.425629  36.391907   \n",
      "1     동구    2.028778  30110.0  3.011012e+07  127.446243  36.330741   \n",
      "2     서구    2.493731  30170.0  3.017011e+07  127.369153  36.319647   \n",
      "3    유성구    2.480617  30200.0  3.020012e+07  127.339416  36.368410   \n",
      "4     중구    2.077924  30140.0  3.014011e+07  127.414222  36.315139   \n",
      "\n",
      "    buld_area  buld_elev          y17       st_y17  \n",
      "0  227.707653  57.003504  1064.705391  1439.913388  \n",
      "1  127.552283  73.383516  1041.501530  1442.023758  \n",
      "2  190.922317  62.107055  1130.255177  1446.711277  \n",
      "3  291.690482  65.701732  1111.219158  1446.773815  \n",
      "4  137.352281  62.724121  1062.345897  1449.680231  \n",
      "\n",
      "# of gu in daejeon (by solar irradiation data) = 5\n"
     ]
    }
   ],
   "source": [
    "df_gu = df.groupby(by='sig_nm').mean().reset_index()\n",
    "print(df_gu.head())\n",
    "print('\\n# of gu in daejeon (by solar irradiation data) = {}'.format(df_gu.shape[0]))"
   ]
  },
  {
   "cell_type": "markdown",
   "metadata": {},
   "source": [
    "#### 3.2.2. By Towns ('dong')"
   ]
  },
  {
   "cell_type": "code",
   "execution_count": 21,
   "metadata": {},
   "outputs": [
    {
     "name": "stdout",
     "output_type": "stream",
     "text": [
      "  emd_nm  gro_flo_co   sig_cd      emd_cd         lon        lat    buld_area  \\\n",
      "0   가수원동    1.692657  30170.0  30170114.0  127.353482  36.301750   180.820143   \n",
      "1    가양동    2.099722  30110.0  30110114.0  127.445783  36.345642   128.429015   \n",
      "2    가오동    3.253482  30110.0  30110105.0  127.454580  36.307718   229.981281   \n",
      "3    가장동    1.877223  30170.0  30170109.0  127.387469  36.331240   145.159259   \n",
      "4    가정동    1.725275  30200.0  30200126.0  127.366689  36.380730  1094.530987   \n",
      "\n",
      "   buld_elev          y17       st_y17  \n",
      "0  63.942468  1183.533958  1455.748407  \n",
      "1  71.217806  1021.838095  1441.657350  \n",
      "2  72.839109  1141.080659  1451.082202  \n",
      "3  46.594310  1102.165677  1442.068788  \n",
      "4  55.751209  1250.224541  1443.765304  \n",
      "\n",
      "# of dong in daejeon (by solar irradiation data) = 168\n"
     ]
    }
   ],
   "source": [
    "df_dong = df.groupby(by='emd_nm').mean().reset_index()\n",
    "print(df_dong.head())\n",
    "print('\\n# of dong in daejeon (by solar irradiation data) = {}'.format(df_dong.shape[0]))"
   ]
  },
  {
   "cell_type": "markdown",
   "metadata": {},
   "source": [
    "### 3.3. Find Center of Daejeon, for Visualization"
   ]
  },
  {
   "cell_type": "code",
   "execution_count": 22,
   "metadata": {},
   "outputs": [
    {
     "name": "stdout",
     "output_type": "stream",
     "text": [
      "127.4013580315068 36.340743659590096\n"
     ]
    }
   ],
   "source": [
    "# center of the map\n",
    "\n",
    "lon_avg = df['lon'].mean()\n",
    "lat_avg = df['lat'].mean()\n",
    "print(lon_avg, lat_avg)"
   ]
  },
  {
   "cell_type": "markdown",
   "metadata": {},
   "source": [
    "### 3.4. Retrieve Geometric Data: geoJSON file\n",
    "> http://www.gisdeveloper.co.kr/?p=2332  \n",
    "> https://neurowhai.tistory.com/350  \n",
    "> mapshaper : https://mapshaper.org/  \n",
    "> shp2geojson : http://gipong.github.io/shp2geojson.js/  \n",
    "> geojson : http://geojson.io/"
   ]
  },
  {
   "cell_type": "markdown",
   "metadata": {},
   "source": [
    "The structure of geojson file is :\n",
    "<pre><code class=\"python\"><font color='gray'>\n",
    "{\"type\":\"FeatureCollection\",  \n",
    " \"bbox\":[<i>longitude_min</i>, <i>latitude_min</i>, <i>longitude_max</i>, <i>latitude_max</i>]    \n",
    " \"features\":[ \n",
    "              { \"type\":\"feature\",\n",
    "                \"geometry\":{\"type\":\"Polygon\", \"coordinates\":[[ <i><font color='green'> ...many pairs of numbers... </font></i>]]],\n",
    "                \"properties\":{\"SIG_CD\":\"11110\", \"SIG_EMG_NM\":\"Jongno-gu\", \"SIG_KOR_NM\":\"종로구\"},\n",
    "                <i><font color='green'> ...repeating... </font></i>\n",
    "}\n",
    "</font></code></pre>"
   ]
  },
  {
   "cell_type": "markdown",
   "metadata": {},
   "source": [
    "#### 3.4.1.Read and Analyze geojson file"
   ]
  },
  {
   "cell_type": "code",
   "execution_count": 23,
   "metadata": {},
   "outputs": [],
   "source": [
    "# 'gu' and dong' data in Korea\n",
    "gu = f'https://raw.githubusercontent.com/jehyunlee/data-snippet/master/Korea_gu_20.json' \n",
    "dong = f'https://raw.githubusercontent.com/jehyunlee/data-snippet/master/Korea_dong_20.json' "
   ]
  },
  {
   "cell_type": "code",
   "execution_count": 24,
   "metadata": {},
   "outputs": [],
   "source": [
    "import urllib.request\n",
    "\n",
    "def read_webjson(url):\n",
    "  with urllib.request.urlopen(url) as src:\n",
    "    data = json.loads(src.read().decode(), encoding='utf-8')\n",
    "    return data "
   ]
  },
  {
   "cell_type": "code",
   "execution_count": 25,
   "metadata": {},
   "outputs": [],
   "source": [
    "gu_data = read_webjson(gu)    # read 'gu' json from data-snippet"
   ]
  },
  {
   "cell_type": "markdown",
   "metadata": {},
   "source": [
    "#### 3.4.2. Filter: 'gu' In Daejeon"
   ]
  },
  {
   "cell_type": "code",
   "execution_count": 26,
   "metadata": {},
   "outputs": [
    {
     "name": "stdout",
     "output_type": "stream",
     "text": [
      "# of \"gu\"s in Daejeon = 5\n",
      "['동구', '중구', '서구', '유성구', '대덕구']\n"
     ]
    }
   ],
   "source": [
    "# 'gu' filter : only Daejeon\n",
    "gu_dj = {}\n",
    "gu_dj_value = []\n",
    "SIG_KOR_NM = []    # list of 'gu's\n",
    "\n",
    "for key, value in gu_data.items():\n",
    "  if key != 'features':\n",
    "    gu_dj.update({key: value})\n",
    "  else:\n",
    "    for feature in gu_data['features']:\n",
    "      properties = feature['properties']\n",
    "      sig_cd = properties['SIG_CD']\n",
    "      if sig_cd[:2] == '30':\n",
    "        SIG_KOR_NM.append(properties['SIG_KOR_NM'])\n",
    "        gu_dj_value.append(feature)\n",
    "gu_dj['features'] = gu_dj_value\n",
    "        \n",
    "print('# of \"gu\"s in Daejeon = {}'.format(len(SIG_KOR_NM)))\n",
    "print(SIG_KOR_NM)        \n",
    "\n",
    "# save list of 'gu's in json format\n",
    "with open(\"gu_dj.json\",\"w\", encoding='utf-8') as jsonfile:\n",
    "        json.dump(gu_dj,jsonfile,ensure_ascii=False)"
   ]
  },
  {
   "cell_type": "markdown",
   "metadata": {},
   "source": [
    "#### 3.4.3. Filter: 'dong' In Daejeon"
   ]
  },
  {
   "cell_type": "code",
   "execution_count": 27,
   "metadata": {},
   "outputs": [],
   "source": [
    "# read 'dong'\n",
    "# For unknown reason, it is not possible to read from web.\n",
    "dong_data = json.loads(open('./Korea_dong_20.json', 'r', encoding='utf-8').read())"
   ]
  },
  {
   "cell_type": "markdown",
   "metadata": {},
   "source": [
    "#### 3.4.3.1. Treating Duplicates and Missing Data in 'dong'."
   ]
  },
  {
   "cell_type": "code",
   "execution_count": 33,
   "metadata": {},
   "outputs": [
    {
     "name": "stdout",
     "output_type": "stream",
     "text": [
      "# of \"dong\"s in Daejeon = 177\n",
      "['가수원동', '가양동', '가오동', '가장동', '가정동', '갈마동', '갈전동', '갑동', '계산동', '관저동', '관평동', '괴곡동', '괴정동', '교촌동', '구도동', '구룡동', '구성동', '구암동', '구완동', '궁동', '금고동', '금동', '금탄동', '낭월동', '내동', '내탑동', '노은동', '대동', '대동', '대별동', '대사동', '대성동', '대정동', '대화동', '대흥동', '덕명동', '덕암동', '덕진동', '도룡동', '도마동', '도안동', '둔곡동', '둔산동', '마산동', '만년동', '매노동', '목달동', '목동', '목상동', '무수동', '문지동', '문창동', '문평동', '문화동', '미호동', '반석동', '방동', '방현동', '법동', '변동', '복수동', '복용동', '봉곡동', '봉명동', '봉산동', '부사동', '부수동', '비래동', '비룡동', '사성동', '사정동', '산성동', '산직동', '삼괴동', '삼성동', '삼정동', '삼정동', '상대동', '상서동', '상소동', '석교동', '석봉동', '선화동', '성남동', '성북동', '세동', '세천동', '소제동', '소호동', '송강동', '송정동', '송촌동', '수남동', '신대동', '신동', '신봉동', '신상동', '신성동', '신안동', '신일동', '신촌동', '신탄진동', '신하동', '신흥동', '안산동', '안영동', '어남동', '어은동', '연축동', '오동', '오동', '오류동', '오정동', '옥계동', '와동', '외삼동', '용계동', '용계동', '용두동', '용문동', '용산동', '용운동', '용전동', '용촌동', '용호동', '우명동', '원내동', '원동', '원신흥동', '원정동', '원촌동', '월평동', '유천동', '은행동', '읍내동', '이사동', '이현동', '인동', '자양동', '자운동', '장대동', '장동', '장동', '장안동', '장척동', '전민동', '정동', '정림동', '정생동', '주산동', '주촌동', '죽동', '중동', '중리동', '중촌동', '지족동', '직동', '천동', '추동', '추목동', '침산동', '탄방동', '탑립동', '태평동', '판암동', '평촌동', '평촌동', '하기동', '하소동', '학하동', '호동', '홍도동', '화암동', '황호동', '효동', '효평동', '흑석동']\n",
      "\n",
      "Duplicates are ['삼정동', '대동', '용계동', '오동', '평촌동', '장동']\n",
      "\n",
      "# of  \"dong\"s in Daejeon = 171\n",
      "List of  \"dong\"s in Daejeon = ['가수원동', '가양동', '가오동', '가장동', '가정동', '갈마동', '갈전동', '갑동', '계산동', '관저동', '관평동', '괴곡동', '괴정동', '교촌동', '구도동', '구룡동', '구성동', '구암동', '구완동', '궁동', '금고동', '금동', '금탄동', '낭월동', '내동', '내탑동', '노은동', '대동', '대별동', '대사동', '대성동', '대정동', '대화동', '대흥동', '덕명동', '덕암동', '덕진동', '도룡동', '도마동', '도안동', '둔곡동', '둔산동', '마산동', '만년동', '매노동', '목달동', '목동', '목상동', '무수동', '문지동', '문창동', '문평동', '문화동', '미호동', '반석동', '방동', '방현동', '법동', '변동', '복수동', '복용동', '봉곡동', '봉명동', '봉산동', '부사동', '부수동', '비래동', '비룡동', '사성동', '사정동', '산성동', '산직동', '삼괴동', '삼성동', '삼정동', '상대동', '상서동', '상소동', '석교동', '석봉동', '선화동', '성남동', '성북동', '세동', '세천동', '소제동', '소호동', '송강동', '송정동', '송촌동', '수남동', '신대동', '신동', '신봉동', '신상동', '신성동', '신안동', '신일동', '신촌동', '신탄진동', '신하동', '신흥동', '안산동', '안영동', '어남동', '어은동', '연축동', '오동', '오류동', '오정동', '옥계동', '와동', '외삼동', '용계동', '용두동', '용문동', '용산동', '용운동', '용전동', '용촌동', '용호동', '우명동', '원내동', '원동', '원신흥동', '원정동', '원촌동', '월평동', '유천동', '은행동', '읍내동', '이사동', '이현동', '인동', '자양동', '자운동', '장대동', '장동', '장안동', '장척동', '전민동', '정동', '정림동', '정생동', '주산동', '주촌동', '죽동', '중동', '중리동', '중촌동', '지족동', '직동', '천동', '추동', '추목동', '침산동', '탄방동', '탑립동', '태평동', '판암동', '평촌동', '하기동', '하소동', '학하동', '호동', '홍도동', '화암동', '황호동', '효동', '효평동', '흑석동']\n",
      "\n",
      "Missing \"dong\"s = ['부수동', '수남동', '황호동']\n"
     ]
    }
   ],
   "source": [
    "import numpy as np\n",
    "\n",
    "# 'dong' filter : only Daejeon\n",
    "dong_dj = {}\n",
    "dong_dj_value = []\n",
    "EMD_KOR_NM = []    # list of 'dong's\n",
    "\n",
    "for key, value in dong_data.items():\n",
    "  if key != 'features':\n",
    "    dong_dj.update({key: value})\n",
    "  else:\n",
    "    for feature in dong_data['features']:\n",
    "      properties = feature['properties']\n",
    "      emd_cd = properties['EMD_CD']\n",
    "      if emd_cd[:2] == '30':\n",
    "        EMD_KOR_NM.append(properties['EMD_KOR_NM'])\n",
    "        dong_dj_value.append(feature)\n",
    "dong_dj['features'] = dong_dj_value\n",
    "\n",
    "print('# of \"dong\"s in Daejeon = {}'.format(len(EMD_KOR_NM)))  # Wrong Value : Duplicates exist \n",
    "print(sorted(EMD_KOR_NM))  \n",
    "\n",
    "# Find duplicates\n",
    "import collections\n",
    "print('\\nDuplicates are {}'.format([item for item, count in collections.Counter(EMD_KOR_NM).items() if count > 1]))\n",
    "EMD_KOR_NM = list(np.sort(np.unique(np.array(EMD_KOR_NM))))\n",
    "\n",
    "print('\\n# of  \"dong\"s in Daejeon = {}'.format(len(EMD_KOR_NM)))\n",
    "print('List of  \"dong\"s in Daejeon = {}'.format(EMD_KOR_NM))\n",
    "\n",
    "# Find missings in solar data\n",
    "dong_solar = df_dong['emd_nm'].unique()\n",
    "missing = []\n",
    "for dong in EMD_KOR_NM:\n",
    "  if dong not in dong_solar:\n",
    "    missing.append(dong)\n",
    "    \n",
    "print('\\nMissing \"dong\"s = {}'.format(missing))\n",
    "\n",
    "# Save list of 'dong's in json format, including duplicates,\n",
    "# because it is not important to treat them at the moment.\n",
    "with open(\"dong_dj.json\",\"w\", encoding='utf-8') as jsonfile:\n",
    "        json.dump(dong_dj,jsonfile,ensure_ascii=False)"
   ]
  },
  {
   "cell_type": "markdown",
   "metadata": {},
   "source": [
    "### 3.5 Drawing Maps\n",
    "#### 3.5.1. with Administrative Disticts Boundaries"
   ]
  },
  {
   "cell_type": "code",
   "execution_count": 34,
   "metadata": {},
   "outputs": [],
   "source": [
    "m = folium.Map(location=[lat_avg, lon_avg], zoom_start=11)\n",
    "\n",
    "style_function_gu = {\n",
    "                 'fillColor': 'white',\n",
    "                 'color':'#000000FF'\n",
    "                }\n",
    "\n",
    "style_function_dong = {\n",
    "                 'fillColor': 'white',\n",
    "                 'color':'#0000FF66'\n",
    "                }\n",
    "\n",
    "folium.GeoJson(dong_dj, name='dong_dj',\n",
    "               style_function=lambda x: style_function_dong        # style_function has to be a function which calls dictionary\n",
    "              ).add_to(m)        # Overlay on map\n",
    "\n",
    "folium.GeoJson(gu_dj, name='gu_dj',\n",
    "               style_function=lambda x: style_function_gu        # style_function has to be a function which calls dictionary\n",
    "              ).add_to(m)        # Overlay on map\n",
    "\n",
    "folium.LayerControl().add_to(m)\n",
    "\n",
    "export_png(m, 'map100.html', 'map100.png')"
   ]
  },
  {
   "cell_type": "markdown",
   "metadata": {},
   "source": [
    "interactive html : <a href='https://rawcdn.githack.com/jehyunlee/code-snippet/2e618e12ca2d5312eaae6e5a86db48b988366321/1_folium_geojson/html/map100.html'>link</a>"
   ]
  },
  {
   "cell_type": "markdown",
   "metadata": {},
   "source": [
    "<img src=\"./images/map100.png\" height=\"400\" width=\"400\">"
   ]
  },
  {
   "cell_type": "markdown",
   "metadata": {},
   "source": [
    "#### 3.5.2. with Data : year-averaged solar irradiation"
   ]
  },
  {
   "cell_type": "code",
   "execution_count": 36,
   "metadata": {},
   "outputs": [],
   "source": [
    "# Draw map with administrative distructs\n",
    "\n",
    "m = folium.Map(location=[lat_avg, lon_avg], zoom_start=11, tiles='Stamen Terrain')\n",
    "\n",
    "folium.Choropleth(\n",
    "    geo_data = dong_dj,\n",
    "    data=df_dong,\n",
    "    name='Satallite Irradiation',\n",
    "    columns=['emd_nm', 'st_y17'],\n",
    "    key_on='feature.properties.EMD_KOR_NM',\n",
    "    fill_color='YlOrRd',\n",
    "    fill_opacity=1,\n",
    "    line_opacity=1,\n",
    "    legend_name='Satallite Irradiation'\n",
    ").add_to(m)\n",
    "\n",
    "folium.Choropleth(\n",
    "    geo_data = dong_dj,\n",
    "    data=df_dong,\n",
    "    name='Irradiation with Shade',\n",
    "    columns=['emd_nm', 'y17'],\n",
    "    key_on='feature.properties.EMD_KOR_NM',\n",
    "    fill_color='BuGn',\n",
    "    fill_opacity=1,\n",
    "    line_opacity=1,\n",
    "    legend_name='Irradiation with Shade',\n",
    ").add_to(m)\n",
    "\n",
    "folium.LayerControl().add_to(m)\n",
    "\n",
    "export_png(m, 'map101.html', 'map101.png')"
   ]
  },
  {
   "cell_type": "markdown",
   "metadata": {},
   "source": [
    "interactive html : <a href='https://rawcdn.githack.com/jehyunlee/code-snippet/2e618e12ca2d5312eaae6e5a86db48b988366321/1_folium_geojson/html/map101.html'>link</a>"
   ]
  },
  {
   "cell_type": "markdown",
   "metadata": {},
   "source": [
    "<img src=\"./images/map101.png\" height=\"400\" width=\"400\">"
   ]
  }
 ],
 "metadata": {
  "kernelspec": {
   "display_name": "Python 3",
   "language": "python",
   "name": "python3"
  },
  "language_info": {
   "codemirror_mode": {
    "name": "ipython",
    "version": 3
   },
   "file_extension": ".py",
   "mimetype": "text/x-python",
   "name": "python",
   "nbconvert_exporter": "python",
   "pygments_lexer": "ipython3",
   "version": "3.7.1"
  }
 },
 "nbformat": 4,
 "nbformat_minor": 2
}
