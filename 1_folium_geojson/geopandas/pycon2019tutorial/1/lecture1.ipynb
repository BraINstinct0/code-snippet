{
 "cells": [
  {
   "cell_type": "markdown",
   "metadata": {},
   "source": [
    "### 안내페이지\n",
    "#### https://www.notion.so/rollinstar/Python-cc8a370daf784bf9b084ca06a37c5a1e"
   ]
  },
  {
   "cell_type": "markdown",
   "metadata": {},
   "source": [
    "# GIS (Geographic Information System or Science)\n",
    "\n",
    "* 지리공간데이터를 생성/편집/저장/분석/시각화하기 위한 모든 Science\n",
    "\n",
    "#### Geographic\n",
    "* 지표상에 있는 모든 지리(地理)적 사상(Feature)\n",
    "\n",
    "#### Information\n",
    "* 디지털화된 데이터\n",
    "\n",
    "#### System / Science\n",
    "* 지리공간데이터를 처리하기 위한 모든 기법/방법"
   ]
  },
  {
   "cell_type": "markdown",
   "metadata": {},
   "source": [
    "# GeoPandas\n",
    "\n",
    "* `python`으로 지리공간데이터(Geospatial Data)를 다루기 위한 오픈소스 라이브러리\n",
    "* `pandas`를 확장한 라이브러리\n",
    "* `python`에는 다양한 지리공간데이터를 처리할 수 있는 라이브러리들이 존재 (ex:  `GDAL/OGR`, `shapely`, `fiona`, `descrates`)\n",
    "    * `GeoPandas`는 내부적으로 이런 라이브러리들을 내부적으로 활용하고 있다."
   ]
  },
  {
   "cell_type": "code",
   "execution_count": 1,
   "metadata": {},
   "outputs": [],
   "source": [
    "# GeoPandas설치하기ddlfjffadfadfaf\n",
    "# !pip3 install shapely\n",
    "# !pip3 install geopandas"
   ]
  },
  {
   "cell_type": "markdown",
   "metadata": {},
   "source": [
    "#### Import library"
   ]
  },
  {
   "cell_type": "code",
   "execution_count": 2,
   "metadata": {},
   "outputs": [],
   "source": [
    "# _01 라이브러리 추가하기\n",
    "import geopandas as gpd"
   ]
  },
  {
   "cell_type": "code",
   "execution_count": 3,
   "metadata": {},
   "outputs": [],
   "source": [
    "# Nice representation of dataframe in markdown\n",
    "import pandas as pd\n",
    "import copy\n",
    "from IPython.display import Markdown, display\n",
    "\n",
    "def df2md(df, maxlen=20):\n",
    "    _df = copy.deepcopy(df)\n",
    "    \n",
    "    for col in _df.columns:\n",
    "        _df[col] = _df[col].astype('str')\n",
    "        if (_df[col].str.len()> maxlen).any() :\n",
    "            _df[col].loc[_df[col].str.len() > maxlen] = _df[col].str.slice(stop=maxlen) + ' ...'\n",
    "\n",
    "    if '(index)' not in _df.columns:\n",
    "        _df.insert(0, '(index)', df.index)\n",
    "        \n",
    "    fmt = ['---' for i in range(len(_df.columns))]\n",
    "    df_fmt = pd.DataFrame([fmt], columns=_df.columns)\n",
    "    df_formatted = pd.concat([df_fmt, _df])\n",
    "    display(Markdown(df_formatted.to_csv(sep=\"|\", index=False)))\n",
    "    _df.drop(columns='(index)', axis=1, inplace=True)"
   ]
  },
  {
   "cell_type": "markdown",
   "metadata": {},
   "source": [
    "#### Reading data\n",
    "- `GeoPandas`는 vector 타입의 대부분 포맷 들을 읽을 수 있습니다.\n",
    "    - `shp`, `geojson`, `GML`, `KML`..."
   ]
  },
  {
   "cell_type": "code",
   "execution_count": 4,
   "metadata": {},
   "outputs": [],
   "source": [
    "# _02 서울시 행정동 .shp파일\n",
    "_h_dong = './maps/seoul_h_dong/seoul_h_dong.shp'"
   ]
  },
  {
   "cell_type": "code",
   "execution_count": 5,
   "metadata": {
    "scrolled": true
   },
   "outputs": [],
   "source": [
    "# _03 지도 파일을 불러와 GeoDataFrame 생성하기\n",
    "seoul_h_dong_gdf = gpd.read_file(_h_dong, encoding='utf-8')"
   ]
  },
  {
   "cell_type": "markdown",
   "metadata": {},
   "source": [
    "###### **Tip!** 한글이 깨질 경우 gpd.read_file의 encoding 옵션 변경"
   ]
  },
  {
   "cell_type": "code",
   "execution_count": 6,
   "metadata": {},
   "outputs": [
    {
     "data": {
      "text/plain": [
       "dtype('int64')"
      ]
     },
     "execution_count": 6,
     "metadata": {},
     "output_type": "execute_result"
    }
   ],
   "source": [
    "seoul_h_dong_gdf['TOTAL_POP'].dtypes"
   ]
  },
  {
   "cell_type": "code",
   "execution_count": 31,
   "metadata": {},
   "outputs": [
    {
     "data": {
      "text/markdown": [
       "(index)|SGG_NM|DONG_NM|SGG_CODE|H_CODE|SEDAE|SEDAE_INGU|TOTAL_POP|MALE_POP|FEMALE_POP|65_OVER|geom\n",
       "---|---|---|---|---|---|---|---|---|---|---|---\n",
       "0|종로구|사직동|11110|1111000|4414|2.14|9717|4467|5250|1708|POLYGON ((126.976888 ...\n",
       "1|종로구|삼청동|11110|1111000|1414|2.06|3097|1459|1638|634|POLYGON ((126.982689 ...\n",
       "2|종로구|부암동|11110|1111000|4325|2.39|10726|5160|5566|1748|POLYGON ((126.975851 ...\n",
       "3|종로구|평창동|11110|1111000|7510|2.53|19163|9032|10131|3037|POLYGON ((126.975074 ...\n",
       "4|종로구|무악동|11110|1111000|3024|2.75|8375|3921|4454|1279|POLYGON ((126.960673 ...\n",
       "5|종로구|교남동|11110|1111000|4379|2.34|10363|4850|5513|1406|POLYGON ((126.969048 ...\n",
       "6|종로구|가회동|11110|1111000|2085|2.17|4657|2194|2463|900|POLYGON ((126.989135 ...\n",
       "7|종로구|종로1.2.3.4가동|11110|1111000|5378|1.41|8592|5045|3547|1865|POLYGON ((126.996499 ...\n",
       "8|종로구|종로5·6가동|11110|1111000|3174|1.69|5690|3096|2594|1089|POLYGON ((127.010160 ...\n",
       "9|종로구|이화동|11110|1111000|4462|1.85|8752|4075|4677|1302|POLYGON ((127.007332 ...\n"
      ],
      "text/plain": [
       "<IPython.core.display.Markdown object>"
      ]
     },
     "metadata": {},
     "output_type": "display_data"
    }
   ],
   "source": [
    "# _04 데이터 확인하기\n",
    "df2md(seoul_h_dong_gdf.head(10))"
   ]
  },
  {
   "cell_type": "code",
   "execution_count": 8,
   "metadata": {},
   "outputs": [
    {
     "name": "stdout",
     "output_type": "stream",
     "text": [
      "<class 'geopandas.geodataframe.GeoDataFrame'>\n",
      "RangeIndex: 424 entries, 0 to 423\n",
      "Data columns (total 11 columns):\n",
      "SGG_NM        424 non-null object\n",
      "DONG_NM       424 non-null object\n",
      "SGG_CODE      424 non-null object\n",
      "H_CODE        424 non-null object\n",
      "SEDAE         424 non-null int64\n",
      "SEDAE_INGU    424 non-null float64\n",
      "TOTAL_POP     424 non-null int64\n",
      "MALE_POP      424 non-null int64\n",
      "FEMALE_POP    424 non-null int64\n",
      "65_OVER       424 non-null int64\n",
      "geometry      424 non-null object\n",
      "dtypes: float64(1), int64(5), object(5)\n",
      "memory usage: 36.6+ KB\n"
     ]
    }
   ],
   "source": [
    "# _05 Dataframe 개요정보 확인하기\n",
    "seoul_h_dong_gdf.info()"
   ]
  },
  {
   "cell_type": "code",
   "execution_count": 9,
   "metadata": {},
   "outputs": [
    {
     "name": "stdout",
     "output_type": "stream",
     "text": [
      "<class 'geopandas.geodataframe.GeoDataFrame'>\n",
      "RangeIndex: 424 entries, 0 to 423\n",
      "Data columns (total 11 columns):\n",
      "SGG_NM        424 non-null object\n",
      "DONG_NM       424 non-null object\n",
      "SGG_CODE      424 non-null object\n",
      "H_CODE        424 non-null object\n",
      "SEDAE         424 non-null int64\n",
      "SEDAE_INGU    424 non-null float64\n",
      "TOTAL_POP     424 non-null int64\n",
      "MALE_POP      424 non-null int64\n",
      "FEMALE_POP    424 non-null int64\n",
      "65_OVER       424 non-null int64\n",
      "geometry      424 non-null object\n",
      "dtypes: float64(1), int64(5), object(5)\n",
      "memory usage: 36.6+ KB\n"
     ]
    },
    {
     "data": {
      "text/markdown": [
       "(index)|SGG_NM|DONG_NM|SGG_CODE|H_CODE|SEDAE|SEDAE_INGU|TOTAL_POP|MALE_POP|FEMALE_POP|65_OVER|geometry\n",
       "---|---|---|---|---|---|---|---|---|---|---|---\n",
       "0|종로구|사직동|11110|1111000|4414|2.14|9717|4467|5250|1708|POLYGON ((126.976888 ...\n",
       "1|종로구|삼청동|11110|1111000|1414|2.06|3097|1459|1638|634|POLYGON ((126.982689 ...\n",
       "2|종로구|부암동|11110|1111000|4325|2.39|10726|5160|5566|1748|POLYGON ((126.975851 ...\n",
       "3|종로구|평창동|11110|1111000|7510|2.53|19163|9032|10131|3037|POLYGON ((126.975074 ...\n",
       "4|종로구|무악동|11110|1111000|3024|2.75|8375|3921|4454|1279|POLYGON ((126.960673 ...\n"
      ],
      "text/plain": [
       "<IPython.core.display.Markdown object>"
      ]
     },
     "metadata": {},
     "output_type": "display_data"
    }
   ],
   "source": [
    "# _06 데이터 확인 요령 info() & head()를 동시에.... 취향대로\n",
    "seoul_h_dong_gdf.info()\n",
    "df2md(seoul_h_dong_gdf.head())"
   ]
  },
  {
   "cell_type": "code",
   "execution_count": 10,
   "metadata": {},
   "outputs": [
    {
     "data": {
      "text/markdown": [
       "(index)|SEDAE|SEDAE_INGU|TOTAL_POP|MALE_POP|FEMALE_POP|65_OVER\n",
       "---|---|---|---|---|---|---\n",
       "count|424.0|424.0|424.0|424.0|424.0|424.0\n",
       "mean|9953.02358490566|2.3381367924528305|23878.724056603773|11693.058962264151|12185.665094339623|3219.6367924528304\n",
       "std|3889.0310752080863|0.34843326492864635|9431.363644288916|4594.843032205243|4866.5098217325985|1279.225377002793\n",
       "min|365.0|1.35|905.0|450.0|455.0|114.0\n",
       "25%|7358.25|2.1275|17607.25|8669.75|9028.5|2340.75\n",
       "50%|9723.0|2.33|23178.0|11361.5|11732.5|3107.0\n",
       "75%|12395.0|2.5425|29671.0|14559.0|14998.0|3965.5\n",
       "max|25214.0|3.42|55569.0|26975.0|29079.0|7244.0\n"
      ],
      "text/plain": [
       "<IPython.core.display.Markdown object>"
      ]
     },
     "metadata": {},
     "output_type": "display_data"
    }
   ],
   "source": [
    "# _07 Dataframe 통계정보 확인하기\n",
    "df2md(seoul_h_dong_gdf.describe())"
   ]
  },
  {
   "cell_type": "code",
   "execution_count": 11,
   "metadata": {},
   "outputs": [
    {
     "data": {
      "text/plain": [
       "23878.724056603773"
      ]
     },
     "execution_count": 11,
     "metadata": {},
     "output_type": "execute_result"
    }
   ],
   "source": [
    "# _08 평균값 가져오기\n",
    "seoul_h_dong_gdf.TOTAL_POP.mean()"
   ]
  },
  {
   "cell_type": "markdown",
   "metadata": {},
   "source": [
    "##### **Tip!** describe() 명령어의 결과물은 `pd.DataFrame`. 아래와 같은 접근이 가능함."
   ]
  },
  {
   "cell_type": "code",
   "execution_count": 12,
   "metadata": {},
   "outputs": [
    {
     "data": {
      "text/plain": [
       "23878.724056603773"
      ]
     },
     "execution_count": 12,
     "metadata": {},
     "output_type": "execute_result"
    }
   ],
   "source": [
    "seoul_h_dong_gdf.TOTAL_POP.describe().loc['mean']"
   ]
  },
  {
   "cell_type": "code",
   "execution_count": 13,
   "metadata": {},
   "outputs": [
    {
     "data": {
      "text/plain": [
       "0            사직동\n",
       "1            삼청동\n",
       "2            부암동\n",
       "3            평창동\n",
       "4            무악동\n",
       "5            교남동\n",
       "6            가회동\n",
       "7    종로1.2.3.4가동\n",
       "8        종로5·6가동\n",
       "9            이화동\n",
       "Name: DONG_NM, dtype: object"
      ]
     },
     "execution_count": 13,
     "metadata": {},
     "output_type": "execute_result"
    }
   ],
   "source": [
    "# _09 Serise 데이터 가져오기\n",
    "seoul_h_dong_gdf.DONG_NM[:10]"
   ]
  },
  {
   "cell_type": "markdown",
   "metadata": {},
   "source": [
    "#### GeoPandas Data Structure(데이터 구조)\n",
    "##### GeoDataFrame / Series / GeoSeries"
   ]
  },
  {
   "cell_type": "code",
   "execution_count": 14,
   "metadata": {},
   "outputs": [
    {
     "name": "stdout",
     "output_type": "stream",
     "text": [
      "<class 'geopandas.geodataframe.GeoDataFrame'>\n",
      "<class 'pandas.core.series.Series'>\n",
      "<class 'geopandas.geoseries.GeoSeries'>\n"
     ]
    }
   ],
   "source": [
    "# _10 GeoPandas 데이터구조 확인하기\n",
    "print(type(seoul_h_dong_gdf))\n",
    "print(type(seoul_h_dong_gdf.TOTAL_POP))\n",
    "print(type(seoul_h_dong_gdf.geometry))"
   ]
  },
  {
   "cell_type": "markdown",
   "metadata": {},
   "source": [
    "### GeoSeries 알아보기\n",
    "* Pandas의 Series + Geometry"
   ]
  },
  {
   "cell_type": "markdown",
   "metadata": {},
   "source": [
    "#### GeoSeries 속성(Attributes)\n",
    "* geom_type\n",
    "* area\n",
    "* bounds\n",
    "* total_bounds"
   ]
  },
  {
   "cell_type": "code",
   "execution_count": 15,
   "metadata": {},
   "outputs": [
    {
     "data": {
      "text/plain": [
       "0      Polygon\n",
       "1      Polygon\n",
       "2      Polygon\n",
       "3      Polygon\n",
       "4      Polygon\n",
       "        ...   \n",
       "419    Polygon\n",
       "420    Polygon\n",
       "421    Polygon\n",
       "422    Polygon\n",
       "423    Polygon\n",
       "Length: 424, dtype: object"
      ]
     },
     "execution_count": 15,
     "metadata": {},
     "output_type": "execute_result"
    }
   ],
   "source": [
    "# _11 geometry type 확인하기\n",
    "seoul_h_dong_gdf['geometry'].geom_type"
   ]
  },
  {
   "cell_type": "code",
   "execution_count": 16,
   "metadata": {},
   "outputs": [
    {
     "data": {
      "image/svg+xml": [
       "<svg xmlns=\"http://www.w3.org/2000/svg\" xmlns:xlink=\"http://www.w3.org/1999/xlink\" width=\"100.0\" height=\"100.0\" viewBox=\"127.00921589999524 37.569412492078044 0.00997196869718664 0.007767296492353637\" preserveAspectRatio=\"xMinYMin meet\"><g transform=\"matrix(1,0,0,-1,0,75.14659228064843)\"><path fill-rule=\"evenodd\" fill=\"#66cc99\" stroke=\"#555555\" stroke-width=\"0.0001994393739437328\" opacity=\"0.6\" d=\"M 127.01572604080032,37.572983762654744 L 127.01881853651845,37.570984519777085 L 127.0175133756155,37.57029101296999 L 127.0172783400352,37.5702024312381 L 127.0171373467301,37.570149540415414 L 127.01700034533405,37.5701027859073 L 127.01686968618156,37.57005943724952 L 127.01674098681009,37.57001950356381 L 127.01664154663442,37.56998864893561 L 127.0163801750635,37.56991209062485 L 127.0161766627633,37.56986280930545 L 127.01600564056696,37.56982380100295 L 127.0158654089304,37.56981531307181 L 127.0157629720032,37.56980928655595 L 127.01566542077587,37.56980859794676 L 127.01537585828629,37.56980657136566 L 127.01161575947448,37.56978206242719 L 127.01128595164396,37.56978182425201 L 127.01010401194387,37.569782558827946 L 127.00958523216921,37.569783784930834 L 127.01016044839562,37.57156810157083 L 127.01196088087447,37.57263839098752 L 127.01260655758911,37.574677091344356 L 127.01264929372097,37.57538134668361 L 127.01547769446634,37.57681045639643 L 127.01566947011413,37.575578047001116 L 127.01572604080032,37.572983762654744 z\" /></g></svg>"
      ],
      "text/plain": [
       "<shapely.geometry.polygon.Polygon at 0x7ffc618a3ac8>"
      ]
     },
     "execution_count": 16,
     "metadata": {},
     "output_type": "execute_result"
    }
   ],
   "source": [
    "# _12 Polygon 확인하기 \n",
    "seoul_h_dong_gdf['geometry'][10]"
   ]
  },
  {
   "cell_type": "markdown",
   "metadata": {},
   "source": [
    "##### **Tip!** geometry의 형상이 아닌 값을 확인하고 싶으면 범위로 호출"
   ]
  },
  {
   "cell_type": "code",
   "execution_count": 17,
   "metadata": {},
   "outputs": [
    {
     "data": {
      "text/plain": [
       "10    POLYGON ((127.0157260408003 37.57298376265474,...\n",
       "Name: geometry, dtype: object"
      ]
     },
     "execution_count": 17,
     "metadata": {},
     "output_type": "execute_result"
    }
   ],
   "source": [
    "seoul_h_dong_gdf['geometry'][10:11]"
   ]
  },
  {
   "cell_type": "code",
   "execution_count": null,
   "metadata": {},
   "outputs": [],
   "source": []
  },
  {
   "cell_type": "code",
   "execution_count": 18,
   "metadata": {},
   "outputs": [
    {
     "data": {
      "text/plain": [
       "0    0.000119\n",
       "1    0.000139\n",
       "2    0.000225\n",
       "3    0.000920\n",
       "4    0.000048\n",
       "5    0.000035\n",
       "6    0.000062\n",
       "7    0.000244\n",
       "8    0.000065\n",
       "9    0.000077\n",
       "dtype: float64"
      ]
     },
     "execution_count": 18,
     "metadata": {},
     "output_type": "execute_result"
    }
   ],
   "source": [
    "# _13 GeoSeries 면적 계산하기\n",
    "seoul_h_dong_gdf['geometry'].area[:10]"
   ]
  },
  {
   "cell_type": "code",
   "execution_count": 19,
   "metadata": {},
   "outputs": [
    {
     "data": {
      "text/plain": [
       "0    0.047948\n",
       "1    0.063533\n",
       "2    0.081741\n",
       "3    0.135755\n",
       "4    0.028105\n",
       "5    0.030201\n",
       "6    0.037011\n",
       "7    0.082341\n",
       "8    0.033248\n",
       "9    0.035567\n",
       "dtype: float64"
      ]
     },
     "execution_count": 19,
     "metadata": {},
     "output_type": "execute_result"
    }
   ],
   "source": [
    "# _14 길이 확인하기\n",
    "seoul_h_dong_gdf['geometry'].length[:10]"
   ]
  },
  {
   "cell_type": "code",
   "execution_count": 20,
   "metadata": {},
   "outputs": [
    {
     "data": {
      "text/plain": [
       "{'init': 'epsg:4326'}"
      ]
     },
     "execution_count": 20,
     "metadata": {},
     "output_type": "execute_result"
    }
   ],
   "source": [
    "# _15 좌표체계 확인하기\n",
    "seoul_h_dong_gdf.crs = {'init': 'epsg:4326'} # WGS84 - Google Map 등 가장 일반적인 좌표체계\n",
    "seoul_h_dong_gdf.crs"
   ]
  },
  {
   "cell_type": "markdown",
   "metadata": {},
   "source": [
    "##### **Tip!** 한국의 주요 좌표계 및 Proj4 인자 정리\n",
    "> https://www.osgeo.kr/17\n",
    "<br>   \n",
    "  \n",
    "###### 1. WGS84 경위도: GPS가 사용하는 좌표계  \n",
    "* EPSG: 4326, EPSG: 4166 (Korean 1995)  \n",
    "* +proj=longlat +ellps=WGS84 +datum=WGS84 +no_defs   \n",
    "<br>  \n",
    "  \n",
    "###### 2. Bessel 1841 경위도: 한국과 일본에 잘 맞는 지역타원체를 사용한 좌표계  \n",
    "* EPSG: 4004, EPSG: 4162 (Korean 1985)  \n",
    "* +proj=longlat +ellps=bessel +no_defs +towgs84=-115.80,474.99,674.11,1.16,-2.31,-1.63,6.43  \n",
    "<br>  \n",
    "  \n",
    "###### 3. GRS80 경위도: WGS84와 거의 유사   \n",
    "* EPSG:4019, EPSG:4737 (Korean 2000)  \n",
    "* +proj=longlat +ellps=GRS80 +no_defs  \n",
    "<br>  \n",
    "  \n",
    "###### 4. Google Mercator: 구글지도/빙지도/야후지도/OSM 등 에서 사용중인 좌표계  \n",
    "* EPSG:3857(공식), EPSG:900913(통칭)  \n",
    "* +proj=merc +a=6378137 +b=6378137 +lat_ts=0.0 +lon_0=0.0 +x_0=0.0 +y_0=0 +k=1.0 +units=m +nadgrids=@null +no_defs  \n"
   ]
  },
  {
   "cell_type": "code",
   "execution_count": 21,
   "metadata": {},
   "outputs": [
    {
     "data": {
      "text/markdown": [
       "(index)|minx|miny|maxx|maxy\n",
       "---|---|---|---|---\n",
       "0|126.96281041047263|37.56819441770833|126.9770344988775|37.57960153712449\n",
       "1|126.97358726355343|37.57552636292861|126.98947579208668|37.59656422224408\n",
       "2|126.9527493088157|37.583811410465415|126.97585113775686|37.607058994444564\n",
       "3|126.94998323286886|37.59506510110588|126.98774119171668|37.63228533903874\n",
       "4|126.95355601666945|37.572961218450786|126.96284099051198|37.58169718780316\n",
       "5|126.9595707378107|37.56579436403002|126.96904837001854|37.57666158609274\n",
       "6|126.98283620716704|37.576674025462005|126.98977388297557|37.59139446162827\n",
       "7|126.97688884274817|37.5681085386568|127.00162224915923|37.587469119033116\n",
       "8|126.99796924004315|37.56959157448218|127.01016044839562|37.57670881432088\n",
       "9|126.99641172469615|37.575897283278564|127.00884131783923|37.584756278282704\n"
      ],
      "text/plain": [
       "<IPython.core.display.Markdown object>"
      ]
     },
     "metadata": {},
     "output_type": "display_data"
    }
   ],
   "source": [
    "# _16 GeoSeries bbox가져오기\n",
    "df2md(seoul_h_dong_gdf['geometry'].bounds[:10])"
   ]
  },
  {
   "cell_type": "code",
   "execution_count": 22,
   "metadata": {},
   "outputs": [
    {
     "data": {
      "text/plain": [
       "array([126.7642783,  37.4290107, 127.1835519,  37.7010799])"
      ]
     },
     "execution_count": 22,
     "metadata": {},
     "output_type": "execute_result"
    }
   ],
   "source": [
    "# _17 지도 전체 bbox가져오기\n",
    "seoul_h_dong_gdf['geometry'].total_bounds"
   ]
  },
  {
   "cell_type": "markdown",
   "metadata": {},
   "source": [
    "#### GeoSeries Method\n",
    "* centroid\n",
    "* distance()\n",
    "* representative_point()\n",
    "* plot()"
   ]
  },
  {
   "cell_type": "code",
   "execution_count": 23,
   "metadata": {},
   "outputs": [
    {
     "data": {
      "text/plain": [
       "0    POINT (126.9701436944192 37.57410804599586)\n",
       "1    POINT (126.9811137153512 37.58801343786098)\n",
       "2    POINT (126.9625567482273 37.59669865828479)\n",
       "3    POINT (126.9692740196906 37.61396501050034)\n",
       "4    POINT (126.9589890500936 37.57774075208369)\n",
       "5     POINT (126.9641609771286 37.5710529786725)\n",
       "6     POINT (126.986618225203 37.58267644374536)\n",
       "7    POINT (126.9897333207583 37.57507655259654)\n",
       "8    POINT (127.0042409849724 37.57301599654881)\n",
       "9    POINT (127.0030692561881 37.57969000921075)\n",
       "dtype: object"
      ]
     },
     "execution_count": 23,
     "metadata": {},
     "output_type": "execute_result"
    }
   ],
   "source": [
    "# _18 centroid : 폴리곤 중심점 \n",
    "seoul_h_dong_gdf['geometry'].centroid[:10]"
   ]
  },
  {
   "cell_type": "code",
   "execution_count": 24,
   "metadata": {},
   "outputs": [
    {
     "data": {
      "text/plain": [
       "0    POINT (126.9708877848629 37.57336152811892)\n",
       "1    POINT (126.9823127095117 37.58602306022296)\n",
       "2     POINT (126.965653814739 37.59531371629697)\n",
       "3    POINT (126.9688245695375 37.61411788210462)\n",
       "4      POINT (126.9588444380414 37.577576151164)\n",
       "5    POINT (126.9637131836949 37.57109948958883)\n",
       "6    POINT (126.9862898775338 37.58433493152323)\n",
       "7    POINT (126.9931281621135 37.57790477194141)\n",
       "8     POINT (127.003617777374 37.57326029608704)\n",
       "9    POINT (127.0026656822019 37.57989901653553)\n",
       "dtype: object"
      ]
     },
     "execution_count": 24,
     "metadata": {},
     "output_type": "execute_result"
    }
   ],
   "source": [
    "# _19 Representative Point : 폴리곤을 대표하는 '폴리곤 내부의' 점. \n",
    "seoul_h_dong_gdf['geometry'].representative_point()[:10]"
   ]
  },
  {
   "cell_type": "code",
   "execution_count": 25,
   "metadata": {},
   "outputs": [
    {
     "data": {
      "text/plain": [
       "0.01771161432990806"
      ]
     },
     "execution_count": 25,
     "metadata": {},
     "output_type": "execute_result"
    }
   ],
   "source": [
    "# _20 distance : 두점 거리 계산하기\n",
    "start_point = seoul_h_dong_gdf['geometry'].centroid[0]\n",
    "end_point = seoul_h_dong_gdf['geometry'].centroid[1]\n",
    "\n",
    "start_point.distance(end_point)"
   ]
  },
  {
   "cell_type": "markdown",
   "metadata": {},
   "source": [
    "### GeoDataFrame 알아보기"
   ]
  },
  {
   "cell_type": "markdown",
   "metadata": {},
   "source": [
    "##### GeoDataFrame Method"
   ]
  },
  {
   "cell_type": "code",
   "execution_count": 26,
   "metadata": {},
   "outputs": [],
   "source": [
    "# !pip3 install descartes"
   ]
  },
  {
   "cell_type": "code",
   "execution_count": 27,
   "metadata": {
    "scrolled": true
   },
   "outputs": [
    {
     "data": {
      "text/plain": [
       "<matplotlib.axes._subplots.AxesSubplot at 0x7ffc613f3048>"
      ]
     },
     "execution_count": 27,
     "metadata": {},
     "output_type": "execute_result"
    },
    {
     "data": {
      "image/png": "[encoded data removed]",
      "text/plain": [
       "<Figure size 432x288 with 1 Axes>"
      ]
     },
     "metadata": {
      "needs_background": "light"
     },
     "output_type": "display_data"
    }
   ],
   "source": [
    "# _21 지도 그리기\n",
    "%matplotlib inline\n",
    "seoul_h_dong_gdf.plot(color='orange', edgecolor='white')"
   ]
  },
  {
   "cell_type": "code",
   "execution_count": 28,
   "metadata": {},
   "outputs": [
    {
     "data": {
      "text/plain": [
       "'geometry'"
      ]
     },
     "execution_count": 28,
     "metadata": {},
     "output_type": "execute_result"
    }
   ],
   "source": [
    "# _22 현재 위치정보(좌표)가 저장된 GeoSeries명 확인하기 - gemetry name확인\n",
    "seoul_h_dong_gdf.geometry.name"
   ]
  },
  {
   "cell_type": "code",
   "execution_count": 29,
   "metadata": {},
   "outputs": [
    {
     "data": {
      "text/markdown": [
       "(index)|SGG_NM|DONG_NM|SGG_CODE|H_CODE|SEDAE|SEDAE_INGU|TOTAL_POP|MALE_POP|FEMALE_POP|65_OVER|geom\n",
       "---|---|---|---|---|---|---|---|---|---|---|---\n",
       "0|종로구|사직동|11110|1111000|4414|2.14|9717|4467|5250|1708|POLYGON ((126.976888 ...\n",
       "1|종로구|삼청동|11110|1111000|1414|2.06|3097|1459|1638|634|POLYGON ((126.982689 ...\n",
       "2|종로구|부암동|11110|1111000|4325|2.39|10726|5160|5566|1748|POLYGON ((126.975851 ...\n",
       "3|종로구|평창동|11110|1111000|7510|2.53|19163|9032|10131|3037|POLYGON ((126.975074 ...\n",
       "4|종로구|무악동|11110|1111000|3024|2.75|8375|3921|4454|1279|POLYGON ((126.960673 ...\n"
      ],
      "text/plain": [
       "<IPython.core.display.Markdown object>"
      ]
     },
     "metadata": {},
     "output_type": "display_data"
    }
   ],
   "source": [
    "# _23 컬럼명 변경하기\n",
    "seoul_h_dong_gdf = seoul_h_dong_gdf.rename(columns={'geometry':'geom'})\n",
    "df2md(seoul_h_dong_gdf.head())"
   ]
  },
  {
   "cell_type": "code",
   "execution_count": 30,
   "metadata": {},
   "outputs": [
    {
     "ename": "AttributeError",
     "evalue": "No geometry data set yet (expected in column 'geometry'.",
     "output_type": "error",
     "traceback": [
      "\u001b[0;31m---------------------------------------------------------------------------\u001b[0m",
      "\u001b[0;31mAttributeError\u001b[0m                            Traceback (most recent call last)",
      "\u001b[0;32m<ipython-input-30-0f0640f323c7>\u001b[0m in \u001b[0;36m<module>\u001b[0;34m\u001b[0m\n\u001b[1;32m      1\u001b[0m \u001b[0;31m# _24 GeoDataFrame의 geometry 확인하기\u001b[0m\u001b[0;34m\u001b[0m\u001b[0;34m\u001b[0m\u001b[0;34m\u001b[0m\u001b[0m\n\u001b[1;32m      2\u001b[0m \u001b[0;31m# - 'geometry' column의 이름이 'geom'으로 변경되었으므로 에러가 난다.\u001b[0m\u001b[0;34m\u001b[0m\u001b[0;34m\u001b[0m\u001b[0;34m\u001b[0m\u001b[0m\n\u001b[0;32m----> 3\u001b[0;31m \u001b[0mseoul_h_dong_gdf\u001b[0m\u001b[0;34m.\u001b[0m\u001b[0mgeometry\u001b[0m\u001b[0;34m\u001b[0m\u001b[0;34m\u001b[0m\u001b[0m\n\u001b[0m",
      "\u001b[0;32m~/anaconda3/envs/geocoding/lib/python3.7/site-packages/pandas/core/generic.py\u001b[0m in \u001b[0;36m__getattr__\u001b[0;34m(self, name)\u001b[0m\n\u001b[1;32m   5177\u001b[0m             \u001b[0;32mif\u001b[0m \u001b[0mself\u001b[0m\u001b[0;34m.\u001b[0m\u001b[0m_info_axis\u001b[0m\u001b[0;34m.\u001b[0m\u001b[0m_can_hold_identifiers_and_holds_name\u001b[0m\u001b[0;34m(\u001b[0m\u001b[0mname\u001b[0m\u001b[0;34m)\u001b[0m\u001b[0;34m:\u001b[0m\u001b[0;34m\u001b[0m\u001b[0;34m\u001b[0m\u001b[0m\n\u001b[1;32m   5178\u001b[0m                 \u001b[0;32mreturn\u001b[0m \u001b[0mself\u001b[0m\u001b[0;34m[\u001b[0m\u001b[0mname\u001b[0m\u001b[0;34m]\u001b[0m\u001b[0;34m\u001b[0m\u001b[0;34m\u001b[0m\u001b[0m\n\u001b[0;32m-> 5179\u001b[0;31m             \u001b[0;32mreturn\u001b[0m \u001b[0mobject\u001b[0m\u001b[0;34m.\u001b[0m\u001b[0m__getattribute__\u001b[0m\u001b[0;34m(\u001b[0m\u001b[0mself\u001b[0m\u001b[0;34m,\u001b[0m \u001b[0mname\u001b[0m\u001b[0;34m)\u001b[0m\u001b[0;34m\u001b[0m\u001b[0;34m\u001b[0m\u001b[0m\n\u001b[0m\u001b[1;32m   5180\u001b[0m \u001b[0;34m\u001b[0m\u001b[0m\n\u001b[1;32m   5181\u001b[0m     \u001b[0;32mdef\u001b[0m \u001b[0m__setattr__\u001b[0m\u001b[0;34m(\u001b[0m\u001b[0mself\u001b[0m\u001b[0;34m,\u001b[0m \u001b[0mname\u001b[0m\u001b[0;34m,\u001b[0m \u001b[0mvalue\u001b[0m\u001b[0;34m)\u001b[0m\u001b[0;34m:\u001b[0m\u001b[0;34m\u001b[0m\u001b[0;34m\u001b[0m\u001b[0m\n",
      "\u001b[0;32m~/anaconda3/envs/geocoding/lib/python3.7/site-packages/geopandas/geodataframe.py\u001b[0m in \u001b[0;36m_get_geometry\u001b[0;34m(self)\u001b[0m\n\u001b[1;32m     68\u001b[0m         \u001b[0;32mif\u001b[0m \u001b[0mself\u001b[0m\u001b[0;34m.\u001b[0m\u001b[0m_geometry_column_name\u001b[0m \u001b[0;32mnot\u001b[0m \u001b[0;32min\u001b[0m \u001b[0mself\u001b[0m\u001b[0;34m:\u001b[0m\u001b[0;34m\u001b[0m\u001b[0;34m\u001b[0m\u001b[0m\n\u001b[1;32m     69\u001b[0m             raise AttributeError(\"No geometry data set yet (expected in\"\n\u001b[0;32m---> 70\u001b[0;31m                                  \" column '%s'.\" % self._geometry_column_name)\n\u001b[0m\u001b[1;32m     71\u001b[0m         \u001b[0;32mreturn\u001b[0m \u001b[0mself\u001b[0m\u001b[0;34m[\u001b[0m\u001b[0mself\u001b[0m\u001b[0;34m.\u001b[0m\u001b[0m_geometry_column_name\u001b[0m\u001b[0;34m]\u001b[0m\u001b[0;34m\u001b[0m\u001b[0;34m\u001b[0m\u001b[0m\n\u001b[1;32m     72\u001b[0m \u001b[0;34m\u001b[0m\u001b[0m\n",
      "\u001b[0;31mAttributeError\u001b[0m: No geometry data set yet (expected in column 'geometry'."
     ]
    }
   ],
   "source": [
    "# _24 GeoDataFrame의 geometry 확인하기\n",
    "# - 'geometry' column의 이름이 'geom'으로 변경되었으므로 에러가 난다.\n",
    "seoul_h_dong_gdf.geometry"
   ]
  },
  {
   "cell_type": "code",
   "execution_count": 32,
   "metadata": {},
   "outputs": [
    {
     "data": {
      "text/plain": [
       "'geom'"
      ]
     },
     "execution_count": 32,
     "metadata": {},
     "output_type": "execute_result"
    }
   ],
   "source": [
    "# _25 GeoDataFrame에 geometry 등록하기\n",
    "# - geometry data를 가지고 있는 column의 이름이 'geom'이라고 명시함\n",
    "seoul_h_dong_gdf = seoul_h_dong_gdf.set_geometry('geom')\n",
    "seoul_h_dong_gdf.geometry.name"
   ]
  },
  {
   "cell_type": "code",
   "execution_count": 33,
   "metadata": {},
   "outputs": [
    {
     "data": {
      "text/markdown": [
       "(index)|SGG_NM|DONG_NM|SGG_CODE|H_CODE|SEDAE|SEDAE_INGU|TOTAL_POP|MALE_POP|FEMALE_POP|65_OVER|geom|cent\n",
       "---|---|---|---|---|---|---|---|---|---|---|---|---\n",
       "0|종로구|사직동|11110|1111000|4414|2.14|9717|4467|5250|1708|POLYGON ((126.976888 ...|POINT (126.970143694 ...\n",
       "1|종로구|삼청동|11110|1111000|1414|2.06|3097|1459|1638|634|POLYGON ((126.982689 ...|POINT (126.981113715 ...\n",
       "2|종로구|부암동|11110|1111000|4325|2.39|10726|5160|5566|1748|POLYGON ((126.975851 ...|POINT (126.962556748 ...\n",
       "3|종로구|평창동|11110|1111000|7510|2.53|19163|9032|10131|3037|POLYGON ((126.975074 ...|POINT (126.969274019 ...\n",
       "4|종로구|무악동|11110|1111000|3024|2.75|8375|3921|4454|1279|POLYGON ((126.960673 ...|POINT (126.958989050 ...\n"
      ],
      "text/plain": [
       "<IPython.core.display.Markdown object>"
      ]
     },
     "metadata": {},
     "output_type": "display_data"
    }
   ],
   "source": [
    "# _26 GeoDataFrame의 새로운 컬럼에 폴리곤 중심점 값을 할당하기\n",
    "seoul_h_dong_gdf['cent'] = seoul_h_dong_gdf.centroid\n",
    "df2md(seoul_h_dong_gdf.head())"
   ]
  },
  {
   "cell_type": "code",
   "execution_count": 34,
   "metadata": {},
   "outputs": [
    {
     "name": "stdout",
     "output_type": "stream",
     "text": [
      "<class 'geopandas.geoseries.GeoSeries'>\n",
      "<class 'pandas.core.series.Series'>\n"
     ]
    }
   ],
   "source": [
    "print(type(seoul_h_dong_gdf['geom']))   # GeoSeries\n",
    "print(type(seoul_h_dong_gdf['cent']))   # Series"
   ]
  },
  {
   "cell_type": "code",
   "execution_count": 35,
   "metadata": {},
   "outputs": [
    {
     "data": {
      "text/plain": [
       "'cent'"
      ]
     },
     "execution_count": 35,
     "metadata": {},
     "output_type": "execute_result"
    }
   ],
   "source": [
    "# _27 해당 Dataframe의 geometry컬럼 변경하기\n",
    "# - geometry column은 하나만 가질 수 있음.\n",
    "seoul_h_dong_gdf = seoul_h_dong_gdf.set_geometry('cent')\n",
    "seoul_h_dong_gdf.geometry.name"
   ]
  },
  {
   "cell_type": "code",
   "execution_count": 36,
   "metadata": {},
   "outputs": [
    {
     "data": {
      "text/markdown": [
       "(index)|SGG_NM|DONG_NM|SGG_CODE|H_CODE|SEDAE|SEDAE_INGU|TOTAL_POP|MALE_POP|FEMALE_POP|65_OVER|geom|cent\n",
       "---|---|---|---|---|---|---|---|---|---|---|---|---\n",
       "0|종로구|사직동|11110|1111000|4414|2.14|9717|4467|5250|1708|POLYGON ((126.976888 ...|POINT (126.970143694 ...\n",
       "1|종로구|삼청동|11110|1111000|1414|2.06|3097|1459|1638|634|POLYGON ((126.982689 ...|POINT (126.981113715 ...\n",
       "2|종로구|부암동|11110|1111000|4325|2.39|10726|5160|5566|1748|POLYGON ((126.975851 ...|POINT (126.962556748 ...\n",
       "3|종로구|평창동|11110|1111000|7510|2.53|19163|9032|10131|3037|POLYGON ((126.975074 ...|POINT (126.969274019 ...\n",
       "4|종로구|무악동|11110|1111000|3024|2.75|8375|3921|4454|1279|POLYGON ((126.960673 ...|POINT (126.958989050 ...\n",
       "5|종로구|교남동|11110|1111000|4379|2.34|10363|4850|5513|1406|POLYGON ((126.969048 ...|POINT (126.964160977 ...\n",
       "6|종로구|가회동|11110|1111000|2085|2.17|4657|2194|2463|900|POLYGON ((126.989135 ...|POINT (126.986618225 ...\n",
       "7|종로구|종로1.2.3.4가동|11110|1111000|5378|1.41|8592|5045|3547|1865|POLYGON ((126.996499 ...|POINT (126.989733320 ...\n",
       "8|종로구|종로5·6가동|11110|1111000|3174|1.69|5690|3096|2594|1089|POLYGON ((127.010160 ...|POINT (127.004240984 ...\n",
       "9|종로구|이화동|11110|1111000|4462|1.85|8752|4075|4677|1302|POLYGON ((127.007332 ...|POINT (127.003069256 ...\n"
      ],
      "text/plain": [
       "<IPython.core.display.Markdown object>"
      ]
     },
     "metadata": {},
     "output_type": "display_data"
    }
   ],
   "source": [
    "df2md(seoul_h_dong_gdf.head(10))"
   ]
  },
  {
   "cell_type": "code",
   "execution_count": 37,
   "metadata": {},
   "outputs": [
    {
     "data": {
      "text/plain": [
       "<matplotlib.axes._subplots.AxesSubplot at 0x7ffc61301a58>"
      ]
     },
     "execution_count": 37,
     "metadata": {},
     "output_type": "execute_result"
    },
    {
     "data": {
      "image/png": "[encoded data removed]",
      "text/plain": [
       "<Figure size 432x288 with 1 Axes>"
      ]
     },
     "metadata": {
      "needs_background": "light"
     },
     "output_type": "display_data"
    }
   ],
   "source": [
    "# _28 plot\n",
    "# - geometry column이 cent로 변경되어 경계선이 아니라 점이 찍힌다.\n",
    "seoul_h_dong_gdf.plot()"
   ]
  },
  {
   "cell_type": "markdown",
   "metadata": {},
   "source": [
    "##  Writing data"
   ]
  },
  {
   "cell_type": "code",
   "execution_count": 38,
   "metadata": {},
   "outputs": [
    {
     "name": "stdout",
     "output_type": "stream",
     "text": [
      "mkdir: cannot create directory ‘./maps/output’: File exists\n"
     ]
    }
   ],
   "source": [
    "# 폴더생성\n",
    "!mkdir ./maps/output"
   ]
  },
  {
   "cell_type": "code",
   "execution_count": 39,
   "metadata": {},
   "outputs": [
    {
     "ename": "ValueError",
     "evalue": "Invalid field type <class 'shapely.geometry.polygon.Polygon'>",
     "output_type": "error",
     "traceback": [
      "\u001b[0;31m---------------------------------------------------------------------------\u001b[0m",
      "\u001b[0;31mValueError\u001b[0m                                Traceback (most recent call last)",
      "\u001b[0;32m<ipython-input-39-8deb24d08295>\u001b[0m in \u001b[0;36m<module>\u001b[0;34m\u001b[0m\n\u001b[1;32m      1\u001b[0m \u001b[0;31m# _29 shp파일 저장하기 (에러발생)\u001b[0m\u001b[0;34m\u001b[0m\u001b[0;34m\u001b[0m\u001b[0;34m\u001b[0m\u001b[0m\n\u001b[1;32m      2\u001b[0m \u001b[0;31m# 파일 저장 시 GeoDataFrame에는 좌표정보가 반드시 하나만 있어야 한다.\u001b[0m\u001b[0;34m\u001b[0m\u001b[0;34m\u001b[0m\u001b[0;34m\u001b[0m\u001b[0m\n\u001b[0;32m----> 3\u001b[0;31m \u001b[0mseoul_h_dong_gdf\u001b[0m\u001b[0;34m.\u001b[0m\u001b[0mto_file\u001b[0m\u001b[0;34m(\u001b[0m\u001b[0;34m'./maps/output/seoul_h_dong'\u001b[0m\u001b[0;34m,\u001b[0m \u001b[0mencoding\u001b[0m\u001b[0;34m=\u001b[0m\u001b[0;34m'utf-8'\u001b[0m\u001b[0;34m)\u001b[0m\u001b[0;34m\u001b[0m\u001b[0;34m\u001b[0m\u001b[0m\n\u001b[0m",
      "\u001b[0;32m~/anaconda3/envs/geocoding/lib/python3.7/site-packages/geopandas/geodataframe.py\u001b[0m in \u001b[0;36mto_file\u001b[0;34m(self, filename, driver, schema, **kwargs)\u001b[0m\n\u001b[1;32m    427\u001b[0m         \"\"\"\n\u001b[1;32m    428\u001b[0m         \u001b[0;32mfrom\u001b[0m \u001b[0mgeopandas\u001b[0m\u001b[0;34m.\u001b[0m\u001b[0mio\u001b[0m\u001b[0;34m.\u001b[0m\u001b[0mfile\u001b[0m \u001b[0;32mimport\u001b[0m \u001b[0mto_file\u001b[0m\u001b[0;34m\u001b[0m\u001b[0;34m\u001b[0m\u001b[0m\n\u001b[0;32m--> 429\u001b[0;31m         \u001b[0mto_file\u001b[0m\u001b[0;34m(\u001b[0m\u001b[0mself\u001b[0m\u001b[0;34m,\u001b[0m \u001b[0mfilename\u001b[0m\u001b[0;34m,\u001b[0m \u001b[0mdriver\u001b[0m\u001b[0;34m,\u001b[0m \u001b[0mschema\u001b[0m\u001b[0;34m,\u001b[0m \u001b[0;34m**\u001b[0m\u001b[0mkwargs\u001b[0m\u001b[0;34m)\u001b[0m\u001b[0;34m\u001b[0m\u001b[0;34m\u001b[0m\u001b[0m\n\u001b[0m\u001b[1;32m    430\u001b[0m \u001b[0;34m\u001b[0m\u001b[0m\n\u001b[1;32m    431\u001b[0m     \u001b[0;32mdef\u001b[0m \u001b[0mto_crs\u001b[0m\u001b[0;34m(\u001b[0m\u001b[0mself\u001b[0m\u001b[0;34m,\u001b[0m \u001b[0mcrs\u001b[0m\u001b[0;34m=\u001b[0m\u001b[0;32mNone\u001b[0m\u001b[0;34m,\u001b[0m \u001b[0mepsg\u001b[0m\u001b[0;34m=\u001b[0m\u001b[0;32mNone\u001b[0m\u001b[0;34m,\u001b[0m \u001b[0minplace\u001b[0m\u001b[0;34m=\u001b[0m\u001b[0;32mFalse\u001b[0m\u001b[0;34m)\u001b[0m\u001b[0;34m:\u001b[0m\u001b[0;34m\u001b[0m\u001b[0;34m\u001b[0m\u001b[0m\n",
      "\u001b[0;32m~/anaconda3/envs/geocoding/lib/python3.7/site-packages/geopandas/io/file.py\u001b[0m in \u001b[0;36mto_file\u001b[0;34m(df, filename, driver, schema, **kwargs)\u001b[0m\n\u001b[1;32m    129\u001b[0m         with fiona.open(filename, 'w', driver=driver, crs=df.crs,\n\u001b[1;32m    130\u001b[0m                         schema=schema, **kwargs) as colxn:\n\u001b[0;32m--> 131\u001b[0;31m             \u001b[0mcolxn\u001b[0m\u001b[0;34m.\u001b[0m\u001b[0mwriterecords\u001b[0m\u001b[0;34m(\u001b[0m\u001b[0mdf\u001b[0m\u001b[0;34m.\u001b[0m\u001b[0miterfeatures\u001b[0m\u001b[0;34m(\u001b[0m\u001b[0;34m)\u001b[0m\u001b[0;34m)\u001b[0m\u001b[0;34m\u001b[0m\u001b[0;34m\u001b[0m\u001b[0m\n\u001b[0m\u001b[1;32m    132\u001b[0m \u001b[0;34m\u001b[0m\u001b[0m\n\u001b[1;32m    133\u001b[0m \u001b[0;34m\u001b[0m\u001b[0m\n",
      "\u001b[0;32m~/anaconda3/envs/geocoding/lib/python3.7/site-packages/fiona/collection.py\u001b[0m in \u001b[0;36mwriterecords\u001b[0;34m(self, records)\u001b[0m\n\u001b[1;32m    345\u001b[0m         \u001b[0;32mif\u001b[0m \u001b[0mself\u001b[0m\u001b[0;34m.\u001b[0m\u001b[0mmode\u001b[0m \u001b[0;32mnot\u001b[0m \u001b[0;32min\u001b[0m \u001b[0;34m(\u001b[0m\u001b[0;34m'a'\u001b[0m\u001b[0;34m,\u001b[0m \u001b[0;34m'w'\u001b[0m\u001b[0;34m)\u001b[0m\u001b[0;34m:\u001b[0m\u001b[0;34m\u001b[0m\u001b[0;34m\u001b[0m\u001b[0m\n\u001b[1;32m    346\u001b[0m             \u001b[0;32mraise\u001b[0m \u001b[0mIOError\u001b[0m\u001b[0;34m(\u001b[0m\u001b[0;34m\"collection not open for writing\"\u001b[0m\u001b[0;34m)\u001b[0m\u001b[0;34m\u001b[0m\u001b[0;34m\u001b[0m\u001b[0m\n\u001b[0;32m--> 347\u001b[0;31m         \u001b[0mself\u001b[0m\u001b[0;34m.\u001b[0m\u001b[0msession\u001b[0m\u001b[0;34m.\u001b[0m\u001b[0mwriterecs\u001b[0m\u001b[0;34m(\u001b[0m\u001b[0mrecords\u001b[0m\u001b[0;34m,\u001b[0m \u001b[0mself\u001b[0m\u001b[0;34m)\u001b[0m\u001b[0;34m\u001b[0m\u001b[0;34m\u001b[0m\u001b[0m\n\u001b[0m\u001b[1;32m    348\u001b[0m         \u001b[0mself\u001b[0m\u001b[0;34m.\u001b[0m\u001b[0m_len\u001b[0m \u001b[0;34m=\u001b[0m \u001b[0mself\u001b[0m\u001b[0;34m.\u001b[0m\u001b[0msession\u001b[0m\u001b[0;34m.\u001b[0m\u001b[0mget_length\u001b[0m\u001b[0;34m(\u001b[0m\u001b[0;34m)\u001b[0m\u001b[0;34m\u001b[0m\u001b[0;34m\u001b[0m\u001b[0m\n\u001b[1;32m    349\u001b[0m         \u001b[0mself\u001b[0m\u001b[0;34m.\u001b[0m\u001b[0m_bounds\u001b[0m \u001b[0;34m=\u001b[0m \u001b[0mself\u001b[0m\u001b[0;34m.\u001b[0m\u001b[0msession\u001b[0m\u001b[0;34m.\u001b[0m\u001b[0mget_extent\u001b[0m\u001b[0;34m(\u001b[0m\u001b[0;34m)\u001b[0m\u001b[0;34m\u001b[0m\u001b[0;34m\u001b[0m\u001b[0m\n",
      "\u001b[0;32mfiona/ogrext.pyx\u001b[0m in \u001b[0;36mfiona.ogrext.WritingSession.writerecs\u001b[0;34m()\u001b[0m\n",
      "\u001b[0;32mfiona/ogrext.pyx\u001b[0m in \u001b[0;36mfiona.ogrext.OGRFeatureBuilder.build\u001b[0;34m()\u001b[0m\n",
      "\u001b[0;31mValueError\u001b[0m: Invalid field type <class 'shapely.geometry.polygon.Polygon'>"
     ]
    }
   ],
   "source": [
    "# _29 shp파일 저장하기 (에러발생)\n",
    "# 파일 저장 시 GeoDataFrame에는 좌표정보가 반드시 하나만 있어야 한다.\n",
    "seoul_h_dong_gdf.to_file('./maps/output/seoul_h_dong', encoding='utf-8')"
   ]
  },
  {
   "cell_type": "code",
   "execution_count": 40,
   "metadata": {},
   "outputs": [
    {
     "data": {
      "text/markdown": [
       "(index)|SGG_NM|DONG_NM|SGG_CODE|TOTAL_POP|geom\n",
       "---|---|---|---|---|---\n",
       "0|종로구|사직동|11110|9717|POLYGON ((126.976888 ...\n",
       "1|종로구|삼청동|11110|3097|POLYGON ((126.982689 ...\n",
       "2|종로구|부암동|11110|10726|POLYGON ((126.975851 ...\n",
       "3|종로구|평창동|11110|19163|POLYGON ((126.975074 ...\n",
       "4|종로구|무악동|11110|8375|POLYGON ((126.960673 ...\n"
      ],
      "text/plain": [
       "<IPython.core.display.Markdown object>"
      ]
     },
     "metadata": {},
     "output_type": "display_data"
    }
   ],
   "source": [
    "# _30 불필요한 컬럼 제거하기\n",
    "# 파일 저장 시 GeoDataFrame에는 좌표정보가 반드시 하나만 있어야 한다.\n",
    "columns = ['SGG_NM', 'DONG_NM', 'SGG_CODE', 'TOTAL_POP', 'geom']\n",
    "gdf = gpd.GeoDataFrame(seoul_h_dong_gdf[columns], geometry='geom')\n",
    "df2md(gdf.head())"
   ]
  },
  {
   "cell_type": "code",
   "execution_count": 41,
   "metadata": {},
   "outputs": [
    {
     "data": {
      "text/plain": [
       "geopandas.geodataframe.GeoDataFrame"
      ]
     },
     "execution_count": 41,
     "metadata": {},
     "output_type": "execute_result"
    }
   ],
   "source": [
    "# _31 Dataframe 타입 확인\n",
    "type(gdf)"
   ]
  },
  {
   "cell_type": "code",
   "execution_count": 42,
   "metadata": {},
   "outputs": [],
   "source": [
    "# _32 shp파일로 저장하기\n",
    "gdf.to_file('./maps/output/seoul_h_dong', encoding='utf-8')"
   ]
  },
  {
   "cell_type": "markdown",
   "metadata": {},
   "source": [
    "###### **Tip!** GeoDataFrame 저장 형식을 바꿀 때는 `driver` 사용"
   ]
  },
  {
   "cell_type": "code",
   "execution_count": 43,
   "metadata": {},
   "outputs": [],
   "source": [
    "# _33 geojson으로 저장하기\n",
    "gdf.to_file('./maps/output/seoul_h_dong.geojson', encoding='utf-8', driver='GeoJSON')"
   ]
  },
  {
   "cell_type": "code",
   "execution_count": 44,
   "metadata": {},
   "outputs": [
    {
     "name": "stdout",
     "output_type": "stream",
     "text": [
      "POLYGON ((126.9768888427482 37.57565077944879, 126.9770344988775 37.56919453005455, 126.9759747282125 37.56933629942576, 126.9753747099125 37.56931556702156, 126.9743319356233 37.56926180051753, 126.9690483700185 37.56819441770833, 126.9685449360338 37.56842767961276, 126.9666499598212 37.56949165520658, 126.9662817502448 37.5697007347987, 126.9660973270804 37.5698565097237, 126.9657285292258 37.57018393611511, 126.9659269982213 37.5703188056862, 126.9660109401843 37.57154839557748, 126.963659220522 37.57517466066037, 126.9630860043451 37.57648592001554, 126.962840990512 37.57666158609274, 126.9628104104726 37.57944880965677, 126.9674243158433 37.57960153712449, 126.9674217630265 37.57926352144165, 126.9674300601846 37.57919257799861, 126.9674570900956 37.57897525058544, 126.9680660469963 37.57824678046787, 126.9689551169548 37.57793526234029, 126.9692128429691 37.57793529930939, 126.9694145388658 37.57812112414218, 126.9696644266947 37.57853113668221, 126.9696672191487 37.57873620513492, 126.9696687735331 37.57899287900988, 126.9696694991036 37.5791125267496, 126.9699045736163 37.57930175362873, 126.9713519754476 37.57951327793981, 126.9738192578445 37.57937214030263, 126.9739173633834 37.57848707304101, 126.9739396199809 37.57824042997809, 126.9743315383576 37.57574990629986, 126.975803789978 37.5756494688242, 126.9768888427482 37.57565077944879))\n"
     ]
    }
   ],
   "source": [
    "print(gdf['geom'][0])"
   ]
  },
  {
   "cell_type": "code",
   "execution_count": 45,
   "metadata": {},
   "outputs": [
    {
     "data": {
      "image/svg+xml": [
       "<svg xmlns=\"http://www.w3.org/2000/svg\" xmlns:xlink=\"http://www.w3.org/1999/xlink\" width=\"100.0\" height=\"100.0\" viewBox=\"126.96224144693643 37.56762545417213 0.015362015477265345 0.01254504648855459\" preserveAspectRatio=\"xMinYMin meet\"><g transform=\"matrix(1,0,0,-1,0,75.14779595483282)\"><path fill-rule=\"evenodd\" fill=\"#66cc99\" stroke=\"#555555\" stroke-width=\"0.0003072403095453069\" opacity=\"0.6\" d=\"M 126.97688884274817,37.575650779448786 L 126.9770344988775,37.569194530054546 L 126.97597472821249,37.569336299425764 L 126.97537470991254,37.56931556702156 L 126.97433193562325,37.56926180051753 L 126.96904837001854,37.56819441770833 L 126.96854493603384,37.56842767961276 L 126.9666499598212,37.569491655206576 L 126.96628175024485,37.5697007347987 L 126.9660973270804,37.5698565097237 L 126.96572852922577,37.570183936115114 L 126.96592699822128,37.5703188056862 L 126.96601094018429,37.57154839557748 L 126.96365922052196,37.575174660660366 L 126.9630860043451,37.57648592001554 L 126.96284099051198,37.57666158609274 L 126.96281041047263,37.57944880965677 L 126.96742431584332,37.57960153712449 L 126.96742176302651,37.579263521441646 L 126.9674300601846,37.57919257799861 L 126.9674570900956,37.578975250585444 L 126.96806604699626,37.57824678046787 L 126.96895511695477,37.57793526234029 L 126.96921284296906,37.57793529930939 L 126.96941453886579,37.57812112414218 L 126.9696644266947,37.57853113668221 L 126.96966721914872,37.57873620513492 L 126.96966877353309,37.57899287900988 L 126.96966949910363,37.5791125267496 L 126.96990457361626,37.57930175362873 L 126.97135197544759,37.57951327793981 L 126.97381925784454,37.57937214030263 L 126.97391736338342,37.57848707304101 L 126.97393961998088,37.57824042997809 L 126.97433153835757,37.57574990629986 L 126.97580378997804,37.5756494688242 L 126.97688884274817,37.575650779448786 z\" /></g></svg>"
      ],
      "text/plain": [
       "<shapely.geometry.polygon.Polygon at 0x7ffc61883c50>"
      ]
     },
     "execution_count": 45,
     "metadata": {},
     "output_type": "execute_result"
    }
   ],
   "source": [
    "gdf['geom'][0]"
   ]
  }
 ],
 "metadata": {
  "kernelspec": {
   "display_name": "geocoding",
   "language": "python",
   "name": "geocoding"
  },
  "language_info": {
   "codemirror_mode": {
    "name": "ipython",
    "version": 3
   },
   "file_extension": ".py",
   "mimetype": "text/x-python",
   "name": "python",
   "nbconvert_exporter": "python",
   "pygments_lexer": "ipython3",
   "version": "3.7.3"
  }
 },
 "nbformat": 4,
 "nbformat_minor": 4
}
