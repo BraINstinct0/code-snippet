{
 "cells": [
  {
   "cell_type": "markdown",
   "metadata": {},
   "source": [
    "### Visualization of individual data on map with `folium`, `geoJSON` and `pandas DataFrame`"
   ]
  },
  {
   "cell_type": "markdown",
   "metadata": {},
   "source": [
    "#### 1. Preparation\n",
    "##### 1.1. Load `folium`\n",
    "> official `github` : https://github.com/python-visualization/folium  \n",
    "> documentation : https://python-visualization.github.io/folium/index.html  \n",
    "> examples : https://nbviewer.jupyter.org/github/python-visualization/folium/tree/master/examples/  \n",
    "> plugins : https://python-visualization.github.io/folium/plugins.html#folium-plugins  \n",
    "> * sample 1 : https://dailyheumsi.tistory.com/85?category=815369  \n",
    "> * sample 2 : https://dailyheumsi.tistory.com/92?category=815369  \n",
    "  \n",
    "> contributions : https://nbviewer.jupyter.org/github/python-visualization/folium_contrib/tree/master/notebooks/  "
   ]
  },
  {
   "cell_type": "code",
   "execution_count": 1,
   "metadata": {},
   "outputs": [],
   "source": [
    "import folium"
   ]
  },
  {
   "cell_type": "markdown",
   "metadata": {},
   "source": [
    "##### 1.2. Function: capture `html` to `png`  \n",
    "* This case is for `Firefox`.  \n",
    "```python\n",
    "browser = webdriver.Firefox()\n",
    "```  \n",
    "should be modified according to the browser.  \n",
    "* Since the size of `html` is too large sometimes, `png` is preferred.  \n",
    "* Large `html` file exceeds the maximum waiting time for rendering.\n",
    "  - in this case, edit `browser.set_page_load_timeout(time_in_seconds)` part with larger number"
   ]
  },
  {
   "cell_type": "code",
   "execution_count": 2,
   "metadata": {},
   "outputs": [],
   "source": [
    "from selenium import webdriver\n",
    "import time, os\n",
    "\n",
    "!export PATH=\"/home/jehyun/PycharmProjects/selenium/:$PATH\"\n",
    "\n",
    "def html2png(m,                     # foium map instance\n",
    "             html_name,             # str. ex. 'testmap.html'\n",
    "             png_name='map.png',    # str. ex. 'testmap.png'\n",
    "             delay=5,               # int or float. ex. 10\n",
    "             ):\n",
    "\n",
    "    delay=delay\n",
    "    fn = 'html/' + html_name\n",
    "    tmpurl='file://{path}/{mapfile}'.format(path=os.getcwd(),mapfile=fn)\n",
    "    m.save(fn)\n",
    "\n",
    "    browser = webdriver.Firefox()\n",
    "\n",
    "    try:\n",
    "        browser.set_page_load_timeout(600)\n",
    "        browser.get(tmpurl)\n",
    "        \n",
    "    except TimeoutException as ex:\n",
    "        isrunning = 0\n",
    "        print(\"Exception has been thrown. \" + str(ex))\n",
    "        browser.close()\n",
    "\n",
    "    #Give the map tiles some time to load\n",
    "    time.sleep(delay)\n",
    "    browser.save_screenshot('./images/'+png_name)\n",
    "    browser.quit()"
   ]
  },
  {
   "cell_type": "markdown",
   "metadata": {},
   "source": [
    "##### 1.3. Function : `pandas DataFrame` to `markdown`"
   ]
  },
  {
   "cell_type": "code",
   "execution_count": 3,
   "metadata": {},
   "outputs": [],
   "source": [
    "# Nice representation of dataframe in markdown\n",
    "import pandas as pd\n",
    "import copy\n",
    "from IPython.display import Markdown, display\n",
    "\n",
    "def df2md(df, maxlen=20):\n",
    "    _df = copy.deepcopy(df)\n",
    "    \n",
    "    for col in _df.columns:\n",
    "        _df[col] = _df[col].astype('str')\n",
    "        if (_df[col].str.len()> maxlen).any() :\n",
    "            _df[col].loc[_df[col].str.len() > maxlen] = _df[col].str.slice(stop=maxlen) + ' ...'\n",
    "\n",
    "    if '(index)' not in _df.columns:\n",
    "        _df.insert(0, '(index)', df.index)\n",
    "        \n",
    "    fmt = ['---' for i in range(len(_df.columns))]\n",
    "    df_fmt = pd.DataFrame([fmt], columns=_df.columns)\n",
    "    df_formatted = pd.concat([df_fmt, _df])\n",
    "    display(Markdown(df_formatted.to_csv(sep=\"|\", index=False)))\n",
    "    _df.drop(columns='(index)', axis=1, inplace=True)"
   ]
  },
  {
   "cell_type": "markdown",
   "metadata": {},
   "source": [
    "#### 2. Load Data\n",
    "##### 2.1. Solar Radiation data on each buildings in Daejeon"
   ]
  },
  {
   "cell_type": "code",
   "execution_count": 4,
   "metadata": {},
   "outputs": [
    {
     "data": {
      "text/markdown": [
       "(index)|gid|buld_se_cd|buld_se_nm|bdtyp_cd|apt_yn|gro_flo_co|sig_cd|sig_nm|emd_cd|emd_nm|tm_x|tm_y|lon|lat|buld_area|buld_elev|m01|m02|m03|m04|m05|m06|m07|m08|m09|m10|m11|m12|y17|st_m01|st_m02|st_m03|st_m04|st_m05|st_m06|st_m07|st_m08|st_m09|st_m10|st_m11|st_m12|st_y17\n",
       "---|---|---|---|---|---|---|---|---|---|---|---|---|---|---|---|---|---|---|---|---|---|---|---|---|---|---|---|---|---|---|---|---|---|---|---|---|---|---|---|---|---|---\n",
       "0|24300|0|지상|4299|N|1|30110|동구|30110137|대별동|241302.419829207|409864.414379324|127.459746194608|36.2858798245272|199.109760164108|80|61.587998174704|76.368132857176|108.372413947032|130.399191728005|153.301471581826|138.981246232986|94.1192299952874|116.160557618508|107.075909293615|76.0582836270332|63.2461349872442|57.7913106771616|1183.46187899663|77.4414291381836|97.5647354125977|136.456909179688|159.853820800781|181.146118164063|161.53076171875|109.31169128418|138.931045532227|133.254684448242|95.6145782470703|80.3922271728516|72.975700378418|1444.47375488281\n",
       "1|16295|0|지상|1001|N|1|30110|동구|30110105|가오동|240815.01297069|412384.958080419|127.454452653456|36.3086147051094|77.3923177693719|71|54.6587660438136|74.3240604024184|109.983418941498|131.021371841431|148.915192252711|136.026762912148|91.4622986442164|112.346493419848|109.010571178637|75.9642522084086|59.7529277174096|48.7103261571181|1152.17643617329|77.5996551513672|96.7234191894531|136.413635253906|159.390518188477|180.87614440918|165.518310546875|112.231346130371|137.366897583008|134.195907592773|96.3771133422852|79.9522476196289|72.7179718017578|1449.36315917969\n",
       "2|24341|0|지상|1001|N|1|30110|동구|30110137|대별동|241460.822383503|410090.94543095|127.461521377075|36.2879144426327|91.0763856790575|77|62.304043189339|78.0388102324113|110.389678457509|130.250699416451|150.068157859471|135.022302627563|92.2708638232687|114.937465916509|108.497603748156|77.568351952926|64.5584099811056|58.3052325248718|1182.21162281866|77.4414291381836|97.5647354125977|136.456909179688|159.853820800781|181.146118164063|161.53076171875|109.31169128418|138.931045532227|133.254684448242|95.6145782470703|80.3922271728516|72.975700378418|1444.47375488281\n",
       "3|24345|0|지상|4402|N|1|30110|동구|30110137|대별동|241530.22297262|410067.763074595|127.462292655181|36.2877025481814|51.2017056163047|78|48.6805400936692|60.6419043452651|86.4692395528158|105.063324045252|123.864551473547|112.271188029536|75.3915986661558|93.4298842041581|85.6682357434873|60.3520038746021|50.0022062372278|45.6562534349936|947.490926106771|77.4414291381836|97.5647354125977|136.456909179688|159.853820800781|181.146118164063|161.53076171875|109.31169128418|138.931045532227|133.254684448242|95.6145782470703|80.3922271728516|72.975700378418|1444.47375488281\n",
       "4|24374|0|지상|18999|N|1|30110|동구|30110137|대별동|241500.967910986|409605.204042476|127.461942445015|36.2835354035404|455.844166700596|80|67.2504756116031|84.0601618833709|119.429690775118|141.218664905481|162.556833049707|146.167080444202|99.8334377941332|124.410167208889|117.419092797396|83.4298420412499|69.2576492167356|62.8880742809229|1277.92121626201|77.4414291381836|97.5647354125977|136.456909179688|159.853820800781|181.146118164063|161.53076171875|109.31169128418|138.931045532227|133.254684448242|95.6145782470703|80.3922271728516|72.975700378418|1444.47375488281\n"
      ],
      "text/plain": [
       "<IPython.core.display.Markdown object>"
      ]
     },
     "metadata": {},
     "output_type": "display_data"
    }
   ],
   "source": [
    "df = pd.read_excel('NGL.xlsx')\n",
    "df.drop(index=0, inplace=True)\n",
    "df.reset_index(drop=True, inplace=True)\n",
    "df2md(df.head())"
   ]
  },
  {
   "cell_type": "markdown",
   "metadata": {},
   "source": [
    "##### 2.2. `JSON` files for Administrative districts"
   ]
  },
  {
   "cell_type": "code",
   "execution_count": 5,
   "metadata": {},
   "outputs": [],
   "source": [
    "# 'gu' and dong' data in Korea\n",
    "gu = f'https://raw.githubusercontent.com/jehyunlee/data-snippet/master/Korea_gu_20.json' \n",
    "dong = f'https://raw.githubusercontent.com/jehyunlee/data-snippet/master/Korea_dong_20.json' "
   ]
  },
  {
   "cell_type": "markdown",
   "metadata": {},
   "source": [
    "###### 2.2.1. Function : Load `JSON` from web"
   ]
  },
  {
   "cell_type": "code",
   "execution_count": 6,
   "metadata": {},
   "outputs": [],
   "source": [
    "import json\n",
    "import urllib.request\n",
    "\n",
    "def read_webjson(url):\n",
    "  with urllib.request.urlopen(url) as src:\n",
    "    data = json.loads(src.read().decode(), encoding='utf-8')\n",
    "    return data "
   ]
  },
  {
   "cell_type": "markdown",
   "metadata": {},
   "source": [
    "###### 2.2.2. Load `JSON` from web(gu) and local(dong)"
   ]
  },
  {
   "cell_type": "code",
   "execution_count": 7,
   "metadata": {},
   "outputs": [],
   "source": [
    "gu_data = read_webjson(gu)    # read 'gu' json from data-snippet\n",
    "\n",
    "# read 'dong'\n",
    "# For unknown reason, it is not possible to read from web.\n",
    "dong_data = json.loads(open('./geojsons/Korea_dong_20.json', 'r', encoding='utf-8').read())"
   ]
  },
  {
   "cell_type": "markdown",
   "metadata": {},
   "source": [
    "###### 2.2.3. Data Validataion"
   ]
  },
  {
   "cell_type": "code",
   "execution_count": 8,
   "metadata": {},
   "outputs": [
    {
     "name": "stdout",
     "output_type": "stream",
     "text": [
      "# of \"gu\"s in Daejeon = 5\n",
      "['동구', '중구', '서구', '유성구', '대덕구']\n"
     ]
    }
   ],
   "source": [
    "# Extracting 'gu' data from JSON\n",
    "gu_dj = {}\n",
    "gu_dj_value = []\n",
    "SIG_KOR_NM = []    # list of 'gu's\n",
    "\n",
    "for key, value in gu_data.items():\n",
    "  if key != 'features':\n",
    "    gu_dj.update({key: value})\n",
    "  else:\n",
    "    for feature in gu_data['features']:\n",
    "      properties = feature['properties']\n",
    "      sig_cd = properties['SIG_CD']\n",
    "      if sig_cd[:2] == '30':\n",
    "        SIG_KOR_NM.append(properties['SIG_KOR_NM'])\n",
    "        gu_dj_value.append(feature)\n",
    "gu_dj['features'] = gu_dj_value\n",
    "        \n",
    "print('# of \"gu\"s in Daejeon = {}'.format(len(SIG_KOR_NM)))\n",
    "print(SIG_KOR_NM)        \n",
    "\n",
    "# save list of 'gu's in json format\n",
    "with open(\"gu_dj.json\",\"w\", encoding='utf-8') as jsonfile:\n",
    "        json.dump(gu_dj,jsonfile,ensure_ascii=False)"
   ]
  },
  {
   "cell_type": "code",
   "execution_count": 9,
   "metadata": {},
   "outputs": [
    {
     "name": "stdout",
     "output_type": "stream",
     "text": [
      "# of \"dong\"s in Daejeon(JSON) = 177\n",
      "['가수원동', '가양동', '가오동', '가장동', '가정동', '갈마동', '갈전동', '갑동', '계산동', '관저동', '관평동', '괴곡동', '괴정동', '교촌동', '구도동', '구룡동', '구성동', '구암동', '구완동', '궁동', '금고동', '금동', '금탄동', '낭월동', '내동', '내탑동', '노은동', '대동', '대동', '대별동', '대사동', '대성동', '대정동', '대화동', '대흥동', '덕명동', '덕암동', '덕진동', '도룡동', '도마동', '도안동', '둔곡동', '둔산동', '마산동', '만년동', '매노동', '목달동', '목동', '목상동', '무수동', '문지동', '문창동', '문평동', '문화동', '미호동', '반석동', '방동', '방현동', '법동', '변동', '복수동', '복용동', '봉곡동', '봉명동', '봉산동', '부사동', '부수동', '비래동', '비룡동', '사성동', '사정동', '산성동', '산직동', '삼괴동', '삼성동', '삼정동', '삼정동', '상대동', '상서동', '상소동', '석교동', '석봉동', '선화동', '성남동', '성북동', '세동', '세천동', '소제동', '소호동', '송강동', '송정동', '송촌동', '수남동', '신대동', '신동', '신봉동', '신상동', '신성동', '신안동', '신일동', '신촌동', '신탄진동', '신하동', '신흥동', '안산동', '안영동', '어남동', '어은동', '연축동', '오동', '오동', '오류동', '오정동', '옥계동', '와동', '외삼동', '용계동', '용계동', '용두동', '용문동', '용산동', '용운동', '용전동', '용촌동', '용호동', '우명동', '원내동', '원동', '원신흥동', '원정동', '원촌동', '월평동', '유천동', '은행동', '읍내동', '이사동', '이현동', '인동', '자양동', '자운동', '장대동', '장동', '장동', '장안동', '장척동', '전민동', '정동', '정림동', '정생동', '주산동', '주촌동', '죽동', '중동', '중리동', '중촌동', '지족동', '직동', '천동', '추동', '추목동', '침산동', '탄방동', '탑립동', '태평동', '판암동', '평촌동', '평촌동', '하기동', '하소동', '학하동', '호동', '홍도동', '화암동', '황호동', '효동', '효평동', '흑석동']\n",
      "\n",
      "Duplicates are ['삼정동', '대동', '용계동', '오동', '평촌동', '장동']\n",
      "\n",
      "# of  \"dong\"s in Daejeon(JSON, unique) = 171\n",
      "['가수원동', '가양동', '가오동', '가장동', '가정동', '갈마동', '갈전동', '갑동', '계산동', '관저동', '관평동', '괴곡동', '괴정동', '교촌동', '구도동', '구룡동', '구성동', '구암동', '구완동', '궁동', '금고동', '금동', '금탄동', '낭월동', '내동', '내탑동', '노은동', '대동', '대별동', '대사동', '대성동', '대정동', '대화동', '대흥동', '덕명동', '덕암동', '덕진동', '도룡동', '도마동', '도안동', '둔곡동', '둔산동', '마산동', '만년동', '매노동', '목달동', '목동', '목상동', '무수동', '문지동', '문창동', '문평동', '문화동', '미호동', '반석동', '방동', '방현동', '법동', '변동', '복수동', '복용동', '봉곡동', '봉명동', '봉산동', '부사동', '부수동', '비래동', '비룡동', '사성동', '사정동', '산성동', '산직동', '삼괴동', '삼성동', '삼정동', '상대동', '상서동', '상소동', '석교동', '석봉동', '선화동', '성남동', '성북동', '세동', '세천동', '소제동', '소호동', '송강동', '송정동', '송촌동', '수남동', '신대동', '신동', '신봉동', '신상동', '신성동', '신안동', '신일동', '신촌동', '신탄진동', '신하동', '신흥동', '안산동', '안영동', '어남동', '어은동', '연축동', '오동', '오류동', '오정동', '옥계동', '와동', '외삼동', '용계동', '용두동', '용문동', '용산동', '용운동', '용전동', '용촌동', '용호동', '우명동', '원내동', '원동', '원신흥동', '원정동', '원촌동', '월평동', '유천동', '은행동', '읍내동', '이사동', '이현동', '인동', '자양동', '자운동', '장대동', '장동', '장안동', '장척동', '전민동', '정동', '정림동', '정생동', '주산동', '주촌동', '죽동', '중동', '중리동', '중촌동', '지족동', '직동', '천동', '추동', '추목동', '침산동', '탄방동', '탑립동', '태평동', '판암동', '평촌동', '하기동', '하소동', '학하동', '호동', '홍도동', '화암동', '황호동', '효동', '효평동', '흑석동']\n",
      "\n",
      "Missing \"dong\"s(Solar) = ['부수동', '수남동', '황호동']\n"
     ]
    }
   ],
   "source": [
    "import numpy as np\n",
    "\n",
    "# 1. Grouping 'dong' data from Solar Radiation\n",
    "\n",
    "df_dong = df.groupby(by='emd_nm').mean().reset_index()\n",
    "\n",
    "# 2. Extracting 'dong' data from JSON\n",
    "dong_dj = {}\n",
    "dong_dj_value = []\n",
    "EMD_KOR_NM = []    # list of 'dong's\n",
    "\n",
    "for key, value in dong_data.items():\n",
    "  if key != 'features':\n",
    "    dong_dj.update({key: value})\n",
    "  else:\n",
    "    for feature in dong_data['features']:\n",
    "      properties = feature['properties']\n",
    "      emd_cd = properties['EMD_CD']\n",
    "      if emd_cd[:2] == '30': # 'dong' filter : only in Daejeon\n",
    "        EMD_KOR_NM.append(properties['EMD_KOR_NM'])\n",
    "        dong_dj_value.append(feature)\n",
    "dong_dj['features'] = dong_dj_value\n",
    "\n",
    "print('# of \"dong\"s in Daejeon(JSON) = {}'.format(len(EMD_KOR_NM)))  # Wrong Value : Duplicates exist \n",
    "print(sorted(EMD_KOR_NM))  \n",
    "\n",
    "# 3. Find duplicates - geoJSON compression might have caused geometric split\n",
    "import collections\n",
    "print('\\nDuplicates are {}'.format([item for item, count in collections.Counter(EMD_KOR_NM).items() if count > 1]))\n",
    "EMD_KOR_NM = list(np.sort(np.unique(np.array(EMD_KOR_NM))))\n",
    "\n",
    "print('\\n# of  \"dong\"s in Daejeon(JSON, unique) = {}'.format(len(EMD_KOR_NM)))\n",
    "print(sorted(EMD_KOR_NM))\n",
    "\n",
    "# 4. Find missings - data from solar irradiation might have missing data\n",
    "dong_solar = df_dong['emd_nm'].unique()\n",
    "missing = []\n",
    "for dong in EMD_KOR_NM:\n",
    "  if dong not in dong_solar:\n",
    "    missing.append(dong)\n",
    "    \n",
    "print('\\nMissing \"dong\"s(Solar) = {}'.format(missing))\n",
    "\n",
    "# 5. Save list of 'dong's in json format, including duplicates,\n",
    "# because it is not important to treat them at the moment.\n",
    "with open(\"dong_dj.json\",\"w\", encoding='utf-8') as jsonfile:\n",
    "        json.dump(dong_dj,jsonfile,ensure_ascii=False)"
   ]
  },
  {
   "cell_type": "markdown",
   "metadata": {},
   "source": [
    "#### 3. Data Visualization\n",
    "> How to use colormap with `folium` marker plot : https://stackoverflow.com/questions/56876620/unsure-how-to-use-colormap-with-folium-marker-plot  \n",
    "> Colormap code-snippets : https://stackoverflow.com/questions/52911688/python-folium-choropleth-map-colors-incorrect/52981115#52981115  \n",
    "> Colormap and other code-snippets : http://incredible.ai/code-snippet/2019/03/16/GeoHash-And-GeoPandas/  \n",
    "> Color gradient code-snippets : https://stackoverflow.com/questions/25668828/how-to-create-colour-gradient-in-python  \n",
    "\n",
    "##### 3.1. Find Map Center Coordination"
   ]
  },
  {
   "cell_type": "code",
   "execution_count": 10,
   "metadata": {},
   "outputs": [
    {
     "name": "stdout",
     "output_type": "stream",
     "text": [
      "127.4013580315068 36.340743659590096\n"
     ]
    }
   ],
   "source": [
    "# center of the map\n",
    "\n",
    "lon_avg = df['lon'].mean()\n",
    "lat_avg = df['lat'].mean()\n",
    "print(lon_avg, lat_avg)"
   ]
  },
  {
   "cell_type": "markdown",
   "metadata": {},
   "source": [
    "##### 3.2. Function : Additive Color Operation "
   ]
  },
  {
   "cell_type": "code",
   "execution_count": 11,
   "metadata": {},
   "outputs": [],
   "source": [
    "def add_color(c1, c2, c3, ipol=0):\n",
    "    c1=np.array(mpl.colors.to_rgb(c1))\n",
    "    c2=np.array(mpl.colors.to_rgb(c2))\n",
    "    c3=np.array(mpl.colors.to_rgb(c3))\n",
    "    if ipol < 0.25:\n",
    "        c = c1 + 4*ipol * c2\n",
    "    elif ipol < 0.5:\n",
    "        c = (2 - 4*ipol) * c1 + c2\n",
    "    elif ipol < 0.75:\n",
    "        c = c2 + (4*ipol-2) * c3\n",
    "    else:\n",
    "        c = (4 - 4*ipol) * c2 + c3\n",
    "    \n",
    "    if c.max() > 1:\n",
    "        c = c/c.max()\n",
    "        \n",
    "    return mpl.colors.to_hex(c)"
   ]
  },
  {
   "cell_type": "markdown",
   "metadata": {},
   "source": [
    "##### 3.3. Function : Map + Admistrative Districts + Data + Customized Colormap"
   ]
  },
  {
   "cell_type": "code",
   "execution_count": 12,
   "metadata": {},
   "outputs": [],
   "source": [
    "import branca\n",
    "import branca.colormap as cm\n",
    "import random\n",
    "import matplotlib as mpl\n",
    "import matplotlib.pyplot as plt\n",
    "import numpy as np\n",
    "\n",
    "def dj_datamap(df,               # pandas DataFrame\n",
    "               col,              # column to plot in df\n",
    "               *colors,          # colors for colormap formation : [c1, c2, c3]\n",
    "               legend = None,    # legend. if None, 'col' is applied.\n",
    "               datanum = None,   # number of data to plot. if None, all data.\n",
    "               binmin = None,    # min. value of data to colorize\n",
    "               binmax = None,    # max. value of data to colorize\n",
    "               binstep = 5,      # number of bins \n",
    "               colortype = 'linear'  # 'linear' or 'step'\n",
    "              ):\n",
    "    # filename to be saved\n",
    "    filename = '{}_{}'.format(col, legend)\n",
    "    \n",
    "    # folium map\n",
    "    m = folium.Map(location=[lat_avg, lon_avg], \n",
    "                   tiles='CartoDB positron',\n",
    "                   zoom_start=11)\n",
    "\n",
    "    # style function for 'gu'\n",
    "    style_function_gu = {\n",
    "                    'opacity': 0.7,\n",
    "                    'weight':1,\n",
    "                    'fillOpacity': 1,\n",
    "                    'color': 'black',\n",
    "                    'fillColor': 'white'\n",
    "                    }\n",
    "    \n",
    "    # style function for 'dong'\n",
    "    style_function_dong = {\n",
    "                    'opacity': 0.7,\n",
    "                    'weight':1,\n",
    "                    'fillOpacity': 0,\n",
    "                    'color': 'gray',\n",
    "                    'fillColor': 'white'\n",
    "                    }\n",
    "\n",
    "    # plot: adminstrative districts 'gu'\n",
    "    folium.GeoJson(gu_dj, name='gu_dj',\n",
    "                   style_function=lambda x: style_function_gu        # style_function has to be a function which calls dictionary\n",
    "                  ).add_to(m)        # Overlay on map\n",
    "    \n",
    "    # plot : administrative districts 'dong'\n",
    "    folium.GeoJson(dong_dj, name='dong_dj',\n",
    "                   style_function=lambda x: style_function_dong        # style_function has to be a function which calls dictionary\n",
    "                  ).add_to(m)        # Overlay on map\n",
    "\n",
    "    # colormap settings\n",
    "    # - values to colorize\n",
    "    if binmin == None:\n",
    "        vmin = df[col].min()\n",
    "    else:\n",
    "        vmin = binmin\n",
    "        \n",
    "    if binmax == None:    \n",
    "        vmax = df[col].max()\n",
    "    else:\n",
    "        vmax = binmax\n",
    "    \n",
    "    # - number of data to plot\n",
    "    if datanum == None:\n",
    "        datanum = df.shape[0]\n",
    "    \n",
    "    # - colormap configuration\n",
    "    c1 = colors[0][0]\n",
    "    c2 = colors[0][1]\n",
    "    c3 = colors[0][2]\n",
    "    \n",
    "    if colortype == 'linear':\n",
    "        clrmap = cm.LinearColormap(colors=[c1, c2, c3], vmin=vmin, vmax=vmax)\n",
    "    elif colortype == 'step':\n",
    "        _colors = []\n",
    "        for i in range(binstep+1):\n",
    "            _colors.append(add_color(c1, c2, c3, i/(binstep)))\n",
    "        \n",
    "        #- colormap visualization\n",
    "        bins = np.linspace(vmin, vmax, num=binstep+1)\n",
    "    \n",
    "        fig, axes = plt.subplots(figsize=(2,4), nrows=binstep+1, ncols=2, sharex=True)\n",
    "        for i in range(binstep+1):\n",
    "            rect = axes[i][0].patch\n",
    "            rect.set_facecolor(_colors[binstep-i-1])\n",
    "            if i == binstep:\n",
    "                rect.set_alpha(0)\n",
    "            axes[i][0].set_xlabel('')\n",
    "            axes[i][0].set_ylabel('')\n",
    "            axes[i][0].set_xticks([])\n",
    "            axes[i][0].set_yticks([])\n",
    "            axes[i][0].set_xticklabels([])\n",
    "            axes[i][0].set_yticklabels([])\n",
    "            axes[i][0].spines['top'].set_visible(True)\n",
    "            axes[i][0].spines['right'].set_visible(False)\n",
    "            axes[i][0].spines['bottom'].set_visible(False)\n",
    "            axes[i][0].spines['left'].set_visible(False)\n",
    "        for i in range(binstep+1):\n",
    "            axes[i][1].text(0.1, 1, '{:d}'.format(int(bins[binstep-i])), transform=axes[i][1].transAxes, fontsize=14, va='top', ha='left')\n",
    "            axes[i][1].set_xlabel('')\n",
    "            axes[i][1].set_ylabel('')\n",
    "            axes[i][1].set_xticks([])\n",
    "            axes[i][1].set_yticks([])\n",
    "            axes[i][1].set_xticklabels([])\n",
    "            axes[i][1].set_yticklabels([])\n",
    "            axes[i][1].spines['top'].set_visible(False)\n",
    "            axes[i][1].spines['right'].set_visible(False)\n",
    "            axes[i][1].spines['bottom'].set_visible(False)\n",
    "            axes[i][1].spines['left'].set_visible(False)\n",
    "            \n",
    "        plt.subplots_adjust(wspace=0, hspace=0, left=0.05, right=0.95, top=0.99, bottom=0.12)\n",
    "        #plt.tight_layout()\n",
    "        plt.savefig('./images/{}_legend.png'.format(filename))\n",
    "        plt.show()\n",
    "        \n",
    "        clrmap = cm.StepColormap(colors=_colors, vmin=vmin, vmax=vmax,\n",
    "                                index=np.linspace(vmin, vmax, binstep+1))\n",
    "    \n",
    "    # plot : data as markers (actually, dots)\n",
    "    for idx in df.index[:datanum]:\n",
    "        # Get longitude/latitude\n",
    "        lon = df.at[idx, 'lon']\n",
    "        lat = df.at[idx, 'lat']\n",
    "\n",
    "        data = df.at[idx, col]\n",
    "       \n",
    "        folium.CircleMarker(\n",
    "            location = [lat, lon],\n",
    "            color='grey',\n",
    "            fill_color=clrmap(data),\n",
    "            fill_opacity=1,\n",
    "            radius=0.5,\n",
    "            weight=0\n",
    "        ).add_to(m)\n",
    "        \n",
    "    # legend\n",
    "    if colortype == 'linear':\n",
    "        clrmap = clrmap.to_step(index=np.linspace(vmin, vmax, num=binstep))\n",
    "    elif colortype == 'step':\n",
    "        pass\n",
    "    \n",
    "    if legend == None:\n",
    "        legend = col\n",
    "    \n",
    "    clrmap.caption=legend\n",
    "    clrmap.add_to(m)\n",
    "\n",
    "    # layer control ON\n",
    "    folium.LayerControl().add_to(m)\n",
    "    \n",
    "    # save as file\n",
    "    html2png(m, '{}.html'.format(filename), '{}.png'.format(filename))\n",
    "    \n",
    "    return _colors"
   ]
  },
  {
   "cell_type": "code",
   "execution_count": 13,
   "metadata": {},
   "outputs": [
    {
     "data": {
      "image/png": "[encoded data removed]",
      "text/plain": [
       "<Figure size 144x288 with 22 Axes>"
      ]
     },
     "metadata": {},
     "output_type": "display_data"
    },
    {
     "data": {
      "text/plain": [
       "['#0000ff',\n",
       " '#6666ff',\n",
       " '#ccccff',\n",
       " '#ffffcc',\n",
       " '#ffff66',\n",
       " '#ffff00',\n",
       " '#ffb600',\n",
       " '#ff8e00',\n",
       " '#ff7100',\n",
       " '#ff4900',\n",
       " '#ff0000']"
      ]
     },
     "execution_count": 13,
     "metadata": {},
     "output_type": "execute_result"
    }
   ],
   "source": [
    "\n",
    "colors = ['blue', 'yellow', 'red']\n",
    "dj_datamap(df, 'gro_flo_co', colors, legend='number of floors', datanum=None, binmin=0, binmax=20, binstep=10, colortype='step')"
   ]
  },
  {
   "cell_type": "markdown",
   "metadata": {},
   "source": [
    "Note : the `html` file is about 70 MB, where `png` file is only about 640 KB.  "
   ]
  }
 ],
 "metadata": {
  "kernelspec": {
   "display_name": "geocoding",
   "language": "python",
   "name": "geocoding"
  },
  "language_info": {
   "codemirror_mode": {
    "name": "ipython",
    "version": 3
   },
   "file_extension": ".py",
   "mimetype": "text/x-python",
   "name": "python",
   "nbconvert_exporter": "python",
   "pygments_lexer": "ipython3",
   "version": "3.7.3"
  }
 },
 "nbformat": 4,
 "nbformat_minor": 4
}
