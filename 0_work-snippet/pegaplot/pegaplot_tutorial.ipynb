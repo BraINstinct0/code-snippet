{
 "cells": [
  {
   "cell_type": "markdown",
   "metadata": {},
   "source": [
    "# `pegaplot` : A custom plotting API for myself\n",
    "--------------"
   ]
  },
  {
   "cell_type": "markdown",
   "metadata": {},
   "source": [
    "## **5줄 요약**\n",
    "* **Paper-level Plot Generation with 1 Line, 3 Paramameters**\n",
    "* `matplotlib`과 `seaborn`기반 custom plotting API.  \n",
    "* 한글 출력, custom labeling, 주요 데이터 추출 및 삽입 가능.  \n",
    "* bar, pie, donut, (`DataFrame`간 비교 포함) distribution, scatter plot 가능.\n",
    "* 자유도를 희생하고 효율성을 취함: 그래프를 **찍어내기**위한 API입니다.\n",
    "--------------------"
   ]
  },
  {
   "cell_type": "markdown",
   "metadata": {},
   "source": [
    "### Table of Contents ###\n",
    "[0. 개발 동기]()  \n",
    "[1. 설치 방법]()  \n",
    "[2. 사용 방법]()  \n",
    "[- 2.1. import pegaplot as pp]()  \n",
    "[- 2.2. 예제 데이터 읽기]()  \n",
    "[- 2.3. df2md()]()  \n",
    "[- 2.4. bar()]()  \n",
    "[--- 2.4.1. bar(DataFrame, column): 기본 사용법]()  \n",
    "[--- 2.4.2. xcols: 복수 column 분석]()  \n",
    "[--- 2.4.3. rols: 제약변수]()  \n",
    "[--- 2.4.4. labels: Custom Labels]()  \n",
    "[--- 2.4.5. gap: Data value 출력]()  \n",
    "  "
   ]
  },
  {
   "cell_type": "markdown",
   "metadata": {},
   "source": [
    "## 0. 개발 동기\n",
    "1. 동일 데이터로 장시간 반복작업을 하다 보니 그래프의 통일성이 훼손됩니다.\n",
    "  * 학회 발표, 논문 작성시마다 재작업이 필요했습니다.    \n",
    "2. `matplotlib` 용법을 찾기 위한 구글링을 포함해 유사 반복 작업이 많습니다.  \n",
    "  * 업무 효율성이 떨어지고 있었습니다.  \n",
    "3. 최대한 군더더기를 제외하고 필요한 기능만 남긴 함수로 만들어 사용했습니다.  \n",
    "  * 유사한 코드가 많아지다 보니 백업, 버전관리가 절실했습니다.  \n",
    "4. `github`을 통해 타인으로부터 받은 피드백이 유용한 경험이 있습니다.  \n",
    "  * 이를 재현하고자 합니다.  "
   ]
  },
  {
   "cell_type": "markdown",
   "metadata": {},
   "source": [
    "## 1. 설치 방법\n",
    "1. 본인이 관리하기 편한 곳에 디렉토리를 만듭니다.  \n",
    "2. 새로 만든 디렉토리에 `pegaplot.py`를 [다운로드](https://github.com/jehyunlee/code-snippet/blob/master/0_work-snippet/pegaplot/pegaplot.py) 받습니다.\n",
    "3. 운영체제에 따라 아래와 같은 방법으로 `python import` 환경을 설정합니다.  "
   ]
  },
  {
   "cell_type": "markdown",
   "metadata": {},
   "source": [
    "### 1.1. Windows\n",
    "1. `환경 변수 설정`에서 `PYTHONPATH`를 [링크](https://sshkim.tistory.com/158)를 참고하여 설정합니다.\n",
    "2. `명령 프롬프트`에서 `set`을 입력하여 설정을 활성화합니다."
   ]
  },
  {
   "cell_type": "markdown",
   "metadata": {},
   "source": [
    "### 1.2. Linux\n",
    "* `.bashrc`에 `PYTHONPATH`를 [링크](https://stackoverflow.com/questions/3402168/permanently-add-a-directory-to-pythonpath)와 같이 설정해 줍니다.  \n",
    "* `source .bashrc`로 설정을 활성화합니다.  "
   ]
  },
  {
   "cell_type": "markdown",
   "metadata": {},
   "source": [
    "## 2. 사용 방법"
   ]
  },
  {
   "cell_type": "markdown",
   "metadata": {},
   "source": [
    "### 2.1. `import pegaplot`으로 불러옵니다.\n",
    "* 그래프에 한글 표현이 가능해집니다. Font는 나눔고딕입니다.  \n",
    "* `seaborn`기반으로 기본 환경이 설정됩니다: `whitegrid`, `muted`, `talk`\n",
    "* 작업하시는 위치에 `images` 폴더가 있는지 확인하고 없으면 만들어줍니다. 그림들이 저장될 곳입니다.  \n",
    "* 추가 작업을 안하신다면 `matplotlib`이나 `seaborn`을 따로 부를 필요가 없습니다."
   ]
  },
  {
   "cell_type": "code",
   "execution_count": null,
   "metadata": {},
   "outputs": [],
   "source": [
    "import pegaplot as pp"
   ]
  },
  {
   "cell_type": "markdown",
   "metadata": {},
   "source": [
    "### 2.2. 그림을 그릴 데이터 파일을 불러옵니다."
   ]
  },
  {
   "cell_type": "markdown",
   "metadata": {},
   "source": [
    "#### 2.2.1. Categorical Data: Kaggle Titanic dataset\n",
    "* `kaggle`의 `titanic` `test set` 데이터를 이용하겠습니다. ([다운로드](https://github.com/jehyunlee/code-snippet/blob/master/0_work-snippet/data_sample/titanic_train.csv))\n",
    "* 편의상 작업 디렉토리에 `data`를 만들고 거기에 복사해 두었습니다.\n",
    "* 데이터를 불러오기 위해 `pandas`를 `import`합니다."
   ]
  },
  {
   "cell_type": "code",
   "execution_count": null,
   "metadata": {},
   "outputs": [],
   "source": [
    "import pandas as pd\n",
    "\n",
    "datafile = \"./data/titanic_train.csv\"\n",
    "dft = pd.read_csv(datafile)"
   ]
  },
  {
   "cell_type": "markdown",
   "metadata": {},
   "source": [
    "#### 2.2.2. Numerical Data: Scikit-learn Boston House Price\n",
    "* `scikit-learn`의 `boston house price` 데이터를 이용하겠습니다. \n",
    "* 데이터를 불러오기 위해 `scikit-learn`을 `import`합니다."
   ]
  },
  {
   "cell_type": "code",
   "execution_count": null,
   "metadata": {},
   "outputs": [],
   "source": [
    "from sklearn.datasets import load_boston\n",
    "\n",
    "boston = load_boston()\n",
    "dfX = pd.DataFrame(boston.data, columns=boston.feature_names)\n",
    "dfy = pd.DataFrame(boston.target, columns=[\"MEDV\"])\n",
    "dfb = pd.concat([dfX, dfy], axis=1)"
   ]
  },
  {
   "cell_type": "markdown",
   "metadata": {},
   "source": [
    "### 2.3. `df2md()` : `DataFrame`을 `Markdown`으로 변환해서 출력"
   ]
  },
  {
   "cell_type": "markdown",
   "metadata": {},
   "source": [
    "* `DataFrame`을 깔끔하게 출력하기 위해 `pegaplot`의 `df2md`를 `import`합니다.  \n",
    "  `import pegaplot as pp`에서 `pp.df2md()`로 사용 가능하지만,  \n",
    "  자주 쓰는 명령인 만큼 일일이 앞에 `pp.`를 붙이는 번거로움을 없애기 위해서입니다.\n",
    "* `DataFrame`을 `Markdown`으로 출력해주는 명령입니다.  \n",
    "* 웹 환경에서의 가독성을 향상시키는 효과가 있습니다."
   ]
  },
  {
   "cell_type": "code",
   "execution_count": null,
   "metadata": {},
   "outputs": [],
   "source": [
    "from pegaplot import df2md\n",
    "\n",
    "df2md(dft.head())"
   ]
  },
  {
   "cell_type": "markdown",
   "metadata": {},
   "source": [
    "* `Name`과 `Ticket`의 내용을 짧게 출력하고 싶습니다.\n",
    "* `df2md()`의 `maxlen` 옵션을 이용해봅시다. 내용이 긴 cell을 짧게 줄여주는 옵션입니다."
   ]
  },
  {
   "cell_type": "code",
   "execution_count": null,
   "metadata": {},
   "outputs": [],
   "source": [
    "df2md(dft.head(), maxlen=3)"
   ]
  },
  {
   "cell_type": "markdown",
   "metadata": {},
   "source": [
    "* `index`를 기본적으로 **(index)** 로 보여주는데, **[idx]**로 바꿔봅시다."
   ]
  },
  {
   "cell_type": "code",
   "execution_count": null,
   "metadata": {},
   "outputs": [],
   "source": [
    "df2md(dft.head(), maxlen=3, indexname=\"[idx]\")"
   ]
  },
  {
   "cell_type": "markdown",
   "metadata": {},
   "source": [
    "### 2.4. `bar()` : Categorical Data 개수 비교"
   ]
  },
  {
   "cell_type": "markdown",
   "metadata": {},
   "source": [
    "#### 2.4.1. bar(DataFrame, column): 기본 사용법\n",
    "* `seaborn`의 `barplot`을 기본으로 동작하는 데이터 수 그래프입니다.\n",
    "* 기본적으로 두 개의 변수로 작동합니다. \n",
    "* `DataFrame`이름, 숫자를 셀 `column`이름 입니다."
   ]
  },
  {
   "cell_type": "markdown",
   "metadata": {},
   "source": [
    "* 생존자와 사망자 수를 세어보도록 하겠습니다.\n",
    "* 파일명은 `cat_bar_{DataFrame}_{column}.png`이므로, `cat_bar_dft_Survived.png`입니다."
   ]
  },
  {
   "cell_type": "code",
   "execution_count": null,
   "metadata": {},
   "outputs": [],
   "source": [
    "pp.bar(dft, \"Survived\")"
   ]
  },
  {
   "cell_type": "markdown",
   "metadata": {},
   "source": [
    "#### 2.4.2. xcols: 복수 column 분석\n",
    "* `pegaplot`은 그래프를 여러 장 찍어내기 위한 API입니다.  \n",
    "  `column` 자리에 `list`를 넣어도 동작합니다. \n",
    "* 이 때 그림들은 각각의 파일로 저장됩니다.  "
   ]
  },
  {
   "cell_type": "code",
   "execution_count": null,
   "metadata": {},
   "outputs": [],
   "source": [
    "pp.bar(dft, [\"Survived\", \"Pclass\", \"SibSp\"])"
   ]
  },
  {
   "cell_type": "markdown",
   "metadata": {},
   "source": [
    "#### 2.4.3. rcols: 제약변수\n",
    "* 이번에는 `Pclass`별 `Survivor`를 구해보겠습니다.\n",
    "* 제약변수(`restrictor`)를 추가하면 됩니다.\n",
    "* 제약변수도 `list`형태로 입력할 수 있습니다.\n",
    "* 파일명은 `cat_bar_{DataFrame}_{column}_{restrictor}{value}.png`입니다."
   ]
  },
  {
   "cell_type": "code",
   "execution_count": null,
   "metadata": {},
   "outputs": [],
   "source": [
    "pp.bar(dft, \"Survived\", [\"Pclass\", \"Sex\"])"
   ]
  },
  {
   "cell_type": "markdown",
   "metadata": {},
   "source": [
    "#### 2.4.4. labels: Custom Labels\n",
    "* `labels` 옵션을 이용해서 변수명 대신 이름을 출력할 수 있습니다.\n",
    "* `dict` type으로, `{변수명:레이블}` 구조를 받습니다."
   ]
  },
  {
   "cell_type": "code",
   "execution_count": null,
   "metadata": {},
   "outputs": [],
   "source": [
    "dft.columns"
   ]
  },
  {
   "cell_type": "code",
   "execution_count": null,
   "metadata": {},
   "outputs": [],
   "source": [
    "cols = dft.columns\n",
    "labels_kr = [\n",
    "    \"승객ID\",\n",
    "    \"생존여부\",\n",
    "    \"객실등급\",\n",
    "    \"이름\",\n",
    "    \"성별\",\n",
    "    \"나이\",\n",
    "    \"형제배우자 수\",\n",
    "    \"부모자식 수\",\n",
    "    \"티켓 번호\",\n",
    "    \"요금\",\n",
    "    \"객실 번호\",\n",
    "    \"출발지\",\n",
    "]\n",
    "labelt = dict(zip(cols, labels_kr))\n",
    "print(labelt)"
   ]
  },
  {
   "cell_type": "code",
   "execution_count": null,
   "metadata": {},
   "outputs": [],
   "source": [
    "pp.bar(dft, \"Survived\", \"Pclass\", labels=labelt)"
   ]
  },
  {
   "cell_type": "markdown",
   "metadata": {},
   "source": [
    "#### 2.4.5. gap: Data value 출력\n",
    "* bar graph 상단의 숫자 위치를 조정할 수 있습니다.\n",
    "* data의 위치는 가장 큰 데이터의 높이를 기준으로 상대적으로 결정됩니다.\n",
    "* 기본값은 3 % (gap = 0.03)이며, 음수와 제거(gap=`None`)도 가능합니다."
   ]
  },
  {
   "cell_type": "code",
   "execution_count": null,
   "metadata": {},
   "outputs": [],
   "source": [
    "pp.bar(dft, \"SibSp\", gap=0.02, labels=labelt)"
   ]
  },
  {
   "cell_type": "code",
   "execution_count": null,
   "metadata": {},
   "outputs": [],
   "source": [
    "pp.bar(dft, \"SibSp\", gap=-0.1)"
   ]
  },
  {
   "cell_type": "code",
   "execution_count": null,
   "metadata": {},
   "outputs": [],
   "source": [
    "pp.bar(dft, \"SibSp\", gap=None)"
   ]
  },
  {
   "cell_type": "markdown",
   "metadata": {},
   "source": [
    "### 2.5. `pie()` : Categorical Data 개수 비교"
   ]
  },
  {
   "cell_type": "markdown",
   "metadata": {},
   "source": [
    "#### 2.5.1. bar(DataFrame, column): 기본 사용법\n",
    "* `matplotlib`의 `pie`를 기본으로 동작하는 데이터 수 그래프입니다.\n",
    "* 기본적으로 두 개의 변수로 작동합니다. \n",
    "* `DataFrame`이름, 숫자를 셀 `column`이름 입니다."
   ]
  },
  {
   "cell_type": "code",
   "execution_count": null,
   "metadata": {},
   "outputs": [],
   "source": [
    "pp.pie(dft, \"Pclass\")"
   ]
  },
  {
   "cell_type": "markdown",
   "metadata": {},
   "source": [
    "#### 2.5.2. xcols, rcols: 복수 column, 복수 제약변수\n",
    "* `bar()`와 마찬가지로 `xcols`와 `rcols`에 여러 개의 변수를 넣을 수 있습니다."
   ]
  },
  {
   "cell_type": "code",
   "execution_count": null,
   "metadata": {},
   "outputs": [],
   "source": [
    "pp.pie(dft, [\"Survived\", \"SibSp\"], [\"Pclass\"])"
   ]
  },
  {
   "cell_type": "markdown",
   "metadata": {},
   "source": [
    "#### 2.5.3. labels: Custom Labels\n",
    "* `bar()`와 마찬가지로 `dict` type의 custom label을 넣을 수 있습니다."
   ]
  },
  {
   "cell_type": "code",
   "execution_count": null,
   "metadata": {},
   "outputs": [],
   "source": [
    "pp.pie(dft, \"Pclass\", \"Survived\", labels=labelt)"
   ]
  },
  {
   "cell_type": "markdown",
   "metadata": {},
   "source": [
    "#### 2.5.4. cmap: color map\n",
    "* pie chart의 배색을 변경할 수 있습니다.\n",
    "* `matplotlib`의 [`colormap`](https://matplotlib.org/3.1.1/gallery/color/colormap_reference.html)을 사용합니다.\n",
    "* 기본값은 `'tab20'`입니다."
   ]
  },
  {
   "cell_type": "code",
   "execution_count": null,
   "metadata": {},
   "outputs": [],
   "source": [
    "pp.pie(dft, \"Pclass\", labels=labelt, cmap=\"Accent\")"
   ]
  },
  {
   "cell_type": "markdown",
   "metadata": {},
   "source": [
    "#### 2.5.5. startangle: pie chart 회전\n",
    "* pie chart의 각도를 변경할 수 있습니다.\n",
    "* `startangle`에 `degree` 단위로 각도를 넣으면 됩니다."
   ]
  },
  {
   "cell_type": "code",
   "execution_count": null,
   "metadata": {},
   "outputs": [],
   "source": [
    "pp.pie(dft, \"Pclass\", cmap=\"Set1\", startangle=-45)"
   ]
  },
  {
   "cell_type": "markdown",
   "metadata": {},
   "source": [
    "#### 2.5.6. annotate: Data Value On/OFF\n",
    "* pie chart 위에 표기되는 숫자를 끌 수 있습니다.  \n",
    "* 숫자를 끄면, 데이터가 별도의 표로 표기됩니다. \n",
    "* `labels` 옵션과 함께 사용하면 표의 변수명까지 바꾸어 보실 수 있습니다."
   ]
  },
  {
   "cell_type": "code",
   "execution_count": null,
   "metadata": {},
   "outputs": [],
   "source": [
    "pp.pie(dft, \"SibSp\", labels=labelt, annotate=False)"
   ]
  },
  {
   "cell_type": "markdown",
   "metadata": {},
   "source": [
    "#### 2.5.7. legend: 범례 On/OFF\n",
    "* pie chart 우측의 범례를 끌 수 있습니다.\n",
    "* 이 때 변수 이름은 pie chart 중앙에 위치합니다.\n",
    "* `legend=False` 입력시 나오는 오류메시지는 무시하셔도 좋습니다."
   ]
  },
  {
   "cell_type": "code",
   "execution_count": null,
   "metadata": {},
   "outputs": [],
   "source": [
    "pp.pie(dft, \"Sex\", \"Survived\", labels=labelt, legend=False)"
   ]
  },
  {
   "cell_type": "markdown",
   "metadata": {},
   "source": [
    "### 2.6. `donut()` : Categorical Data 개수 비교"
   ]
  },
  {
   "cell_type": "markdown",
   "metadata": {},
   "source": [
    "#### 2.6.1. donut(DataFrame, column): 기본 사용법\n",
    "* `pie`와 같이 `matplotlib`의 `pie`를 기본으로 동작하는 데이터 수 그래프입니다.\n",
    "* 기본적으로 두 개의 변수로 작동합니다. \n",
    "* `DataFrame`이름, 숫자를 셀 `column`이름 입니다."
   ]
  },
  {
   "cell_type": "code",
   "execution_count": null,
   "metadata": {},
   "outputs": [],
   "source": [
    "pp.donut(dft, \"Pclass\")"
   ]
  },
  {
   "cell_type": "markdown",
   "metadata": {},
   "source": [
    "#### 2.6.2. xcols, rcols: 복수 column, 복수 제약변수\n",
    "* `pegaplot`은 그래프를 여러 장 찍어내기 위한 API입니다.  \n",
    "* `bar()`와 마찬가지로 `xcols`와 `rcols`에 여러 개의 변수를 넣을 수 있습니다."
   ]
  },
  {
   "cell_type": "code",
   "execution_count": null,
   "metadata": {},
   "outputs": [],
   "source": [
    "pp.donut(dft, [\"Survived\", \"Pclass\"], [\"SibSp\", \"Sex\"])"
   ]
  },
  {
   "cell_type": "markdown",
   "metadata": {},
   "source": [
    "#### 2.6.3. labels: Custom Labels\n",
    "* `bar()`, `pie()`와 마찬가지로 `dict` type의 custom label을 넣을 수 있습니다."
   ]
  },
  {
   "cell_type": "code",
   "execution_count": null,
   "metadata": {},
   "outputs": [],
   "source": [
    "pp.donut(dft, [\"Survived\", \"Pclass\", \"SibSp\"], labels=labelt)"
   ]
  },
  {
   "cell_type": "markdown",
   "metadata": {},
   "source": [
    "#### 2.7.4. cmap: color map\n",
    "* `donut` chart의 배색을 변경할 수 있습니다.\n",
    "* `matplotlib`의 `colormap`을 사용합니다.\n",
    "* 기본값은 `'tab20'`입니다."
   ]
  },
  {
   "cell_type": "code",
   "execution_count": null,
   "metadata": {},
   "outputs": [],
   "source": [
    "pp.donut(dft, \"Pclass\", labels=labelt, cmap=\"rainbow\")"
   ]
  },
  {
   "cell_type": "markdown",
   "metadata": {},
   "source": [
    "#### 2.8.4. startangle: donut chart 회전\n",
    "* 위 그림을 보면 `label`이 `title`을 가리고 있습니다.\n",
    "* 이런 경우에 `startangle`을 조정할 수 있습니다."
   ]
  },
  {
   "cell_type": "code",
   "execution_count": null,
   "metadata": {},
   "outputs": [],
   "source": [
    "pp.donut(dft, \"Pclass\", labels=labelt, cmap=\"rainbow\", startangle=-60)"
   ]
  },
  {
   "cell_type": "markdown",
   "metadata": {},
   "source": [
    "#### 2.8.5. annotate: 꼬리표 On/Off\n",
    "* `annotation`을 원치 않는 경우 `False`로 설정하여 제거할 수 있습니다.\n",
    "* 데이터 값은 별도의 표로 출력됩니다."
   ]
  },
  {
   "cell_type": "code",
   "execution_count": null,
   "metadata": {},
   "outputs": [],
   "source": [
    "pp.donut(dft, \"Pclass\", annotate=False)"
   ]
  },
  {
   "cell_type": "markdown",
   "metadata": {},
   "source": [
    "#### 2.8.6. legend: 범례 On/Off\n",
    "* `pie` chart와 같이 `legend`로 표시할 수 있습니다.\n",
    "* 이 때 그림 중앙에 있던 변수 이름은 `legend`로 이동합니다."
   ]
  },
  {
   "cell_type": "code",
   "execution_count": null,
   "metadata": {},
   "outputs": [],
   "source": [
    "pp.donut(dft, \"SibSp\", labels=labelt, annotate=False, legend=True)"
   ]
  },
  {
   "cell_type": "markdown",
   "metadata": {},
   "source": [
    "### 2.7. `dist()` : Numerical Data Distribution"
   ]
  },
  {
   "cell_type": "markdown",
   "metadata": {},
   "source": [
    "#### 2.7.1. Numerical Data Preparation\n",
    "* 앞서 불러둔 보스턴 집값 데이터를 대상으로 `custom label (labelb)`을 작성하고,\n",
    "* `pegaplot` 기능 시연을 위해 `numerical`데이터 일부를 `categorical`로 변경합니다."
   ]
  },
  {
   "cell_type": "code",
   "execution_count": null,
   "metadata": {},
   "outputs": [],
   "source": [
    "df2md(dfb.head())"
   ]
  },
  {
   "cell_type": "code",
   "execution_count": null,
   "metadata": {},
   "outputs": [],
   "source": [
    "dfb.columns"
   ]
  },
  {
   "cell_type": "code",
   "execution_count": null,
   "metadata": {},
   "outputs": [],
   "source": [
    "cols = dfb.columns\n",
    "labels_kr = [\n",
    "    \"범죄율\",\n",
    "    \"25k ft2 초과\\n거주지역 비율\",\n",
    "    \"비상업 면적비율\",\n",
    "    \"찰스강 근교 여부\",\n",
    "    \"일산화질소 농도\",\n",
    "    \"평균 방 수\",\n",
    "    \"1940년 이전\\n주택 비율\",\n",
    "    \"직업센터까지 거리\",\n",
    "    \"고속도로까지 거리\",\n",
    "    \"재산세율\",\n",
    "    \"학생 교사 비율\",\n",
    "    \"흑인 비율\",\n",
    "    \"하위 계층 비율\",\n",
    "    \"주택 가격 (중앙값)\",\n",
    "]\n",
    "labelb = dict(zip(cols, labels_kr))\n",
    "print(labelb)"
   ]
  },
  {
   "cell_type": "markdown",
   "metadata": {},
   "source": [
    "#### 2.7.2. dist(DataFrame, columns): 기본 사용법\n",
    "* `seaborn`의 `distplot`을 기본으로 동작하는 데이터 분포 그래프입니다.\n",
    "* 기본적으로 두 개의 변수로 작동합니다. \n",
    "* `DataFrame`이름, 분포를 확인할 `columns`이름 입니다.\n",
    "* 그래프 외에도 평균, 표준편차, 최소, 최대값이 `text`로 출력됩니다."
   ]
  },
  {
   "cell_type": "code",
   "execution_count": null,
   "metadata": {},
   "outputs": [],
   "source": [
    "pp.dist(dfb, \"RM\")"
   ]
  },
  {
   "cell_type": "markdown",
   "metadata": {},
   "source": [
    "#### 2.7.3. xcols, rcols: 복수 column, 복수 제약변수\n",
    "* 앞의 그래프들과 같이 복수의 `rcols`에 대해 복수의 `xcols`를 그릴 수 있습니다.\n",
    "* `CHAS(찰스 강 근교 여부)`에 따른 `RM(평균 방 수)`를 그려봅니다."
   ]
  },
  {
   "cell_type": "code",
   "execution_count": null,
   "metadata": {},
   "outputs": [],
   "source": [
    "pp.dist(dfb, \"RM\", \"CHAS\")"
   ]
  },
  {
   "cell_type": "markdown",
   "metadata": {},
   "source": [
    "* 시연을 하기에 `categorical` 변수 갯수가 부족하므로 `CHAS(찰스강 근교 여부)`에 이어 `RM(평균 방 수)`를 `categorical`로 변환합니다.\n",
    "* `seaborn`기본 그래프와의 비교를 위해 `seaborn`으로 구현한 결과를 보면 사소한 변화를 감지할 수 있습니다."
   ]
  },
  {
   "cell_type": "code",
   "execution_count": 7,
   "metadata": {},
   "outputs": [
    {
     "data": {
      "text/plain": [
       "<matplotlib.axes._subplots.AxesSubplot at 0x7f506fc5f4d0>"
      ]
     },
     "execution_count": 7,
     "metadata": {},
     "output_type": "execute_result"
    },
    {
     "data": {
      "image/png": "[encoded data removed]",
      "text/plain": [
       "<Figure size 432x288 with 1 Axes>"
      ]
     },
     "metadata": {
      "needs_background": "light"
     },
     "output_type": "display_data"
    }
   ],
   "source": [
    "import numpy as np\n",
    "\n",
    "\n",
    "def floor(x):\n",
    "    return np.floor(x)\n",
    "\n",
    "\n",
    "dfb[\"RM\"] = dfb[\"RM\"].apply(floor)\n",
    "sns.distplot(dfb[\"RM\"])"
   ]
  },
  {
   "cell_type": "markdown",
   "metadata": {},
   "source": [
    "* `RM(평균 방 수)`가 "
   ]
  },
  {
   "cell_type": "code",
   "execution_count": 1,
   "metadata": {},
   "outputs": [
    {
     "name": "stdout",
     "output_type": "stream",
     "text": [
      "버전:  3.1.1\n",
      "설치 위치:  /opt/conda/lib/python3.7/site-packages/matplotlib/__init__.py\n",
      "설정 위치:  /root/.config/matplotlib\n",
      "캐시 위치:  /root/.cache/matplotlib\n",
      "설정 파일 위치:  /opt/conda/lib/python3.7/site-packages/matplotlib/mpl-data/matplotlibrc\n",
      "NanumGothic\n",
      "# matplotlib 한글 사용 가능\n",
      "# Seaborn Figure Style : whitegrid, muted, talk\n",
      "# Available Functions : df2md(), bar(), pie(), donut(), dist(), dists(), scatter()\n",
      "{'CRIM': '범죄율', 'ZN': '비상업 면적비율', 'INDUS': '일산화질소 농도', 'CHAS': '평균 방 수', 'NOX': '하위 계층 비율', 'RM': '흑인 비율', 'AGE': '학생 교사 비율', 'DIS': '25k ft2 초과\\n거주지역 비율', 'RAD': '찰스강 근교 여부', 'TAX': '1940년 이전\\n주택 비율', 'PTRATIO': '고속도로까지 거리', 'B': '직업센터까지 거리', 'LSTAT': '재산세율', 'MEDV': '주택 가격 (중앙값)'}\n"
     ]
    },
    {
     "data": {
      "image/png": "[encoded data removed]",
      "text/plain": [
       "<Figure size 720x72 with 1 Axes>"
      ]
     },
     "metadata": {},
     "output_type": "display_data"
    }
   ],
   "source": [
    "# test cell\n",
    "import pegaplot as pp\n",
    "import pandas as pd\n",
    "from pegaplot import df2md\n",
    "\n",
    "from sklearn.datasets import load_boston\n",
    "\n",
    "boston = load_boston()\n",
    "dfX = pd.DataFrame(boston.data, columns=boston.feature_names)\n",
    "dfy = pd.DataFrame(boston.target, columns=[\"MEDV\"])\n",
    "dfb = pd.concat([dfX, dfy], axis=1)\n",
    "\n",
    "cols = dfb.columns\n",
    "labels_kr = [\n",
    "    \"범죄율\",\n",
    "    \"비상업 면적비율\",\n",
    "    \"일산화질소 농도\",\n",
    "    \"평균 방 수\",\n",
    "    \"하위 계층 비율\",\n",
    "    \"흑인 비율\",\n",
    "    \"학생 교사 비율\",\n",
    "    \"25k ft2 초과\\n거주지역 비율\",\n",
    "    \"찰스강 근교 여부\",\n",
    "    \"1940년 이전\\n주택 비율\",\n",
    "    \"고속도로까지 거리\",\n",
    "    \"직업센터까지 거리\",\n",
    "    \"재산세율\",\n",
    "    \"주택 가격 (중앙값)\",\n",
    "]\n",
    "labelb = dict(zip(cols, labels_kr))\n",
    "print(labelb)"
   ]
  },
  {
   "cell_type": "code",
   "execution_count": 25,
   "metadata": {},
   "outputs": [
    {
     "name": "stdout",
     "output_type": "stream",
     "text": [
      "return super(ZMQInteractiveShell, self).run_cell(*args, **kwargs)\n",
      "raw_cell, store_history, silent, shell_futures)\n",
      "return runner(coro)\n",
      "coro.send(None)\n",
      "interactivity=interactivity, compiler=compiler, result=result)\n",
      "if (await self.run_code(code, result,  async_=asy)):\n",
      "exec(code_obj, self.user_global_ns, self.user_ns)\n",
      "bins=np.arange(0, 10, 0.5)\n",
      "plt.suptitle(suptitle, fontproperties=fontsuptitle, position=(0.5, 1))\n",
      "0, RM, CHAS(0.0): mean= 5.76, st.dev.= 0.77, min= 3.00, max= 8.00\n",
      "0, RM, CHAS(1.0): mean= 5.97, st.dev.= 0.86, min= 5.00, max= 8.00\n"
     ]
    },
    {
     "data": {
      "image/png": "[encoded data removed]",
      "text/plain": [
       "<Figure size 432x432 with 1 Axes>"
      ]
     },
     "metadata": {
      "needs_background": "light"
     },
     "output_type": "display_data"
    },
    {
     "data": {
      "image/png": "[encoded data removed]",
      "text/plain": [
       "<Figure size 432x432 with 1 Axes>"
      ]
     },
     "metadata": {
      "needs_background": "light"
     },
     "output_type": "display_data"
    }
   ],
   "source": [
    "pp.dist(\n",
    "    dfb, \"RM\", \"CHAS\", xlims=[3, 10], kde=True, norm_hist=True, maxbar=True, rsep=True,\n",
    "    bins=np.arange(0, 10, 0.5)\n",
    ")"
   ]
  },
  {
   "cell_type": "code",
   "execution_count": 20,
   "metadata": {},
   "outputs": [],
   "source": [
    "import seaborn as sns"
   ]
  },
  {
   "cell_type": "code",
   "execution_count": null,
   "metadata": {},
   "outputs": [],
   "source": [
    "sns.distplot()"
   ]
  },
  {
   "cell_type": "code",
   "execution_count": null,
   "metadata": {},
   "outputs": [],
   "source": [
    "# test cell\n",
    "import pegaplot as pp\n",
    "import pandas as pd\n",
    "from pegaplot import df2md\n",
    "\n",
    "datafile = \"./data/titanic_train.csv\"\n",
    "dft = pd.read_csv(datafile)\n",
    "\n",
    "pp.bar(dft, \"Survived\")"
   ]
  },
  {
   "cell_type": "code",
   "execution_count": null,
   "metadata": {},
   "outputs": [],
   "source": [
    "text = \"pp.donut(   df = dft   , 'Pclass', 'Survive')\""
   ]
  },
  {
   "cell_type": "code",
   "execution_count": null,
   "metadata": {},
   "outputs": [],
   "source": [
    "begin = text.find(\"(\") + 1\n",
    "end = text.find(\",\", begin)\n",
    "ans = text[begin:end].strip(\" \")\n",
    "if \"=\" in ans:\n",
    "    ans = ans.split(\"=\")[1]\n",
    "print(ans)"
   ]
  },
  {
   "cell_type": "code",
   "execution_count": null,
   "metadata": {},
   "outputs": [],
   "source": [
    "import matplotlib.pyplot as plt\n",
    "\n",
    "plt.style.context(\"seaborn\")"
   ]
  }
 ],
 "metadata": {
  "kernelspec": {
   "display_name": "Python 3",
   "language": "python",
   "name": "python3"
  },
  "language_info": {
   "codemirror_mode": {
    "name": "ipython",
    "version": 3
   },
   "file_extension": ".py",
   "mimetype": "text/x-python",
   "name": "python",
   "nbconvert_exporter": "python",
   "pygments_lexer": "ipython3",
   "version": "3.7.4"
  },
  "toc-autonumbering": false,
  "toc-showcode": false,
  "toc-showmarkdowntxt": false,
  "toc-showtags": false
 },
 "nbformat": 4,
 "nbformat_minor": 4
}
