{
 "cells": [
  {
   "cell_type": "markdown",
   "metadata": {},
   "source": [
    "### **Additive Color Model Operation for 3 colors**\n",
    "(2019.09.24. 07:15)"
   ]
  },
  {
   "cell_type": "markdown",
   "metadata": {},
   "source": [
    "#### 1. import libraries, and set 3 colors"
   ]
  },
  {
   "cell_type": "code",
   "execution_count": 2,
   "metadata": {},
   "outputs": [
    {
     "name": "stdout",
     "output_type": "stream",
     "text": [
      "[0.54509804 0.         0.        ] [0.         0.50196078 0.50196078] [0. 0. 1.]\n"
     ]
    }
   ],
   "source": [
    "import matplotlib as mpl\n",
    "import matplotlib.pyplot as plt\n",
    "import numpy as np\n",
    "\n",
    "c1 = 'darkred'\n",
    "c2 = 'teal'     # matplotlib defined color names\n",
    "c3 = '#0000FF'    # 'blue'\n",
    "\n",
    "c1 = np.array(mpl.colors.to_rgb(c1))\n",
    "c2 = np.array(mpl.colors.to_rgb(c2))\n",
    "c3 = np.array(mpl.colors.to_rgb(c3))\n",
    "\n",
    "print(c1, c2, c3)"
   ]
  },
  {
   "cell_type": "markdown",
   "metadata": {},
   "source": [
    "#### 2. function definition"
   ]
  },
  {
   "cell_type": "code",
   "execution_count": 33,
   "metadata": {},
   "outputs": [],
   "source": [
    "def add_color(c1, c2, c3, ipol=0):\n",
    "    c1=np.array(mpl.colors.to_rgb(c1))\n",
    "    c2=np.array(mpl.colors.to_rgb(c2))\n",
    "    c3=np.array(mpl.colors.to_rgb(c3))\n",
    "    \n",
    "    #brightness\n",
    "    def br(color):\n",
    "        brightness = 0.21*color[0] + 0.72*color[1] + 0.07*color[2]\n",
    "        return brightness\n",
    "    \n",
    "#     print(brightness(c1), brightness(c2), brightness(c3))\n",
    "    \n",
    "    if ipol < 0.5:\n",
    "        # if c1 and c2 are parallel\n",
    "        if np.dot(c1, c2) == np.linalg.norm(c1) * np.linalg.norm(c2):\n",
    "            c = 2*((0.5-ipol)*c1 + ipol*c2)\n",
    "        else:\n",
    "            if ipol < 0.25:\n",
    "                c = c1 + 4*ipol * c2\n",
    "            elif ipol < 0.5:\n",
    "                c = (2 - 4*ipol) * c1 + c2\n",
    "        # brightness calibration\n",
    "        b1 = br(c1)\n",
    "        b2 = br(c2)\n",
    "        b = 2*((0.5-ipol)*b1 + ipol*b2)\n",
    "        \n",
    "    else:\n",
    "        # if c2 and c3 are parallel\n",
    "        if np.dot(c2, c3) == np.linalg.norm(c2) * np.linalg.norm(c3):\n",
    "            c = 2*((1-ipol)*c2 + (ipol-0.5)*c3)\n",
    "        else:\n",
    "            if ipol < 0.75:\n",
    "                c = c2 + (4*ipol-2) * c3\n",
    "            else:\n",
    "                c = (4 - 4*ipol) * c2 + c3\n",
    "        # brightness calibration\n",
    "        b2 = br(c2)\n",
    "        b3 = br(c3)\n",
    "        b = 2*((1-ipol)*b2 + (ipol-0.5)*b3)\n",
    "    \n",
    "    c = c/br(c) * b\n",
    "    if c.max() > 1:\n",
    "        c = c/c.max()\n",
    "        \n",
    "    return mpl.colors.to_hex(c)"
   ]
  },
  {
   "cell_type": "markdown",
   "metadata": {},
   "source": [
    "#### 3. visualize"
   ]
  },
  {
   "cell_type": "code",
   "execution_count": 34,
   "metadata": {},
   "outputs": [
    {
     "name": "stdout",
     "output_type": "stream",
     "text": [
      "#0000ff\n",
      "#808080\n",
      "#ffff00\n",
      "#ff8000\n",
      "#ff0000\n"
     ]
    },
    {
     "data": {
      "image/png": "[encoded data removed]",
      "text/plain": [
       "<Figure size 576x360 with 1 Axes>"
      ]
     },
     "metadata": {
      "needs_background": "light"
     },
     "output_type": "display_data"
    }
   ],
   "source": [
    "%matplotlib inline\n",
    "\n",
    "c1 = 'blue'\n",
    "c2 = 'yellow'\n",
    "c3 = 'red'\n",
    "\n",
    "n = 200\n",
    "fig, ax = plt.subplots(figsize=(8, 5))\n",
    "for x in range(n+1):\n",
    "    color = add_color(c1,c2,c3, x/n)\n",
    "    if x in [0, 50, 100, 150, 200]:\n",
    "        print(color)\n",
    "    ax.axvline(x, color=color, linewidth=4) \n",
    "plt.show()"
   ]
  },
  {
   "cell_type": "code",
   "execution_count": null,
   "metadata": {},
   "outputs": [],
   "source": []
  }
 ],
 "metadata": {
  "kernelspec": {
   "display_name": "Python 3",
   "language": "python",
   "name": "python3"
  },
  "language_info": {
   "codemirror_mode": {
    "name": "ipython",
    "version": 3
   },
   "file_extension": ".py",
   "mimetype": "text/x-python",
   "name": "python",
   "nbconvert_exporter": "python",
   "pygments_lexer": "ipython3",
   "version": "3.7.3"
  }
 },
 "nbformat": 4,
 "nbformat_minor": 4
}
