{
 "cells": [
  {
   "cell_type": "markdown",
   "metadata": {},
   "source": [
    "### **Additive Color Model Operation for 3 colors**"
   ]
  },
  {
   "cell_type": "markdown",
   "metadata": {},
   "source": [
    "#### 1. import libraries, and set 3 colors"
   ]
  },
  {
   "cell_type": "code",
   "execution_count": 12,
   "metadata": {},
   "outputs": [
    {
     "name": "stdout",
     "output_type": "stream",
     "text": [
      "[0.54509804 0.         0.        ] [0.         0.50196078 0.50196078] [0. 0. 1.]\n"
     ]
    }
   ],
   "source": [
    "import matplotlib as mpl\n",
    "import matplotlib.pyplot as plt\n",
    "import numpy as np\n",
    "\n",
    "c1 = 'darkred'\n",
    "c2 = 'teal'     # matplotlib defined color names\n",
    "c3 = '#0000FF'    # 'blue'\n",
    "\n",
    "c1 = np.array(mpl.colors.to_rgb(c1))\n",
    "c2 = np.array(mpl.colors.to_rgb(c2))\n",
    "c3 = np.array(mpl.colors.to_rgb(c3))\n",
    "\n",
    "print(c1, c2, c3)"
   ]
  },
  {
   "cell_type": "markdown",
   "metadata": {},
   "source": [
    "#### 2. function definition"
   ]
  },
  {
   "cell_type": "code",
   "execution_count": 13,
   "metadata": {},
   "outputs": [],
   "source": [
    "def add_color(c1, c2, c3, ipol=0):\n",
    "    c1=np.array(mpl.colors.to_rgb(c1))\n",
    "    c2=np.array(mpl.colors.to_rgb(c2))\n",
    "    c3=np.array(mpl.colors.to_rgb(c3))\n",
    "    if ipol < 0.25:\n",
    "        c = c1 + 4*ipol * c2\n",
    "    elif ipol < 0.5:\n",
    "        c = (2 - 4*ipol) * c1 + c2\n",
    "    elif ipol < 0.75:\n",
    "        c = c2 + (4*ipol-2) * c3\n",
    "    else:\n",
    "        c = (4 - 4*ipol) * c2 + c3\n",
    "    \n",
    "    if c.max() > 1:\n",
    "        c = c/c.max()\n",
    "        \n",
    "    return mpl.colors.to_hex(c)"
   ]
  },
  {
   "cell_type": "markdown",
   "metadata": {},
   "source": [
    "#### 3. visualize"
   ]
  },
  {
   "cell_type": "code",
   "execution_count": 15,
   "metadata": {},
   "outputs": [
    {
     "name": "stdout",
     "output_type": "stream",
     "text": [
      "#8b0000\n",
      "#8b8080\n",
      "#008080\n",
      "#0055ff\n",
      "#0000ff\n"
     ]
    },
    {
     "data": {
      "image/png": "[encoded data removed]",
      "text/plain": [
       "<Figure size 576x360 with 1 Axes>"
      ]
     },
     "metadata": {
      "needs_background": "light"
     },
     "output_type": "display_data"
    }
   ],
   "source": [
    "%matplotlib inline\n",
    "\n",
    "n = 200\n",
    "fig, ax = plt.subplots(figsize=(8, 5))\n",
    "for x in range(n+1):\n",
    "    color = add_color(c1,c2,c3, x/n)\n",
    "    if x in [0, 50, 100, 150, 200]:\n",
    "        print(color)\n",
    "    ax.axvline(x, color=color, linewidth=4) \n",
    "plt.show()"
   ]
  }
 ],
 "metadata": {
  "kernelspec": {
   "display_name": "Python 3",
   "language": "python",
   "name": "python3"
  },
  "language_info": {
   "codemirror_mode": {
    "name": "ipython",
    "version": 3
   },
   "file_extension": ".py",
   "mimetype": "text/x-python",
   "name": "python",
   "nbconvert_exporter": "python",
   "pygments_lexer": "ipython3",
   "version": "3.7.3"
  }
 },
 "nbformat": 4,
 "nbformat_minor": 4
}
